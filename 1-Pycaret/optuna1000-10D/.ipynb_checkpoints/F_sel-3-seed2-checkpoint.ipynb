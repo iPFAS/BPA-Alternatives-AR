{
 "cells": [
  {
   "cell_type": "code",
   "execution_count": 1,
   "metadata": {},
   "outputs": [],
   "source": [
    "import numpy as np\n",
    "import pandas as pd\n",
    "df = pd.read_csv('descriptors-alva-66-fix.csv')\n",
    "ncol = df.shape[1]-1\n",
    "x = df.iloc[:,0:ncol]\n",
    "y = df['active']"
   ]
  },
  {
   "cell_type": "code",
   "execution_count": 2,
   "metadata": {},
   "outputs": [],
   "source": [
    "from sklearn.model_selection import train_test_split\n",
    "x_train,x_test,y_train,y_test = train_test_split(x,y,test_size = 0.2,random_state = 2)"
   ]
  },
  {
   "cell_type": "code",
   "execution_count": 3,
   "metadata": {},
   "outputs": [],
   "source": [
    "trainD = pd.concat([x_train, y_train], axis =1)\n",
    "testD = pd.concat([x_test, y_test], axis =1)"
   ]
  },
  {
   "cell_type": "code",
   "execution_count": 4,
   "metadata": {},
   "outputs": [],
   "source": [
    "F_sel = ['MAXDP',\n",
    " 'DELS',\n",
    " 'EE_B(s)',\n",
    " 'Mor14m',\n",
    " 'Mor30p',\n",
    " 'Mor04s',\n",
    " 'H3s',\n",
    " 'R3s',\n",
    " 'CATS2D_03_AL',\n",
    " 'F03[C-O]'\n",
    "]\n",
    "trainD = trainD[['MAXDP',\n",
    " 'DELS',\n",
    " 'EE_B(s)',\n",
    " 'Mor14m',\n",
    " 'Mor30p',\n",
    " 'Mor04s',\n",
    " 'H3s',\n",
    " 'R3s',\n",
    " 'CATS2D_03_AL',\n",
    " 'F03[C-O]','active']]\n",
    "testD = testD[['MAXDP',\n",
    " 'DELS',\n",
    " 'EE_B(s)',\n",
    " 'Mor14m',\n",
    " 'Mor30p',\n",
    " 'Mor04s',\n",
    " 'H3s',\n",
    " 'R3s',\n",
    " 'CATS2D_03_AL',\n",
    " 'F03[C-O]','active']]"
   ]
  },
  {
   "cell_type": "code",
   "execution_count": 5,
   "metadata": {},
   "outputs": [
    {
     "data": {
      "text/html": [
       "<style  type=\"text/css\" >\n",
       "#T_086ac_row29_col1,#T_086ac_row44_col1{\n",
       "            background-color:  lightgreen;\n",
       "        }</style><table id=\"T_086ac_\" ><thead>    <tr>        <th class=\"blank level0\" ></th>        <th class=\"col_heading level0 col0\" >Description</th>        <th class=\"col_heading level0 col1\" >Value</th>    </tr></thead><tbody>\n",
       "                <tr>\n",
       "                        <th id=\"T_086ac_level0_row0\" class=\"row_heading level0 row0\" >0</th>\n",
       "                        <td id=\"T_086ac_row0_col0\" class=\"data row0 col0\" >session_id</td>\n",
       "                        <td id=\"T_086ac_row0_col1\" class=\"data row0 col1\" >2</td>\n",
       "            </tr>\n",
       "            <tr>\n",
       "                        <th id=\"T_086ac_level0_row1\" class=\"row_heading level0 row1\" >1</th>\n",
       "                        <td id=\"T_086ac_row1_col0\" class=\"data row1 col0\" >Target</td>\n",
       "                        <td id=\"T_086ac_row1_col1\" class=\"data row1 col1\" >active</td>\n",
       "            </tr>\n",
       "            <tr>\n",
       "                        <th id=\"T_086ac_level0_row2\" class=\"row_heading level0 row2\" >2</th>\n",
       "                        <td id=\"T_086ac_row2_col0\" class=\"data row2 col0\" >Target Type</td>\n",
       "                        <td id=\"T_086ac_row2_col1\" class=\"data row2 col1\" >Binary</td>\n",
       "            </tr>\n",
       "            <tr>\n",
       "                        <th id=\"T_086ac_level0_row3\" class=\"row_heading level0 row3\" >3</th>\n",
       "                        <td id=\"T_086ac_row3_col0\" class=\"data row3 col0\" >Label Encoded</td>\n",
       "                        <td id=\"T_086ac_row3_col1\" class=\"data row3 col1\" >None</td>\n",
       "            </tr>\n",
       "            <tr>\n",
       "                        <th id=\"T_086ac_level0_row4\" class=\"row_heading level0 row4\" >4</th>\n",
       "                        <td id=\"T_086ac_row4_col0\" class=\"data row4 col0\" >Original Data</td>\n",
       "                        <td id=\"T_086ac_row4_col1\" class=\"data row4 col1\" >(52, 4)</td>\n",
       "            </tr>\n",
       "            <tr>\n",
       "                        <th id=\"T_086ac_level0_row5\" class=\"row_heading level0 row5\" >5</th>\n",
       "                        <td id=\"T_086ac_row5_col0\" class=\"data row5 col0\" >Missing Values</td>\n",
       "                        <td id=\"T_086ac_row5_col1\" class=\"data row5 col1\" >False</td>\n",
       "            </tr>\n",
       "            <tr>\n",
       "                        <th id=\"T_086ac_level0_row6\" class=\"row_heading level0 row6\" >6</th>\n",
       "                        <td id=\"T_086ac_row6_col0\" class=\"data row6 col0\" >Numeric Features</td>\n",
       "                        <td id=\"T_086ac_row6_col1\" class=\"data row6 col1\" >3</td>\n",
       "            </tr>\n",
       "            <tr>\n",
       "                        <th id=\"T_086ac_level0_row7\" class=\"row_heading level0 row7\" >7</th>\n",
       "                        <td id=\"T_086ac_row7_col0\" class=\"data row7 col0\" >Categorical Features</td>\n",
       "                        <td id=\"T_086ac_row7_col1\" class=\"data row7 col1\" >0</td>\n",
       "            </tr>\n",
       "            <tr>\n",
       "                        <th id=\"T_086ac_level0_row8\" class=\"row_heading level0 row8\" >8</th>\n",
       "                        <td id=\"T_086ac_row8_col0\" class=\"data row8 col0\" >Ordinal Features</td>\n",
       "                        <td id=\"T_086ac_row8_col1\" class=\"data row8 col1\" >False</td>\n",
       "            </tr>\n",
       "            <tr>\n",
       "                        <th id=\"T_086ac_level0_row9\" class=\"row_heading level0 row9\" >9</th>\n",
       "                        <td id=\"T_086ac_row9_col0\" class=\"data row9 col0\" >High Cardinality Features</td>\n",
       "                        <td id=\"T_086ac_row9_col1\" class=\"data row9 col1\" >False</td>\n",
       "            </tr>\n",
       "            <tr>\n",
       "                        <th id=\"T_086ac_level0_row10\" class=\"row_heading level0 row10\" >10</th>\n",
       "                        <td id=\"T_086ac_row10_col0\" class=\"data row10 col0\" >High Cardinality Method</td>\n",
       "                        <td id=\"T_086ac_row10_col1\" class=\"data row10 col1\" >None</td>\n",
       "            </tr>\n",
       "            <tr>\n",
       "                        <th id=\"T_086ac_level0_row11\" class=\"row_heading level0 row11\" >11</th>\n",
       "                        <td id=\"T_086ac_row11_col0\" class=\"data row11 col0\" >Transformed Train Set</td>\n",
       "                        <td id=\"T_086ac_row11_col1\" class=\"data row11 col1\" >(52, 3)</td>\n",
       "            </tr>\n",
       "            <tr>\n",
       "                        <th id=\"T_086ac_level0_row12\" class=\"row_heading level0 row12\" >12</th>\n",
       "                        <td id=\"T_086ac_row12_col0\" class=\"data row12 col0\" >Transformed Test Set</td>\n",
       "                        <td id=\"T_086ac_row12_col1\" class=\"data row12 col1\" >(14, 3)</td>\n",
       "            </tr>\n",
       "            <tr>\n",
       "                        <th id=\"T_086ac_level0_row13\" class=\"row_heading level0 row13\" >13</th>\n",
       "                        <td id=\"T_086ac_row13_col0\" class=\"data row13 col0\" >Shuffle Train-Test</td>\n",
       "                        <td id=\"T_086ac_row13_col1\" class=\"data row13 col1\" >True</td>\n",
       "            </tr>\n",
       "            <tr>\n",
       "                        <th id=\"T_086ac_level0_row14\" class=\"row_heading level0 row14\" >14</th>\n",
       "                        <td id=\"T_086ac_row14_col0\" class=\"data row14 col0\" >Stratify Train-Test</td>\n",
       "                        <td id=\"T_086ac_row14_col1\" class=\"data row14 col1\" >False</td>\n",
       "            </tr>\n",
       "            <tr>\n",
       "                        <th id=\"T_086ac_level0_row15\" class=\"row_heading level0 row15\" >15</th>\n",
       "                        <td id=\"T_086ac_row15_col0\" class=\"data row15 col0\" >Fold Generator</td>\n",
       "                        <td id=\"T_086ac_row15_col1\" class=\"data row15 col1\" >StratifiedKFold</td>\n",
       "            </tr>\n",
       "            <tr>\n",
       "                        <th id=\"T_086ac_level0_row16\" class=\"row_heading level0 row16\" >16</th>\n",
       "                        <td id=\"T_086ac_row16_col0\" class=\"data row16 col0\" >Fold Number</td>\n",
       "                        <td id=\"T_086ac_row16_col1\" class=\"data row16 col1\" >5</td>\n",
       "            </tr>\n",
       "            <tr>\n",
       "                        <th id=\"T_086ac_level0_row17\" class=\"row_heading level0 row17\" >17</th>\n",
       "                        <td id=\"T_086ac_row17_col0\" class=\"data row17 col0\" >CPU Jobs</td>\n",
       "                        <td id=\"T_086ac_row17_col1\" class=\"data row17 col1\" >-1</td>\n",
       "            </tr>\n",
       "            <tr>\n",
       "                        <th id=\"T_086ac_level0_row18\" class=\"row_heading level0 row18\" >18</th>\n",
       "                        <td id=\"T_086ac_row18_col0\" class=\"data row18 col0\" >Use GPU</td>\n",
       "                        <td id=\"T_086ac_row18_col1\" class=\"data row18 col1\" >False</td>\n",
       "            </tr>\n",
       "            <tr>\n",
       "                        <th id=\"T_086ac_level0_row19\" class=\"row_heading level0 row19\" >19</th>\n",
       "                        <td id=\"T_086ac_row19_col0\" class=\"data row19 col0\" >Log Experiment</td>\n",
       "                        <td id=\"T_086ac_row19_col1\" class=\"data row19 col1\" >False</td>\n",
       "            </tr>\n",
       "            <tr>\n",
       "                        <th id=\"T_086ac_level0_row20\" class=\"row_heading level0 row20\" >20</th>\n",
       "                        <td id=\"T_086ac_row20_col0\" class=\"data row20 col0\" >Experiment Name</td>\n",
       "                        <td id=\"T_086ac_row20_col1\" class=\"data row20 col1\" >clf-default-name</td>\n",
       "            </tr>\n",
       "            <tr>\n",
       "                        <th id=\"T_086ac_level0_row21\" class=\"row_heading level0 row21\" >21</th>\n",
       "                        <td id=\"T_086ac_row21_col0\" class=\"data row21 col0\" >USI</td>\n",
       "                        <td id=\"T_086ac_row21_col1\" class=\"data row21 col1\" >0099</td>\n",
       "            </tr>\n",
       "            <tr>\n",
       "                        <th id=\"T_086ac_level0_row22\" class=\"row_heading level0 row22\" >22</th>\n",
       "                        <td id=\"T_086ac_row22_col0\" class=\"data row22 col0\" >Imputation Type</td>\n",
       "                        <td id=\"T_086ac_row22_col1\" class=\"data row22 col1\" >simple</td>\n",
       "            </tr>\n",
       "            <tr>\n",
       "                        <th id=\"T_086ac_level0_row23\" class=\"row_heading level0 row23\" >23</th>\n",
       "                        <td id=\"T_086ac_row23_col0\" class=\"data row23 col0\" >Iterative Imputation Iteration</td>\n",
       "                        <td id=\"T_086ac_row23_col1\" class=\"data row23 col1\" >None</td>\n",
       "            </tr>\n",
       "            <tr>\n",
       "                        <th id=\"T_086ac_level0_row24\" class=\"row_heading level0 row24\" >24</th>\n",
       "                        <td id=\"T_086ac_row24_col0\" class=\"data row24 col0\" >Numeric Imputer</td>\n",
       "                        <td id=\"T_086ac_row24_col1\" class=\"data row24 col1\" >mean</td>\n",
       "            </tr>\n",
       "            <tr>\n",
       "                        <th id=\"T_086ac_level0_row25\" class=\"row_heading level0 row25\" >25</th>\n",
       "                        <td id=\"T_086ac_row25_col0\" class=\"data row25 col0\" >Iterative Imputation Numeric Model</td>\n",
       "                        <td id=\"T_086ac_row25_col1\" class=\"data row25 col1\" >None</td>\n",
       "            </tr>\n",
       "            <tr>\n",
       "                        <th id=\"T_086ac_level0_row26\" class=\"row_heading level0 row26\" >26</th>\n",
       "                        <td id=\"T_086ac_row26_col0\" class=\"data row26 col0\" >Categorical Imputer</td>\n",
       "                        <td id=\"T_086ac_row26_col1\" class=\"data row26 col1\" >constant</td>\n",
       "            </tr>\n",
       "            <tr>\n",
       "                        <th id=\"T_086ac_level0_row27\" class=\"row_heading level0 row27\" >27</th>\n",
       "                        <td id=\"T_086ac_row27_col0\" class=\"data row27 col0\" >Iterative Imputation Categorical Model</td>\n",
       "                        <td id=\"T_086ac_row27_col1\" class=\"data row27 col1\" >None</td>\n",
       "            </tr>\n",
       "            <tr>\n",
       "                        <th id=\"T_086ac_level0_row28\" class=\"row_heading level0 row28\" >28</th>\n",
       "                        <td id=\"T_086ac_row28_col0\" class=\"data row28 col0\" >Unknown Categoricals Handling</td>\n",
       "                        <td id=\"T_086ac_row28_col1\" class=\"data row28 col1\" >least_frequent</td>\n",
       "            </tr>\n",
       "            <tr>\n",
       "                        <th id=\"T_086ac_level0_row29\" class=\"row_heading level0 row29\" >29</th>\n",
       "                        <td id=\"T_086ac_row29_col0\" class=\"data row29 col0\" >Normalize</td>\n",
       "                        <td id=\"T_086ac_row29_col1\" class=\"data row29 col1\" >True</td>\n",
       "            </tr>\n",
       "            <tr>\n",
       "                        <th id=\"T_086ac_level0_row30\" class=\"row_heading level0 row30\" >30</th>\n",
       "                        <td id=\"T_086ac_row30_col0\" class=\"data row30 col0\" >Normalize Method</td>\n",
       "                        <td id=\"T_086ac_row30_col1\" class=\"data row30 col1\" >zscore</td>\n",
       "            </tr>\n",
       "            <tr>\n",
       "                        <th id=\"T_086ac_level0_row31\" class=\"row_heading level0 row31\" >31</th>\n",
       "                        <td id=\"T_086ac_row31_col0\" class=\"data row31 col0\" >Transformation</td>\n",
       "                        <td id=\"T_086ac_row31_col1\" class=\"data row31 col1\" >False</td>\n",
       "            </tr>\n",
       "            <tr>\n",
       "                        <th id=\"T_086ac_level0_row32\" class=\"row_heading level0 row32\" >32</th>\n",
       "                        <td id=\"T_086ac_row32_col0\" class=\"data row32 col0\" >Transformation Method</td>\n",
       "                        <td id=\"T_086ac_row32_col1\" class=\"data row32 col1\" >None</td>\n",
       "            </tr>\n",
       "            <tr>\n",
       "                        <th id=\"T_086ac_level0_row33\" class=\"row_heading level0 row33\" >33</th>\n",
       "                        <td id=\"T_086ac_row33_col0\" class=\"data row33 col0\" >PCA</td>\n",
       "                        <td id=\"T_086ac_row33_col1\" class=\"data row33 col1\" >False</td>\n",
       "            </tr>\n",
       "            <tr>\n",
       "                        <th id=\"T_086ac_level0_row34\" class=\"row_heading level0 row34\" >34</th>\n",
       "                        <td id=\"T_086ac_row34_col0\" class=\"data row34 col0\" >PCA Method</td>\n",
       "                        <td id=\"T_086ac_row34_col1\" class=\"data row34 col1\" >None</td>\n",
       "            </tr>\n",
       "            <tr>\n",
       "                        <th id=\"T_086ac_level0_row35\" class=\"row_heading level0 row35\" >35</th>\n",
       "                        <td id=\"T_086ac_row35_col0\" class=\"data row35 col0\" >PCA Components</td>\n",
       "                        <td id=\"T_086ac_row35_col1\" class=\"data row35 col1\" >None</td>\n",
       "            </tr>\n",
       "            <tr>\n",
       "                        <th id=\"T_086ac_level0_row36\" class=\"row_heading level0 row36\" >36</th>\n",
       "                        <td id=\"T_086ac_row36_col0\" class=\"data row36 col0\" >Ignore Low Variance</td>\n",
       "                        <td id=\"T_086ac_row36_col1\" class=\"data row36 col1\" >False</td>\n",
       "            </tr>\n",
       "            <tr>\n",
       "                        <th id=\"T_086ac_level0_row37\" class=\"row_heading level0 row37\" >37</th>\n",
       "                        <td id=\"T_086ac_row37_col0\" class=\"data row37 col0\" >Combine Rare Levels</td>\n",
       "                        <td id=\"T_086ac_row37_col1\" class=\"data row37 col1\" >False</td>\n",
       "            </tr>\n",
       "            <tr>\n",
       "                        <th id=\"T_086ac_level0_row38\" class=\"row_heading level0 row38\" >38</th>\n",
       "                        <td id=\"T_086ac_row38_col0\" class=\"data row38 col0\" >Rare Level Threshold</td>\n",
       "                        <td id=\"T_086ac_row38_col1\" class=\"data row38 col1\" >None</td>\n",
       "            </tr>\n",
       "            <tr>\n",
       "                        <th id=\"T_086ac_level0_row39\" class=\"row_heading level0 row39\" >39</th>\n",
       "                        <td id=\"T_086ac_row39_col0\" class=\"data row39 col0\" >Numeric Binning</td>\n",
       "                        <td id=\"T_086ac_row39_col1\" class=\"data row39 col1\" >False</td>\n",
       "            </tr>\n",
       "            <tr>\n",
       "                        <th id=\"T_086ac_level0_row40\" class=\"row_heading level0 row40\" >40</th>\n",
       "                        <td id=\"T_086ac_row40_col0\" class=\"data row40 col0\" >Remove Outliers</td>\n",
       "                        <td id=\"T_086ac_row40_col1\" class=\"data row40 col1\" >False</td>\n",
       "            </tr>\n",
       "            <tr>\n",
       "                        <th id=\"T_086ac_level0_row41\" class=\"row_heading level0 row41\" >41</th>\n",
       "                        <td id=\"T_086ac_row41_col0\" class=\"data row41 col0\" >Outliers Threshold</td>\n",
       "                        <td id=\"T_086ac_row41_col1\" class=\"data row41 col1\" >None</td>\n",
       "            </tr>\n",
       "            <tr>\n",
       "                        <th id=\"T_086ac_level0_row42\" class=\"row_heading level0 row42\" >42</th>\n",
       "                        <td id=\"T_086ac_row42_col0\" class=\"data row42 col0\" >Remove Multicollinearity</td>\n",
       "                        <td id=\"T_086ac_row42_col1\" class=\"data row42 col1\" >False</td>\n",
       "            </tr>\n",
       "            <tr>\n",
       "                        <th id=\"T_086ac_level0_row43\" class=\"row_heading level0 row43\" >43</th>\n",
       "                        <td id=\"T_086ac_row43_col0\" class=\"data row43 col0\" >Multicollinearity Threshold</td>\n",
       "                        <td id=\"T_086ac_row43_col1\" class=\"data row43 col1\" >None</td>\n",
       "            </tr>\n",
       "            <tr>\n",
       "                        <th id=\"T_086ac_level0_row44\" class=\"row_heading level0 row44\" >44</th>\n",
       "                        <td id=\"T_086ac_row44_col0\" class=\"data row44 col0\" >Remove Perfect Collinearity</td>\n",
       "                        <td id=\"T_086ac_row44_col1\" class=\"data row44 col1\" >True</td>\n",
       "            </tr>\n",
       "            <tr>\n",
       "                        <th id=\"T_086ac_level0_row45\" class=\"row_heading level0 row45\" >45</th>\n",
       "                        <td id=\"T_086ac_row45_col0\" class=\"data row45 col0\" >Clustering</td>\n",
       "                        <td id=\"T_086ac_row45_col1\" class=\"data row45 col1\" >False</td>\n",
       "            </tr>\n",
       "            <tr>\n",
       "                        <th id=\"T_086ac_level0_row46\" class=\"row_heading level0 row46\" >46</th>\n",
       "                        <td id=\"T_086ac_row46_col0\" class=\"data row46 col0\" >Clustering Iteration</td>\n",
       "                        <td id=\"T_086ac_row46_col1\" class=\"data row46 col1\" >None</td>\n",
       "            </tr>\n",
       "            <tr>\n",
       "                        <th id=\"T_086ac_level0_row47\" class=\"row_heading level0 row47\" >47</th>\n",
       "                        <td id=\"T_086ac_row47_col0\" class=\"data row47 col0\" >Polynomial Features</td>\n",
       "                        <td id=\"T_086ac_row47_col1\" class=\"data row47 col1\" >False</td>\n",
       "            </tr>\n",
       "            <tr>\n",
       "                        <th id=\"T_086ac_level0_row48\" class=\"row_heading level0 row48\" >48</th>\n",
       "                        <td id=\"T_086ac_row48_col0\" class=\"data row48 col0\" >Polynomial Degree</td>\n",
       "                        <td id=\"T_086ac_row48_col1\" class=\"data row48 col1\" >None</td>\n",
       "            </tr>\n",
       "            <tr>\n",
       "                        <th id=\"T_086ac_level0_row49\" class=\"row_heading level0 row49\" >49</th>\n",
       "                        <td id=\"T_086ac_row49_col0\" class=\"data row49 col0\" >Trignometry Features</td>\n",
       "                        <td id=\"T_086ac_row49_col1\" class=\"data row49 col1\" >False</td>\n",
       "            </tr>\n",
       "            <tr>\n",
       "                        <th id=\"T_086ac_level0_row50\" class=\"row_heading level0 row50\" >50</th>\n",
       "                        <td id=\"T_086ac_row50_col0\" class=\"data row50 col0\" >Polynomial Threshold</td>\n",
       "                        <td id=\"T_086ac_row50_col1\" class=\"data row50 col1\" >None</td>\n",
       "            </tr>\n",
       "            <tr>\n",
       "                        <th id=\"T_086ac_level0_row51\" class=\"row_heading level0 row51\" >51</th>\n",
       "                        <td id=\"T_086ac_row51_col0\" class=\"data row51 col0\" >Group Features</td>\n",
       "                        <td id=\"T_086ac_row51_col1\" class=\"data row51 col1\" >False</td>\n",
       "            </tr>\n",
       "            <tr>\n",
       "                        <th id=\"T_086ac_level0_row52\" class=\"row_heading level0 row52\" >52</th>\n",
       "                        <td id=\"T_086ac_row52_col0\" class=\"data row52 col0\" >Feature Selection</td>\n",
       "                        <td id=\"T_086ac_row52_col1\" class=\"data row52 col1\" >False</td>\n",
       "            </tr>\n",
       "            <tr>\n",
       "                        <th id=\"T_086ac_level0_row53\" class=\"row_heading level0 row53\" >53</th>\n",
       "                        <td id=\"T_086ac_row53_col0\" class=\"data row53 col0\" >Feature Selection Method</td>\n",
       "                        <td id=\"T_086ac_row53_col1\" class=\"data row53 col1\" >classic</td>\n",
       "            </tr>\n",
       "            <tr>\n",
       "                        <th id=\"T_086ac_level0_row54\" class=\"row_heading level0 row54\" >54</th>\n",
       "                        <td id=\"T_086ac_row54_col0\" class=\"data row54 col0\" >Features Selection Threshold</td>\n",
       "                        <td id=\"T_086ac_row54_col1\" class=\"data row54 col1\" >None</td>\n",
       "            </tr>\n",
       "            <tr>\n",
       "                        <th id=\"T_086ac_level0_row55\" class=\"row_heading level0 row55\" >55</th>\n",
       "                        <td id=\"T_086ac_row55_col0\" class=\"data row55 col0\" >Feature Interaction</td>\n",
       "                        <td id=\"T_086ac_row55_col1\" class=\"data row55 col1\" >False</td>\n",
       "            </tr>\n",
       "            <tr>\n",
       "                        <th id=\"T_086ac_level0_row56\" class=\"row_heading level0 row56\" >56</th>\n",
       "                        <td id=\"T_086ac_row56_col0\" class=\"data row56 col0\" >Feature Ratio</td>\n",
       "                        <td id=\"T_086ac_row56_col1\" class=\"data row56 col1\" >False</td>\n",
       "            </tr>\n",
       "            <tr>\n",
       "                        <th id=\"T_086ac_level0_row57\" class=\"row_heading level0 row57\" >57</th>\n",
       "                        <td id=\"T_086ac_row57_col0\" class=\"data row57 col0\" >Interaction Threshold</td>\n",
       "                        <td id=\"T_086ac_row57_col1\" class=\"data row57 col1\" >None</td>\n",
       "            </tr>\n",
       "            <tr>\n",
       "                        <th id=\"T_086ac_level0_row58\" class=\"row_heading level0 row58\" >58</th>\n",
       "                        <td id=\"T_086ac_row58_col0\" class=\"data row58 col0\" >Fix Imbalance</td>\n",
       "                        <td id=\"T_086ac_row58_col1\" class=\"data row58 col1\" >False</td>\n",
       "            </tr>\n",
       "            <tr>\n",
       "                        <th id=\"T_086ac_level0_row59\" class=\"row_heading level0 row59\" >59</th>\n",
       "                        <td id=\"T_086ac_row59_col0\" class=\"data row59 col0\" >Fix Imbalance Method</td>\n",
       "                        <td id=\"T_086ac_row59_col1\" class=\"data row59 col1\" >SMOTE</td>\n",
       "            </tr>\n",
       "    </tbody></table>"
      ],
      "text/plain": [
       "<pandas.io.formats.style.Styler at 0x1c4fa7a95c8>"
      ]
     },
     "metadata": {},
     "output_type": "display_data"
    }
   ],
   "source": [
    "from pycaret.classification import *\n",
    "cm = setup(data = trainD, target = 'active', train_size = 0.8, test_data = testD, silent=True,  numeric_features = F_sel,\n",
    "             session_id=2, fold_strategy = 'stratifiedkfold', fold = 5, fold_shuffle = True, normalize = True)"
   ]
  },
  {
   "cell_type": "code",
   "execution_count": 6,
   "metadata": {},
   "outputs": [
    {
     "data": {
      "text/html": [
       "<style  type=\"text/css\" >\n",
       "    #T_46922_ th {\n",
       "          text-align: left;\n",
       "    }#T_46922_row0_col0,#T_46922_row0_col2,#T_46922_row0_col3,#T_46922_row0_col4,#T_46922_row0_col5,#T_46922_row0_col7,#T_46922_row1_col0,#T_46922_row1_col1,#T_46922_row1_col2,#T_46922_row1_col3,#T_46922_row1_col4,#T_46922_row1_col6,#T_46922_row1_col7,#T_46922_row2_col0,#T_46922_row2_col1,#T_46922_row2_col3,#T_46922_row2_col5,#T_46922_row2_col6,#T_46922_row3_col0,#T_46922_row3_col1,#T_46922_row3_col2,#T_46922_row3_col3,#T_46922_row3_col5,#T_46922_row3_col6,#T_46922_row3_col7,#T_46922_row4_col0,#T_46922_row4_col1,#T_46922_row4_col2,#T_46922_row4_col3,#T_46922_row4_col4,#T_46922_row4_col5,#T_46922_row4_col6,#T_46922_row4_col7,#T_46922_row5_col0,#T_46922_row5_col1,#T_46922_row5_col2,#T_46922_row5_col3,#T_46922_row5_col4,#T_46922_row5_col5,#T_46922_row5_col6,#T_46922_row5_col7,#T_46922_row6_col0,#T_46922_row6_col1,#T_46922_row6_col2,#T_46922_row6_col3,#T_46922_row6_col4,#T_46922_row6_col5,#T_46922_row6_col6,#T_46922_row6_col7,#T_46922_row7_col0,#T_46922_row7_col1,#T_46922_row7_col2,#T_46922_row7_col3,#T_46922_row7_col4,#T_46922_row7_col5,#T_46922_row7_col6,#T_46922_row7_col7,#T_46922_row8_col0,#T_46922_row8_col1,#T_46922_row8_col2,#T_46922_row8_col3,#T_46922_row8_col4,#T_46922_row8_col5,#T_46922_row8_col6,#T_46922_row8_col7,#T_46922_row9_col0,#T_46922_row9_col1,#T_46922_row9_col2,#T_46922_row9_col3,#T_46922_row9_col4,#T_46922_row9_col5,#T_46922_row9_col6,#T_46922_row9_col7,#T_46922_row10_col0,#T_46922_row10_col1,#T_46922_row10_col2,#T_46922_row10_col3,#T_46922_row10_col4,#T_46922_row10_col5,#T_46922_row10_col6,#T_46922_row10_col7,#T_46922_row11_col0,#T_46922_row11_col1,#T_46922_row11_col2,#T_46922_row11_col3,#T_46922_row11_col4,#T_46922_row11_col5,#T_46922_row11_col6,#T_46922_row11_col7,#T_46922_row12_col0,#T_46922_row12_col1,#T_46922_row12_col2,#T_46922_row12_col3,#T_46922_row12_col4,#T_46922_row12_col5,#T_46922_row12_col6,#T_46922_row12_col7,#T_46922_row13_col0,#T_46922_row13_col1,#T_46922_row13_col2,#T_46922_row13_col3,#T_46922_row13_col4,#T_46922_row13_col5,#T_46922_row13_col6,#T_46922_row13_col7,#T_46922_row14_col0,#T_46922_row14_col1,#T_46922_row14_col2,#T_46922_row14_col3,#T_46922_row14_col4,#T_46922_row14_col5,#T_46922_row14_col6,#T_46922_row14_col7,#T_46922_row15_col0,#T_46922_row15_col1,#T_46922_row15_col2,#T_46922_row15_col4,#T_46922_row15_col5,#T_46922_row15_col6,#T_46922_row15_col7{\n",
       "            text-align:  left;\n",
       "            text-align:  left;\n",
       "        }#T_46922_row0_col1,#T_46922_row0_col6,#T_46922_row1_col5,#T_46922_row2_col2,#T_46922_row2_col4,#T_46922_row2_col7,#T_46922_row3_col4,#T_46922_row15_col3{\n",
       "            text-align:  left;\n",
       "            text-align:  left;\n",
       "            background-color:  yellow;\n",
       "        }#T_46922_row0_col8,#T_46922_row2_col8,#T_46922_row3_col8,#T_46922_row4_col8,#T_46922_row6_col8,#T_46922_row7_col8,#T_46922_row9_col8,#T_46922_row10_col8,#T_46922_row11_col8,#T_46922_row13_col8,#T_46922_row14_col8{\n",
       "            text-align:  left;\n",
       "            text-align:  left;\n",
       "            background-color:  lightgrey;\n",
       "        }#T_46922_row1_col8,#T_46922_row5_col8,#T_46922_row8_col8,#T_46922_row12_col8,#T_46922_row15_col8{\n",
       "            text-align:  left;\n",
       "            text-align:  left;\n",
       "            background-color:  yellow;\n",
       "            background-color:  lightgrey;\n",
       "        }</style><table id=\"T_46922_\" ><thead>    <tr>        <th class=\"blank level0\" ></th>        <th class=\"col_heading level0 col0\" >Model</th>        <th class=\"col_heading level0 col1\" >Accuracy</th>        <th class=\"col_heading level0 col2\" >AUC</th>        <th class=\"col_heading level0 col3\" >Recall</th>        <th class=\"col_heading level0 col4\" >Prec.</th>        <th class=\"col_heading level0 col5\" >F1</th>        <th class=\"col_heading level0 col6\" >Kappa</th>        <th class=\"col_heading level0 col7\" >MCC</th>        <th class=\"col_heading level0 col8\" >TT (Sec)</th>    </tr></thead><tbody>\n",
       "                <tr>\n",
       "                        <th id=\"T_46922_level0_row0\" class=\"row_heading level0 row0\" >xgboost</th>\n",
       "                        <td id=\"T_46922_row0_col0\" class=\"data row0 col0\" >Extreme Gradient Boosting</td>\n",
       "                        <td id=\"T_46922_row0_col1\" class=\"data row0 col1\" >0.8636</td>\n",
       "                        <td id=\"T_46922_row0_col2\" class=\"data row0 col2\" >0.9107</td>\n",
       "                        <td id=\"T_46922_row0_col3\" class=\"data row0 col3\" >0.9429</td>\n",
       "                        <td id=\"T_46922_row0_col4\" class=\"data row0 col4\" >0.8714</td>\n",
       "                        <td id=\"T_46922_row0_col5\" class=\"data row0 col5\" >0.9008</td>\n",
       "                        <td id=\"T_46922_row0_col6\" class=\"data row0 col6\" >0.6824</td>\n",
       "                        <td id=\"T_46922_row0_col7\" class=\"data row0 col7\" >0.7076</td>\n",
       "                        <td id=\"T_46922_row0_col8\" class=\"data row0 col8\" >0.1080</td>\n",
       "            </tr>\n",
       "            <tr>\n",
       "                        <th id=\"T_46922_level0_row1\" class=\"row_heading level0 row1\" >qda</th>\n",
       "                        <td id=\"T_46922_row1_col0\" class=\"data row1 col0\" >Quadratic Discriminant Analysis</td>\n",
       "                        <td id=\"T_46922_row1_col1\" class=\"data row1 col1\" >0.8618</td>\n",
       "                        <td id=\"T_46922_row1_col2\" class=\"data row1 col2\" >0.8881</td>\n",
       "                        <td id=\"T_46922_row1_col3\" class=\"data row1 col3\" >0.9714</td>\n",
       "                        <td id=\"T_46922_row1_col4\" class=\"data row1 col4\" >0.8548</td>\n",
       "                        <td id=\"T_46922_row1_col5\" class=\"data row1 col5\" >0.9048</td>\n",
       "                        <td id=\"T_46922_row1_col6\" class=\"data row1 col6\" >0.6678</td>\n",
       "                        <td id=\"T_46922_row1_col7\" class=\"data row1 col7\" >0.7012</td>\n",
       "                        <td id=\"T_46922_row1_col8\" class=\"data row1 col8\" >0.0040</td>\n",
       "            </tr>\n",
       "            <tr>\n",
       "                        <th id=\"T_46922_level0_row2\" class=\"row_heading level0 row2\" >catboost</th>\n",
       "                        <td id=\"T_46922_row2_col0\" class=\"data row2 col0\" >CatBoost Classifier</td>\n",
       "                        <td id=\"T_46922_row2_col1\" class=\"data row2 col1\" >0.8618</td>\n",
       "                        <td id=\"T_46922_row2_col2\" class=\"data row2 col2\" >0.9714</td>\n",
       "                        <td id=\"T_46922_row2_col3\" class=\"data row2 col3\" >0.9429</td>\n",
       "                        <td id=\"T_46922_row2_col4\" class=\"data row2 col4\" >0.8889</td>\n",
       "                        <td id=\"T_46922_row2_col5\" class=\"data row2 col5\" >0.9042</td>\n",
       "                        <td id=\"T_46922_row2_col6\" class=\"data row2 col6\" >0.6587</td>\n",
       "                        <td id=\"T_46922_row2_col7\" class=\"data row2 col7\" >0.7095</td>\n",
       "                        <td id=\"T_46922_row2_col8\" class=\"data row2 col8\" >0.1860</td>\n",
       "            </tr>\n",
       "            <tr>\n",
       "                        <th id=\"T_46922_level0_row3\" class=\"row_heading level0 row3\" >rf</th>\n",
       "                        <td id=\"T_46922_row3_col0\" class=\"data row3 col0\" >Random Forest Classifier</td>\n",
       "                        <td id=\"T_46922_row3_col1\" class=\"data row3 col1\" >0.8436</td>\n",
       "                        <td id=\"T_46922_row3_col2\" class=\"data row3 col2\" >0.9536</td>\n",
       "                        <td id=\"T_46922_row3_col3\" class=\"data row3 col3\" >0.9143</td>\n",
       "                        <td id=\"T_46922_row3_col4\" class=\"data row3 col4\" >0.8889</td>\n",
       "                        <td id=\"T_46922_row3_col5\" class=\"data row3 col5\" >0.8863</td>\n",
       "                        <td id=\"T_46922_row3_col6\" class=\"data row3 col6\" >0.6250</td>\n",
       "                        <td id=\"T_46922_row3_col7\" class=\"data row3 col7\" >0.6819</td>\n",
       "                        <td id=\"T_46922_row3_col8\" class=\"data row3 col8\" >0.1560</td>\n",
       "            </tr>\n",
       "            <tr>\n",
       "                        <th id=\"T_46922_level0_row4\" class=\"row_heading level0 row4\" >lr</th>\n",
       "                        <td id=\"T_46922_row4_col0\" class=\"data row4 col0\" >Logistic Regression</td>\n",
       "                        <td id=\"T_46922_row4_col1\" class=\"data row4 col1\" >0.8236</td>\n",
       "                        <td id=\"T_46922_row4_col2\" class=\"data row4 col2\" >0.8286</td>\n",
       "                        <td id=\"T_46922_row4_col3\" class=\"data row4 col3\" >0.9714</td>\n",
       "                        <td id=\"T_46922_row4_col4\" class=\"data row4 col4\" >0.8289</td>\n",
       "                        <td id=\"T_46922_row4_col5\" class=\"data row4 col5\" >0.8843</td>\n",
       "                        <td id=\"T_46922_row4_col6\" class=\"data row4 col6\" >0.5257</td>\n",
       "                        <td id=\"T_46922_row4_col7\" class=\"data row4 col7\" >0.5667</td>\n",
       "                        <td id=\"T_46922_row4_col8\" class=\"data row4 col8\" >0.5580</td>\n",
       "            </tr>\n",
       "            <tr>\n",
       "                        <th id=\"T_46922_level0_row5\" class=\"row_heading level0 row5\" >nb</th>\n",
       "                        <td id=\"T_46922_row5_col0\" class=\"data row5 col0\" >Naive Bayes</td>\n",
       "                        <td id=\"T_46922_row5_col1\" class=\"data row5 col1\" >0.8236</td>\n",
       "                        <td id=\"T_46922_row5_col2\" class=\"data row5 col2\" >0.9131</td>\n",
       "                        <td id=\"T_46922_row5_col3\" class=\"data row5 col3\" >0.9714</td>\n",
       "                        <td id=\"T_46922_row5_col4\" class=\"data row5 col4\" >0.8289</td>\n",
       "                        <td id=\"T_46922_row5_col5\" class=\"data row5 col5\" >0.8843</td>\n",
       "                        <td id=\"T_46922_row5_col6\" class=\"data row5 col6\" >0.5257</td>\n",
       "                        <td id=\"T_46922_row5_col7\" class=\"data row5 col7\" >0.5667</td>\n",
       "                        <td id=\"T_46922_row5_col8\" class=\"data row5 col8\" >0.0040</td>\n",
       "            </tr>\n",
       "            <tr>\n",
       "                        <th id=\"T_46922_level0_row6\" class=\"row_heading level0 row6\" >lightgbm</th>\n",
       "                        <td id=\"T_46922_row6_col0\" class=\"data row6 col0\" >Light Gradient Boosting Machine</td>\n",
       "                        <td id=\"T_46922_row6_col1\" class=\"data row6 col1\" >0.8109</td>\n",
       "                        <td id=\"T_46922_row6_col2\" class=\"data row6 col2\" >0.8369</td>\n",
       "                        <td id=\"T_46922_row6_col3\" class=\"data row6 col3\" >0.9429</td>\n",
       "                        <td id=\"T_46922_row6_col4\" class=\"data row6 col4\" >0.8257</td>\n",
       "                        <td id=\"T_46922_row6_col5\" class=\"data row6 col5\" >0.8712</td>\n",
       "                        <td id=\"T_46922_row6_col6\" class=\"data row6 col6\" >0.5168</td>\n",
       "                        <td id=\"T_46922_row6_col7\" class=\"data row6 col7\" >0.5440</td>\n",
       "                        <td id=\"T_46922_row6_col8\" class=\"data row6 col8\" >0.1500</td>\n",
       "            </tr>\n",
       "            <tr>\n",
       "                        <th id=\"T_46922_level0_row7\" class=\"row_heading level0 row7\" >knn</th>\n",
       "                        <td id=\"T_46922_row7_col0\" class=\"data row7 col0\" >K Neighbors Classifier</td>\n",
       "                        <td id=\"T_46922_row7_col1\" class=\"data row7 col1\" >0.8055</td>\n",
       "                        <td id=\"T_46922_row7_col2\" class=\"data row7 col2\" >0.8643</td>\n",
       "                        <td id=\"T_46922_row7_col3\" class=\"data row7 col3\" >0.9143</td>\n",
       "                        <td id=\"T_46922_row7_col4\" class=\"data row7 col4\" >0.8483</td>\n",
       "                        <td id=\"T_46922_row7_col5\" class=\"data row7 col5\" >0.8627</td>\n",
       "                        <td id=\"T_46922_row7_col6\" class=\"data row7 col6\" >0.5012</td>\n",
       "                        <td id=\"T_46922_row7_col7\" class=\"data row7 col7\" >0.5420</td>\n",
       "                        <td id=\"T_46922_row7_col8\" class=\"data row7 col8\" >0.4580</td>\n",
       "            </tr>\n",
       "            <tr>\n",
       "                        <th id=\"T_46922_level0_row8\" class=\"row_heading level0 row8\" >ridge</th>\n",
       "                        <td id=\"T_46922_row8_col0\" class=\"data row8 col0\" >Ridge Classifier</td>\n",
       "                        <td id=\"T_46922_row8_col1\" class=\"data row8 col1\" >0.8036</td>\n",
       "                        <td id=\"T_46922_row8_col2\" class=\"data row8 col2\" >0.0000</td>\n",
       "                        <td id=\"T_46922_row8_col3\" class=\"data row8 col3\" >0.9714</td>\n",
       "                        <td id=\"T_46922_row8_col4\" class=\"data row8 col4\" >0.8003</td>\n",
       "                        <td id=\"T_46922_row8_col5\" class=\"data row8 col5\" >0.8711</td>\n",
       "                        <td id=\"T_46922_row8_col6\" class=\"data row8 col6\" >0.4739</td>\n",
       "                        <td id=\"T_46922_row8_col7\" class=\"data row8 col7\" >0.5111</td>\n",
       "                        <td id=\"T_46922_row8_col8\" class=\"data row8 col8\" >0.0040</td>\n",
       "            </tr>\n",
       "            <tr>\n",
       "                        <th id=\"T_46922_level0_row9\" class=\"row_heading level0 row9\" >lda</th>\n",
       "                        <td id=\"T_46922_row9_col0\" class=\"data row9 col0\" >Linear Discriminant Analysis</td>\n",
       "                        <td id=\"T_46922_row9_col1\" class=\"data row9 col1\" >0.8036</td>\n",
       "                        <td id=\"T_46922_row9_col2\" class=\"data row9 col2\" >0.8024</td>\n",
       "                        <td id=\"T_46922_row9_col3\" class=\"data row9 col3\" >0.9714</td>\n",
       "                        <td id=\"T_46922_row9_col4\" class=\"data row9 col4\" >0.8003</td>\n",
       "                        <td id=\"T_46922_row9_col5\" class=\"data row9 col5\" >0.8711</td>\n",
       "                        <td id=\"T_46922_row9_col6\" class=\"data row9 col6\" >0.4739</td>\n",
       "                        <td id=\"T_46922_row9_col7\" class=\"data row9 col7\" >0.5111</td>\n",
       "                        <td id=\"T_46922_row9_col8\" class=\"data row9 col8\" >0.0060</td>\n",
       "            </tr>\n",
       "            <tr>\n",
       "                        <th id=\"T_46922_level0_row10\" class=\"row_heading level0 row10\" >ada</th>\n",
       "                        <td id=\"T_46922_row10_col0\" class=\"data row10 col0\" >Ada Boost Classifier</td>\n",
       "                        <td id=\"T_46922_row10_col1\" class=\"data row10 col1\" >0.7636</td>\n",
       "                        <td id=\"T_46922_row10_col2\" class=\"data row10 col2\" >0.8381</td>\n",
       "                        <td id=\"T_46922_row10_col3\" class=\"data row10 col3\" >0.8571</td>\n",
       "                        <td id=\"T_46922_row10_col4\" class=\"data row10 col4\" >0.8262</td>\n",
       "                        <td id=\"T_46922_row10_col5\" class=\"data row10 col5\" >0.8321</td>\n",
       "                        <td id=\"T_46922_row10_col6\" class=\"data row10 col6\" >0.4342</td>\n",
       "                        <td id=\"T_46922_row10_col7\" class=\"data row10 col7\" >0.4660</td>\n",
       "                        <td id=\"T_46922_row10_col8\" class=\"data row10 col8\" >0.0160</td>\n",
       "            </tr>\n",
       "            <tr>\n",
       "                        <th id=\"T_46922_level0_row11\" class=\"row_heading level0 row11\" >et</th>\n",
       "                        <td id=\"T_46922_row11_col0\" class=\"data row11 col0\" >Extra Trees Classifier</td>\n",
       "                        <td id=\"T_46922_row11_col1\" class=\"data row11 col1\" >0.7509</td>\n",
       "                        <td id=\"T_46922_row11_col2\" class=\"data row11 col2\" >0.8625</td>\n",
       "                        <td id=\"T_46922_row11_col3\" class=\"data row11 col3\" >0.8571</td>\n",
       "                        <td id=\"T_46922_row11_col4\" class=\"data row11 col4\" >0.8032</td>\n",
       "                        <td id=\"T_46922_row11_col5\" class=\"data row11 col5\" >0.8160</td>\n",
       "                        <td id=\"T_46922_row11_col6\" class=\"data row11 col6\" >0.4161</td>\n",
       "                        <td id=\"T_46922_row11_col7\" class=\"data row11 col7\" >0.4691</td>\n",
       "                        <td id=\"T_46922_row11_col8\" class=\"data row11 col8\" >0.1640</td>\n",
       "            </tr>\n",
       "            <tr>\n",
       "                        <th id=\"T_46922_level0_row12\" class=\"row_heading level0 row12\" >dt</th>\n",
       "                        <td id=\"T_46922_row12_col0\" class=\"data row12 col0\" >Decision Tree Classifier</td>\n",
       "                        <td id=\"T_46922_row12_col1\" class=\"data row12 col1\" >0.7273</td>\n",
       "                        <td id=\"T_46922_row12_col2\" class=\"data row12 col2\" >0.7083</td>\n",
       "                        <td id=\"T_46922_row12_col3\" class=\"data row12 col3\" >0.8000</td>\n",
       "                        <td id=\"T_46922_row12_col4\" class=\"data row12 col4\" >0.8414</td>\n",
       "                        <td id=\"T_46922_row12_col5\" class=\"data row12 col5\" >0.7935</td>\n",
       "                        <td id=\"T_46922_row12_col6\" class=\"data row12 col6\" >0.3815</td>\n",
       "                        <td id=\"T_46922_row12_col7\" class=\"data row12 col7\" >0.4100</td>\n",
       "                        <td id=\"T_46922_row12_col8\" class=\"data row12 col8\" >0.0040</td>\n",
       "            </tr>\n",
       "            <tr>\n",
       "                        <th id=\"T_46922_level0_row13\" class=\"row_heading level0 row13\" >gbc</th>\n",
       "                        <td id=\"T_46922_row13_col0\" class=\"data row13 col0\" >Gradient Boosting Classifier</td>\n",
       "                        <td id=\"T_46922_row13_col1\" class=\"data row13 col1\" >0.7273</td>\n",
       "                        <td id=\"T_46922_row13_col2\" class=\"data row13 col2\" >0.8738</td>\n",
       "                        <td id=\"T_46922_row13_col3\" class=\"data row13 col3\" >0.8286</td>\n",
       "                        <td id=\"T_46922_row13_col4\" class=\"data row13 col4\" >0.7976</td>\n",
       "                        <td id=\"T_46922_row13_col5\" class=\"data row13 col5\" >0.8010</td>\n",
       "                        <td id=\"T_46922_row13_col6\" class=\"data row13 col6\" >0.3592</td>\n",
       "                        <td id=\"T_46922_row13_col7\" class=\"data row13 col7\" >0.3943</td>\n",
       "                        <td id=\"T_46922_row13_col8\" class=\"data row13 col8\" >0.0120</td>\n",
       "            </tr>\n",
       "            <tr>\n",
       "                        <th id=\"T_46922_level0_row14\" class=\"row_heading level0 row14\" >svm</th>\n",
       "                        <td id=\"T_46922_row14_col0\" class=\"data row14 col0\" >SVM - Linear Kernel</td>\n",
       "                        <td id=\"T_46922_row14_col1\" class=\"data row14 col1\" >0.7091</td>\n",
       "                        <td id=\"T_46922_row14_col2\" class=\"data row14 col2\" >0.0000</td>\n",
       "                        <td id=\"T_46922_row14_col3\" class=\"data row14 col3\" >0.7143</td>\n",
       "                        <td id=\"T_46922_row14_col4\" class=\"data row14 col4\" >0.8806</td>\n",
       "                        <td id=\"T_46922_row14_col5\" class=\"data row14 col5\" >0.7031</td>\n",
       "                        <td id=\"T_46922_row14_col6\" class=\"data row14 col6\" >0.4387</td>\n",
       "                        <td id=\"T_46922_row14_col7\" class=\"data row14 col7\" >0.5226</td>\n",
       "                        <td id=\"T_46922_row14_col8\" class=\"data row14 col8\" >0.0060</td>\n",
       "            </tr>\n",
       "            <tr>\n",
       "                        <th id=\"T_46922_level0_row15\" class=\"row_heading level0 row15\" >dummy</th>\n",
       "                        <td id=\"T_46922_row15_col0\" class=\"data row15 col0\" >Dummy Classifier</td>\n",
       "                        <td id=\"T_46922_row15_col1\" class=\"data row15 col1\" >0.6545</td>\n",
       "                        <td id=\"T_46922_row15_col2\" class=\"data row15 col2\" >0.5000</td>\n",
       "                        <td id=\"T_46922_row15_col3\" class=\"data row15 col3\" >1.0000</td>\n",
       "                        <td id=\"T_46922_row15_col4\" class=\"data row15 col4\" >0.6545</td>\n",
       "                        <td id=\"T_46922_row15_col5\" class=\"data row15 col5\" >0.7905</td>\n",
       "                        <td id=\"T_46922_row15_col6\" class=\"data row15 col6\" >0.0000</td>\n",
       "                        <td id=\"T_46922_row15_col7\" class=\"data row15 col7\" >0.0000</td>\n",
       "                        <td id=\"T_46922_row15_col8\" class=\"data row15 col8\" >0.0040</td>\n",
       "            </tr>\n",
       "    </tbody></table>"
      ],
      "text/plain": [
       "<pandas.io.formats.style.Styler at 0x1f7050a4748>"
      ]
     },
     "metadata": {},
     "output_type": "display_data"
    },
    {
     "data": {
      "text/plain": [
       "XGBClassifier(base_score=0.5, booster='gbtree', colsample_bylevel=1,\n",
       "              colsample_bynode=1, colsample_bytree=1, gamma=0, gpu_id=-1,\n",
       "              importance_type='gain', interaction_constraints='',\n",
       "              learning_rate=0.300000012, max_delta_step=0, max_depth=6,\n",
       "              min_child_weight=1, missing=nan, monotone_constraints='()',\n",
       "              n_estimators=100, n_jobs=-1, num_parallel_tree=1,\n",
       "              objective='binary:logistic', random_state=2, reg_alpha=0,\n",
       "              reg_lambda=1, scale_pos_weight=1, subsample=1, tree_method='auto',\n",
       "              use_label_encoder=True, validate_parameters=1, verbosity=0)"
      ]
     },
     "execution_count": 6,
     "metadata": {},
     "output_type": "execute_result"
    }
   ],
   "source": [
    "compare_models()"
   ]
  },
  {
   "cell_type": "code",
   "execution_count": 7,
   "metadata": {},
   "outputs": [
    {
     "data": {
      "text/html": [
       "<style  type=\"text/css\" >\n",
       "#T_e12eb_row5_col0,#T_e12eb_row5_col1,#T_e12eb_row5_col2,#T_e12eb_row5_col3,#T_e12eb_row5_col4,#T_e12eb_row5_col5,#T_e12eb_row5_col6{\n",
       "            background:  yellow;\n",
       "        }</style><table id=\"T_e12eb_\" ><thead>    <tr>        <th class=\"blank level0\" ></th>        <th class=\"col_heading level0 col0\" >Accuracy</th>        <th class=\"col_heading level0 col1\" >AUC</th>        <th class=\"col_heading level0 col2\" >Recall</th>        <th class=\"col_heading level0 col3\" >Prec.</th>        <th class=\"col_heading level0 col4\" >F1</th>        <th class=\"col_heading level0 col5\" >Kappa</th>        <th class=\"col_heading level0 col6\" >MCC</th>    </tr>    <tr>        <th class=\"index_name level0\" >Fold</th>        <th class=\"blank\" ></th>        <th class=\"blank\" ></th>        <th class=\"blank\" ></th>        <th class=\"blank\" ></th>        <th class=\"blank\" ></th>        <th class=\"blank\" ></th>        <th class=\"blank\" ></th>    </tr></thead><tbody>\n",
       "                <tr>\n",
       "                        <th id=\"T_e12eb_level0_row0\" class=\"row_heading level0 row0\" >0</th>\n",
       "                        <td id=\"T_e12eb_row0_col0\" class=\"data row0 col0\" >0.6364</td>\n",
       "                        <td id=\"T_e12eb_row0_col1\" class=\"data row0 col1\" >1.0000</td>\n",
       "                        <td id=\"T_e12eb_row0_col2\" class=\"data row0 col2\" >1.0000</td>\n",
       "                        <td id=\"T_e12eb_row0_col3\" class=\"data row0 col3\" >0.6364</td>\n",
       "                        <td id=\"T_e12eb_row0_col4\" class=\"data row0 col4\" >0.7778</td>\n",
       "                        <td id=\"T_e12eb_row0_col5\" class=\"data row0 col5\" >0.0000</td>\n",
       "                        <td id=\"T_e12eb_row0_col6\" class=\"data row0 col6\" >0.0000</td>\n",
       "            </tr>\n",
       "            <tr>\n",
       "                        <th id=\"T_e12eb_level0_row1\" class=\"row_heading level0 row1\" >1</th>\n",
       "                        <td id=\"T_e12eb_row1_col0\" class=\"data row1 col0\" >0.6364</td>\n",
       "                        <td id=\"T_e12eb_row1_col1\" class=\"data row1 col1\" >0.9643</td>\n",
       "                        <td id=\"T_e12eb_row1_col2\" class=\"data row1 col2\" >1.0000</td>\n",
       "                        <td id=\"T_e12eb_row1_col3\" class=\"data row1 col3\" >0.6364</td>\n",
       "                        <td id=\"T_e12eb_row1_col4\" class=\"data row1 col4\" >0.7778</td>\n",
       "                        <td id=\"T_e12eb_row1_col5\" class=\"data row1 col5\" >0.0000</td>\n",
       "                        <td id=\"T_e12eb_row1_col6\" class=\"data row1 col6\" >0.0000</td>\n",
       "            </tr>\n",
       "            <tr>\n",
       "                        <th id=\"T_e12eb_level0_row2\" class=\"row_heading level0 row2\" >2</th>\n",
       "                        <td id=\"T_e12eb_row2_col0\" class=\"data row2 col0\" >0.7000</td>\n",
       "                        <td id=\"T_e12eb_row2_col1\" class=\"data row2 col1\" >0.9048</td>\n",
       "                        <td id=\"T_e12eb_row2_col2\" class=\"data row2 col2\" >1.0000</td>\n",
       "                        <td id=\"T_e12eb_row2_col3\" class=\"data row2 col3\" >0.7000</td>\n",
       "                        <td id=\"T_e12eb_row2_col4\" class=\"data row2 col4\" >0.8235</td>\n",
       "                        <td id=\"T_e12eb_row2_col5\" class=\"data row2 col5\" >0.0000</td>\n",
       "                        <td id=\"T_e12eb_row2_col6\" class=\"data row2 col6\" >0.0000</td>\n",
       "            </tr>\n",
       "            <tr>\n",
       "                        <th id=\"T_e12eb_level0_row3\" class=\"row_heading level0 row3\" >3</th>\n",
       "                        <td id=\"T_e12eb_row3_col0\" class=\"data row3 col0\" >0.7000</td>\n",
       "                        <td id=\"T_e12eb_row3_col1\" class=\"data row3 col1\" >0.9524</td>\n",
       "                        <td id=\"T_e12eb_row3_col2\" class=\"data row3 col2\" >1.0000</td>\n",
       "                        <td id=\"T_e12eb_row3_col3\" class=\"data row3 col3\" >0.7000</td>\n",
       "                        <td id=\"T_e12eb_row3_col4\" class=\"data row3 col4\" >0.8235</td>\n",
       "                        <td id=\"T_e12eb_row3_col5\" class=\"data row3 col5\" >0.0000</td>\n",
       "                        <td id=\"T_e12eb_row3_col6\" class=\"data row3 col6\" >0.0000</td>\n",
       "            </tr>\n",
       "            <tr>\n",
       "                        <th id=\"T_e12eb_level0_row4\" class=\"row_heading level0 row4\" >4</th>\n",
       "                        <td id=\"T_e12eb_row4_col0\" class=\"data row4 col0\" >0.6000</td>\n",
       "                        <td id=\"T_e12eb_row4_col1\" class=\"data row4 col1\" >0.7500</td>\n",
       "                        <td id=\"T_e12eb_row4_col2\" class=\"data row4 col2\" >1.0000</td>\n",
       "                        <td id=\"T_e12eb_row4_col3\" class=\"data row4 col3\" >0.6000</td>\n",
       "                        <td id=\"T_e12eb_row4_col4\" class=\"data row4 col4\" >0.7500</td>\n",
       "                        <td id=\"T_e12eb_row4_col5\" class=\"data row4 col5\" >0.0000</td>\n",
       "                        <td id=\"T_e12eb_row4_col6\" class=\"data row4 col6\" >0.0000</td>\n",
       "            </tr>\n",
       "            <tr>\n",
       "                        <th id=\"T_e12eb_level0_row5\" class=\"row_heading level0 row5\" >Mean</th>\n",
       "                        <td id=\"T_e12eb_row5_col0\" class=\"data row5 col0\" >0.6545</td>\n",
       "                        <td id=\"T_e12eb_row5_col1\" class=\"data row5 col1\" >0.9143</td>\n",
       "                        <td id=\"T_e12eb_row5_col2\" class=\"data row5 col2\" >1.0000</td>\n",
       "                        <td id=\"T_e12eb_row5_col3\" class=\"data row5 col3\" >0.6545</td>\n",
       "                        <td id=\"T_e12eb_row5_col4\" class=\"data row5 col4\" >0.7905</td>\n",
       "                        <td id=\"T_e12eb_row5_col5\" class=\"data row5 col5\" >0.0000</td>\n",
       "                        <td id=\"T_e12eb_row5_col6\" class=\"data row5 col6\" >0.0000</td>\n",
       "            </tr>\n",
       "            <tr>\n",
       "                        <th id=\"T_e12eb_level0_row6\" class=\"row_heading level0 row6\" >Std</th>\n",
       "                        <td id=\"T_e12eb_row6_col0\" class=\"data row6 col0\" >0.0394</td>\n",
       "                        <td id=\"T_e12eb_row6_col1\" class=\"data row6 col1\" >0.0876</td>\n",
       "                        <td id=\"T_e12eb_row6_col2\" class=\"data row6 col2\" >0.0000</td>\n",
       "                        <td id=\"T_e12eb_row6_col3\" class=\"data row6 col3\" >0.0394</td>\n",
       "                        <td id=\"T_e12eb_row6_col4\" class=\"data row6 col4\" >0.0288</td>\n",
       "                        <td id=\"T_e12eb_row6_col5\" class=\"data row6 col5\" >0.0000</td>\n",
       "                        <td id=\"T_e12eb_row6_col6\" class=\"data row6 col6\" >0.0000</td>\n",
       "            </tr>\n",
       "    </tbody></table>"
      ],
      "text/plain": [
       "<pandas.io.formats.style.Styler at 0x1f705ecf8c8>"
      ]
     },
     "metadata": {},
     "output_type": "display_data"
    },
    {
     "data": {
      "text/html": [
       "<style  type=\"text/css\" >\n",
       "</style><table id=\"T_06cd2_\" ><thead>    <tr>        <th class=\"blank level0\" ></th>        <th class=\"col_heading level0 col0\" >Model</th>        <th class=\"col_heading level0 col1\" >Accuracy</th>        <th class=\"col_heading level0 col2\" >AUC</th>        <th class=\"col_heading level0 col3\" >Recall</th>        <th class=\"col_heading level0 col4\" >Prec.</th>        <th class=\"col_heading level0 col5\" >F1</th>        <th class=\"col_heading level0 col6\" >Kappa</th>        <th class=\"col_heading level0 col7\" >MCC</th>    </tr></thead><tbody>\n",
       "                <tr>\n",
       "                        <th id=\"T_06cd2_level0_row0\" class=\"row_heading level0 row0\" >0</th>\n",
       "                        <td id=\"T_06cd2_row0_col0\" class=\"data row0 col0\" >MLP Classifier</td>\n",
       "                        <td id=\"T_06cd2_row0_col1\" class=\"data row0 col1\" >0.4286</td>\n",
       "                        <td id=\"T_06cd2_row0_col2\" class=\"data row0 col2\" >0.7292</td>\n",
       "                        <td id=\"T_06cd2_row0_col3\" class=\"data row0 col3\" >1.0000</td>\n",
       "                        <td id=\"T_06cd2_row0_col4\" class=\"data row0 col4\" >0.4286</td>\n",
       "                        <td id=\"T_06cd2_row0_col5\" class=\"data row0 col5\" >0.6000</td>\n",
       "                        <td id=\"T_06cd2_row0_col6\" class=\"data row0 col6\" >0.0000</td>\n",
       "                        <td id=\"T_06cd2_row0_col7\" class=\"data row0 col7\" >0.0000</td>\n",
       "            </tr>\n",
       "    </tbody></table>"
      ],
      "text/plain": [
       "<pandas.io.formats.style.Styler at 0x1f706f02f08>"
      ]
     },
     "metadata": {},
     "output_type": "display_data"
    },
    {
     "data": {
      "text/html": [
       "<div>\n",
       "<style scoped>\n",
       "    .dataframe tbody tr th:only-of-type {\n",
       "        vertical-align: middle;\n",
       "    }\n",
       "\n",
       "    .dataframe tbody tr th {\n",
       "        vertical-align: top;\n",
       "    }\n",
       "\n",
       "    .dataframe thead th {\n",
       "        text-align: right;\n",
       "    }\n",
       "</style>\n",
       "<table border=\"1\" class=\"dataframe\">\n",
       "  <thead>\n",
       "    <tr style=\"text-align: right;\">\n",
       "      <th></th>\n",
       "      <th>EE_B(s)</th>\n",
       "      <th>Mor04s</th>\n",
       "      <th>CATS2D_03_AL</th>\n",
       "      <th>active</th>\n",
       "      <th>Label</th>\n",
       "      <th>Score</th>\n",
       "    </tr>\n",
       "  </thead>\n",
       "  <tbody>\n",
       "    <tr>\n",
       "      <th>0</th>\n",
       "      <td>-0.234570</td>\n",
       "      <td>-0.591072</td>\n",
       "      <td>0.619516</td>\n",
       "      <td>1</td>\n",
       "      <td>1</td>\n",
       "      <td>0.6931</td>\n",
       "    </tr>\n",
       "    <tr>\n",
       "      <th>1</th>\n",
       "      <td>-0.221482</td>\n",
       "      <td>0.198355</td>\n",
       "      <td>-0.428121</td>\n",
       "      <td>1</td>\n",
       "      <td>1</td>\n",
       "      <td>0.6930</td>\n",
       "    </tr>\n",
       "    <tr>\n",
       "      <th>2</th>\n",
       "      <td>1.257415</td>\n",
       "      <td>1.297082</td>\n",
       "      <td>1.667152</td>\n",
       "      <td>0</td>\n",
       "      <td>1</td>\n",
       "      <td>0.6913</td>\n",
       "    </tr>\n",
       "    <tr>\n",
       "      <th>3</th>\n",
       "      <td>1.205065</td>\n",
       "      <td>1.221826</td>\n",
       "      <td>2.190970</td>\n",
       "      <td>0</td>\n",
       "      <td>1</td>\n",
       "      <td>0.6912</td>\n",
       "    </tr>\n",
       "    <tr>\n",
       "      <th>4</th>\n",
       "      <td>0.118795</td>\n",
       "      <td>-0.221569</td>\n",
       "      <td>0.095698</td>\n",
       "      <td>0</td>\n",
       "      <td>1</td>\n",
       "      <td>0.6928</td>\n",
       "    </tr>\n",
       "    <tr>\n",
       "      <th>5</th>\n",
       "      <td>-1.176876</td>\n",
       "      <td>-0.124490</td>\n",
       "      <td>-1.475757</td>\n",
       "      <td>1</td>\n",
       "      <td>1</td>\n",
       "      <td>0.6939</td>\n",
       "    </tr>\n",
       "    <tr>\n",
       "      <th>6</th>\n",
       "      <td>1.100364</td>\n",
       "      <td>0.100523</td>\n",
       "      <td>1.667152</td>\n",
       "      <td>0</td>\n",
       "      <td>1</td>\n",
       "      <td>0.6918</td>\n",
       "    </tr>\n",
       "    <tr>\n",
       "      <th>7</th>\n",
       "      <td>0.144970</td>\n",
       "      <td>-0.399171</td>\n",
       "      <td>0.095698</td>\n",
       "      <td>1</td>\n",
       "      <td>1</td>\n",
       "      <td>0.6928</td>\n",
       "    </tr>\n",
       "    <tr>\n",
       "      <th>8</th>\n",
       "      <td>3.456131</td>\n",
       "      <td>2.252823</td>\n",
       "      <td>-0.428121</td>\n",
       "      <td>1</td>\n",
       "      <td>1</td>\n",
       "      <td>0.6898</td>\n",
       "    </tr>\n",
       "    <tr>\n",
       "      <th>9</th>\n",
       "      <td>0.472160</td>\n",
       "      <td>0.356391</td>\n",
       "      <td>0.357607</td>\n",
       "      <td>0</td>\n",
       "      <td>1</td>\n",
       "      <td>0.6923</td>\n",
       "    </tr>\n",
       "    <tr>\n",
       "      <th>10</th>\n",
       "      <td>-1.307752</td>\n",
       "      <td>-0.515817</td>\n",
       "      <td>-0.428121</td>\n",
       "      <td>0</td>\n",
       "      <td>1</td>\n",
       "      <td>0.6939</td>\n",
       "    </tr>\n",
       "    <tr>\n",
       "      <th>11</th>\n",
       "      <td>-0.313096</td>\n",
       "      <td>-0.571506</td>\n",
       "      <td>-0.428121</td>\n",
       "      <td>1</td>\n",
       "      <td>1</td>\n",
       "      <td>0.6933</td>\n",
       "    </tr>\n",
       "    <tr>\n",
       "      <th>12</th>\n",
       "      <td>0.131883</td>\n",
       "      <td>-0.299834</td>\n",
       "      <td>0.357607</td>\n",
       "      <td>0</td>\n",
       "      <td>1</td>\n",
       "      <td>0.6928</td>\n",
       "    </tr>\n",
       "    <tr>\n",
       "      <th>13</th>\n",
       "      <td>1.296678</td>\n",
       "      <td>0.935856</td>\n",
       "      <td>1.667152</td>\n",
       "      <td>0</td>\n",
       "      <td>1</td>\n",
       "      <td>0.6913</td>\n",
       "    </tr>\n",
       "  </tbody>\n",
       "</table>\n",
       "</div>"
      ],
      "text/plain": [
       "     EE_B(s)    Mor04s  CATS2D_03_AL  active  Label   Score\n",
       "0  -0.234570 -0.591072      0.619516       1      1  0.6931\n",
       "1  -0.221482  0.198355     -0.428121       1      1  0.6930\n",
       "2   1.257415  1.297082      1.667152       0      1  0.6913\n",
       "3   1.205065  1.221826      2.190970       0      1  0.6912\n",
       "4   0.118795 -0.221569      0.095698       0      1  0.6928\n",
       "5  -1.176876 -0.124490     -1.475757       1      1  0.6939\n",
       "6   1.100364  0.100523      1.667152       0      1  0.6918\n",
       "7   0.144970 -0.399171      0.095698       1      1  0.6928\n",
       "8   3.456131  2.252823     -0.428121       1      1  0.6898\n",
       "9   0.472160  0.356391      0.357607       0      1  0.6923\n",
       "10 -1.307752 -0.515817     -0.428121       0      1  0.6939\n",
       "11 -0.313096 -0.571506     -0.428121       1      1  0.6933\n",
       "12  0.131883 -0.299834      0.357607       0      1  0.6928\n",
       "13  1.296678  0.935856      1.667152       0      1  0.6913"
      ]
     },
     "execution_count": 7,
     "metadata": {},
     "output_type": "execute_result"
    }
   ],
   "source": [
    "mlp = create_model('mlp')\n",
    "tunedmlp = tune_model(mlp, n_iter = 1000,  search_library = 'optuna', optimize = 'AUC')\n",
    "predict_model(tunedmlp)"
   ]
  },
  {
   "cell_type": "code",
   "execution_count": 8,
   "metadata": {},
   "outputs": [
    {
     "data": {
      "text/html": [
       "<style  type=\"text/css\" >\n",
       "#T_10aed_row5_col0,#T_10aed_row5_col1,#T_10aed_row5_col2,#T_10aed_row5_col3,#T_10aed_row5_col4,#T_10aed_row5_col5,#T_10aed_row5_col6{\n",
       "            background:  yellow;\n",
       "        }</style><table id=\"T_10aed_\" ><thead>    <tr>        <th class=\"blank level0\" ></th>        <th class=\"col_heading level0 col0\" >Accuracy</th>        <th class=\"col_heading level0 col1\" >AUC</th>        <th class=\"col_heading level0 col2\" >Recall</th>        <th class=\"col_heading level0 col3\" >Prec.</th>        <th class=\"col_heading level0 col4\" >F1</th>        <th class=\"col_heading level0 col5\" >Kappa</th>        <th class=\"col_heading level0 col6\" >MCC</th>    </tr>    <tr>        <th class=\"index_name level0\" >Fold</th>        <th class=\"blank\" ></th>        <th class=\"blank\" ></th>        <th class=\"blank\" ></th>        <th class=\"blank\" ></th>        <th class=\"blank\" ></th>        <th class=\"blank\" ></th>        <th class=\"blank\" ></th>    </tr></thead><tbody>\n",
       "                <tr>\n",
       "                        <th id=\"T_10aed_level0_row0\" class=\"row_heading level0 row0\" >0</th>\n",
       "                        <td id=\"T_10aed_row0_col0\" class=\"data row0 col0\" >0.9091</td>\n",
       "                        <td id=\"T_10aed_row0_col1\" class=\"data row0 col1\" >1.0000</td>\n",
       "                        <td id=\"T_10aed_row0_col2\" class=\"data row0 col2\" >0.8571</td>\n",
       "                        <td id=\"T_10aed_row0_col3\" class=\"data row0 col3\" >1.0000</td>\n",
       "                        <td id=\"T_10aed_row0_col4\" class=\"data row0 col4\" >0.9231</td>\n",
       "                        <td id=\"T_10aed_row0_col5\" class=\"data row0 col5\" >0.8136</td>\n",
       "                        <td id=\"T_10aed_row0_col6\" class=\"data row0 col6\" >0.8281</td>\n",
       "            </tr>\n",
       "            <tr>\n",
       "                        <th id=\"T_10aed_level0_row1\" class=\"row_heading level0 row1\" >1</th>\n",
       "                        <td id=\"T_10aed_row1_col0\" class=\"data row1 col0\" >1.0000</td>\n",
       "                        <td id=\"T_10aed_row1_col1\" class=\"data row1 col1\" >1.0000</td>\n",
       "                        <td id=\"T_10aed_row1_col2\" class=\"data row1 col2\" >1.0000</td>\n",
       "                        <td id=\"T_10aed_row1_col3\" class=\"data row1 col3\" >1.0000</td>\n",
       "                        <td id=\"T_10aed_row1_col4\" class=\"data row1 col4\" >1.0000</td>\n",
       "                        <td id=\"T_10aed_row1_col5\" class=\"data row1 col5\" >1.0000</td>\n",
       "                        <td id=\"T_10aed_row1_col6\" class=\"data row1 col6\" >1.0000</td>\n",
       "            </tr>\n",
       "            <tr>\n",
       "                        <th id=\"T_10aed_level0_row2\" class=\"row_heading level0 row2\" >2</th>\n",
       "                        <td id=\"T_10aed_row2_col0\" class=\"data row2 col0\" >0.9000</td>\n",
       "                        <td id=\"T_10aed_row2_col1\" class=\"data row2 col1\" >0.9048</td>\n",
       "                        <td id=\"T_10aed_row2_col2\" class=\"data row2 col2\" >0.8571</td>\n",
       "                        <td id=\"T_10aed_row2_col3\" class=\"data row2 col3\" >1.0000</td>\n",
       "                        <td id=\"T_10aed_row2_col4\" class=\"data row2 col4\" >0.9231</td>\n",
       "                        <td id=\"T_10aed_row2_col5\" class=\"data row2 col5\" >0.7826</td>\n",
       "                        <td id=\"T_10aed_row2_col6\" class=\"data row2 col6\" >0.8018</td>\n",
       "            </tr>\n",
       "            <tr>\n",
       "                        <th id=\"T_10aed_level0_row3\" class=\"row_heading level0 row3\" >3</th>\n",
       "                        <td id=\"T_10aed_row3_col0\" class=\"data row3 col0\" >0.8000</td>\n",
       "                        <td id=\"T_10aed_row3_col1\" class=\"data row3 col1\" >0.9524</td>\n",
       "                        <td id=\"T_10aed_row3_col2\" class=\"data row3 col2\" >1.0000</td>\n",
       "                        <td id=\"T_10aed_row3_col3\" class=\"data row3 col3\" >0.7778</td>\n",
       "                        <td id=\"T_10aed_row3_col4\" class=\"data row3 col4\" >0.8750</td>\n",
       "                        <td id=\"T_10aed_row3_col5\" class=\"data row3 col5\" >0.4118</td>\n",
       "                        <td id=\"T_10aed_row3_col6\" class=\"data row3 col6\" >0.5092</td>\n",
       "            </tr>\n",
       "            <tr>\n",
       "                        <th id=\"T_10aed_level0_row4\" class=\"row_heading level0 row4\" >4</th>\n",
       "                        <td id=\"T_10aed_row4_col0\" class=\"data row4 col0\" >0.7000</td>\n",
       "                        <td id=\"T_10aed_row4_col1\" class=\"data row4 col1\" >1.0000</td>\n",
       "                        <td id=\"T_10aed_row4_col2\" class=\"data row4 col2\" >1.0000</td>\n",
       "                        <td id=\"T_10aed_row4_col3\" class=\"data row4 col3\" >0.6667</td>\n",
       "                        <td id=\"T_10aed_row4_col4\" class=\"data row4 col4\" >0.8000</td>\n",
       "                        <td id=\"T_10aed_row4_col5\" class=\"data row4 col5\" >0.2857</td>\n",
       "                        <td id=\"T_10aed_row4_col6\" class=\"data row4 col6\" >0.4082</td>\n",
       "            </tr>\n",
       "            <tr>\n",
       "                        <th id=\"T_10aed_level0_row5\" class=\"row_heading level0 row5\" >Mean</th>\n",
       "                        <td id=\"T_10aed_row5_col0\" class=\"data row5 col0\" >0.8618</td>\n",
       "                        <td id=\"T_10aed_row5_col1\" class=\"data row5 col1\" >0.9714</td>\n",
       "                        <td id=\"T_10aed_row5_col2\" class=\"data row5 col2\" >0.9429</td>\n",
       "                        <td id=\"T_10aed_row5_col3\" class=\"data row5 col3\" >0.8889</td>\n",
       "                        <td id=\"T_10aed_row5_col4\" class=\"data row5 col4\" >0.9042</td>\n",
       "                        <td id=\"T_10aed_row5_col5\" class=\"data row5 col5\" >0.6587</td>\n",
       "                        <td id=\"T_10aed_row5_col6\" class=\"data row5 col6\" >0.7095</td>\n",
       "            </tr>\n",
       "            <tr>\n",
       "                        <th id=\"T_10aed_level0_row6\" class=\"row_heading level0 row6\" >Std</th>\n",
       "                        <td id=\"T_10aed_row6_col0\" class=\"data row6 col0\" >0.1028</td>\n",
       "                        <td id=\"T_10aed_row6_col1\" class=\"data row6 col1\" >0.0381</td>\n",
       "                        <td id=\"T_10aed_row6_col2\" class=\"data row6 col2\" >0.0700</td>\n",
       "                        <td id=\"T_10aed_row6_col3\" class=\"data row6 col3\" >0.1405</td>\n",
       "                        <td id=\"T_10aed_row6_col4\" class=\"data row6 col4\" >0.0657</td>\n",
       "                        <td id=\"T_10aed_row6_col5\" class=\"data row6 col5\" >0.2668</td>\n",
       "                        <td id=\"T_10aed_row6_col6\" class=\"data row6 col6\" >0.2181</td>\n",
       "            </tr>\n",
       "    </tbody></table>"
      ],
      "text/plain": [
       "<pandas.io.formats.style.Styler at 0x1f706fa5e88>"
      ]
     },
     "metadata": {},
     "output_type": "display_data"
    },
    {
     "data": {
      "application/vnd.jupyter.widget-view+json": {
       "model_id": "2d4d377cc5ff449d856289ba1ac62fec",
       "version_major": 2,
       "version_minor": 0
      },
      "text/plain": [
       "IntProgress(value=0, description='Processing: ', max=7)"
      ]
     },
     "metadata": {},
     "output_type": "display_data"
    },
    {
     "data": {
      "text/html": [
       "<div>\n",
       "<style scoped>\n",
       "    .dataframe tbody tr th:only-of-type {\n",
       "        vertical-align: middle;\n",
       "    }\n",
       "\n",
       "    .dataframe tbody tr th {\n",
       "        vertical-align: top;\n",
       "    }\n",
       "\n",
       "    .dataframe thead th {\n",
       "        text-align: right;\n",
       "    }\n",
       "</style>\n",
       "<table border=\"1\" class=\"dataframe\">\n",
       "  <thead>\n",
       "    <tr style=\"text-align: right;\">\n",
       "      <th></th>\n",
       "      <th></th>\n",
       "      <th></th>\n",
       "    </tr>\n",
       "    <tr>\n",
       "      <th></th>\n",
       "      <th></th>\n",
       "      <th></th>\n",
       "    </tr>\n",
       "  </thead>\n",
       "  <tbody>\n",
       "    <tr>\n",
       "      <th>Initiated</th>\n",
       "      <td>. . . . . . . . . . . . . . . . . .</td>\n",
       "      <td>16:50:43</td>\n",
       "    </tr>\n",
       "    <tr>\n",
       "      <th>Status</th>\n",
       "      <td>. . . . . . . . . . . . . . . . . .</td>\n",
       "      <td>Searching Hyperparameters</td>\n",
       "    </tr>\n",
       "    <tr>\n",
       "      <th>Estimator</th>\n",
       "      <td>. . . . . . . . . . . . . . . . . .</td>\n",
       "      <td>Extreme Gradient Boosting</td>\n",
       "    </tr>\n",
       "  </tbody>\n",
       "</table>\n",
       "</div>"
      ],
      "text/plain": [
       "                                                                         \n",
       "                                                                         \n",
       "Initiated  . . . . . . . . . . . . . . . . . .                   16:50:43\n",
       "Status     . . . . . . . . . . . . . . . . . .  Searching Hyperparameters\n",
       "Estimator  . . . . . . . . . . . . . . . . . .  Extreme Gradient Boosting"
      ]
     },
     "metadata": {},
     "output_type": "display_data"
    },
    {
     "data": {
      "text/html": [
       "<div>\n",
       "<style scoped>\n",
       "    .dataframe tbody tr th:only-of-type {\n",
       "        vertical-align: middle;\n",
       "    }\n",
       "\n",
       "    .dataframe tbody tr th {\n",
       "        vertical-align: top;\n",
       "    }\n",
       "\n",
       "    .dataframe thead th {\n",
       "        text-align: right;\n",
       "    }\n",
       "</style>\n",
       "<table border=\"1\" class=\"dataframe\">\n",
       "  <thead>\n",
       "    <tr style=\"text-align: right;\">\n",
       "      <th></th>\n",
       "      <th>Fold</th>\n",
       "      <th>Accuracy</th>\n",
       "      <th>AUC</th>\n",
       "      <th>Recall</th>\n",
       "      <th>Prec.</th>\n",
       "      <th>F1</th>\n",
       "      <th>Kappa</th>\n",
       "      <th>MCC</th>\n",
       "    </tr>\n",
       "  </thead>\n",
       "  <tbody>\n",
       "  </tbody>\n",
       "</table>\n",
       "</div>"
      ],
      "text/plain": [
       "Empty DataFrame\n",
       "Columns: [Fold, Accuracy, AUC, Recall, Prec., F1, Kappa, MCC]\n",
       "Index: []"
      ]
     },
     "metadata": {},
     "output_type": "display_data"
    },
    {
     "name": "stdout",
     "output_type": "stream",
     "text": [
      "Fitting 5 folds for each of 1 candidates, totalling 5 fits\n"
     ]
    },
    {
     "name": "stderr",
     "output_type": "stream",
     "text": [
      "[Parallel(n_jobs=-1)]: Using backend LokyBackend with 6 concurrent workers.\n",
      "[Parallel(n_jobs=-1)]: Done   5 out of   5 | elapsed:    0.3s finished\n",
      "[Parallel(n_jobs=-1)]: Using backend LokyBackend with 6 concurrent workers.\n"
     ]
    },
    {
     "name": "stdout",
     "output_type": "stream",
     "text": [
      "Fitting 5 folds for each of 1 candidates, totalling 5 fits\n"
     ]
    },
    {
     "name": "stderr",
     "output_type": "stream",
     "text": [
      "[Parallel(n_jobs=-1)]: Done   5 out of   5 | elapsed:    0.3s finished\n",
      "[Parallel(n_jobs=-1)]: Using backend LokyBackend with 6 concurrent workers.\n",
      "[Parallel(n_jobs=-1)]: Done   5 out of   5 | elapsed:    0.0s finished\n",
      "[Parallel(n_jobs=-1)]: Using backend LokyBackend with 6 concurrent workers.\n"
     ]
    },
    {
     "name": "stdout",
     "output_type": "stream",
     "text": [
      "Fitting 5 folds for each of 1 candidates, totalling 5 fits\n",
      "Fitting 5 folds for each of 1 candidates, totalling 5 fits\n"
     ]
    },
    {
     "name": "stderr",
     "output_type": "stream",
     "text": [
      "[Parallel(n_jobs=-1)]: Done   5 out of   5 | elapsed:    0.1s finished\n",
      "[Parallel(n_jobs=-1)]: Using backend LokyBackend with 6 concurrent workers.\n",
      "[Parallel(n_jobs=-1)]: Done   5 out of   5 | elapsed:    0.1s finished\n"
     ]
    },
    {
     "name": "stdout",
     "output_type": "stream",
     "text": [
      "Fitting 5 folds for each of 1 candidates, totalling 5 fits\n",
      "Fitting 5 folds for each of 1 candidates, totalling 5 fits\n"
     ]
    },
    {
     "name": "stderr",
     "output_type": "stream",
     "text": [
      "[Parallel(n_jobs=-1)]: Using backend LokyBackend with 6 concurrent workers.\n",
      "[Parallel(n_jobs=-1)]: Done   5 out of   5 | elapsed:    0.3s finished\n",
      "[Parallel(n_jobs=-1)]: Using backend LokyBackend with 6 concurrent workers.\n",
      "[Parallel(n_jobs=-1)]: Done   5 out of   5 | elapsed:    0.1s finished\n"
     ]
    },
    {
     "name": "stdout",
     "output_type": "stream",
     "text": [
      "Fitting 5 folds for each of 1 candidates, totalling 5 fits\n"
     ]
    },
    {
     "name": "stderr",
     "output_type": "stream",
     "text": [
      "[Parallel(n_jobs=-1)]: Using backend LokyBackend with 6 concurrent workers.\n",
      "[Parallel(n_jobs=-1)]: Done   5 out of   5 | elapsed:    0.0s finished\n",
      "[Parallel(n_jobs=-1)]: Using backend LokyBackend with 6 concurrent workers.\n"
     ]
    },
    {
     "name": "stdout",
     "output_type": "stream",
     "text": [
      "Fitting 5 folds for each of 1 candidates, totalling 5 fits\n",
      "Fitting 5 folds for each of 1 candidates, totalling 5 fits\n"
     ]
    },
    {
     "name": "stderr",
     "output_type": "stream",
     "text": [
      "[Parallel(n_jobs=-1)]: Done   5 out of   5 | elapsed:    0.0s finished\n"
     ]
    },
    {
     "name": "stdout",
     "output_type": "stream",
     "text": [
      "Fitting 5 folds for each of 1 candidates, totalling 5 fits\n"
     ]
    },
    {
     "name": "stderr",
     "output_type": "stream",
     "text": [
      "[Parallel(n_jobs=-1)]: Using backend LokyBackend with 6 concurrent workers.\n",
      "[Parallel(n_jobs=-1)]: Done   5 out of   5 | elapsed:    0.2s finished\n"
     ]
    },
    {
     "name": "stdout",
     "output_type": "stream",
     "text": [
      "Fitting 5 folds for each of 1 candidates, totalling 5 fits\n"
     ]
    },
    {
     "name": "stderr",
     "output_type": "stream",
     "text": [
      "[Parallel(n_jobs=-1)]: Using backend LokyBackend with 6 concurrent workers.\n",
      "[Parallel(n_jobs=-1)]: Done   5 out of   5 | elapsed:    0.0s finished\n"
     ]
    },
    {
     "name": "stdout",
     "output_type": "stream",
     "text": [
      "Fitting 5 folds for each of 1 candidates, totalling 5 fits\n"
     ]
    },
    {
     "name": "stderr",
     "output_type": "stream",
     "text": [
      "[Parallel(n_jobs=-1)]: Using backend LokyBackend with 6 concurrent workers.\n",
      "[Parallel(n_jobs=-1)]: Done   5 out of   5 | elapsed:    0.1s finished\n"
     ]
    },
    {
     "name": "stdout",
     "output_type": "stream",
     "text": [
      "Fitting 5 folds for each of 1 candidates, totalling 5 fits\n"
     ]
    },
    {
     "name": "stderr",
     "output_type": "stream",
     "text": [
      "[Parallel(n_jobs=-1)]: Using backend LokyBackend with 6 concurrent workers.\n",
      "[Parallel(n_jobs=-1)]: Done   5 out of   5 | elapsed:    0.0s finished\n"
     ]
    },
    {
     "name": "stdout",
     "output_type": "stream",
     "text": [
      "Fitting 5 folds for each of 1 candidates, totalling 5 fits\n"
     ]
    },
    {
     "name": "stderr",
     "output_type": "stream",
     "text": [
      "[Parallel(n_jobs=-1)]: Using backend LokyBackend with 6 concurrent workers.\n",
      "[Parallel(n_jobs=-1)]: Done   5 out of   5 | elapsed:    0.3s finished\n"
     ]
    },
    {
     "name": "stdout",
     "output_type": "stream",
     "text": [
      "Fitting 5 folds for each of 1 candidates, totalling 5 fits\n"
     ]
    },
    {
     "name": "stderr",
     "output_type": "stream",
     "text": [
      "[Parallel(n_jobs=-1)]: Using backend LokyBackend with 6 concurrent workers.\n",
      "[Parallel(n_jobs=-1)]: Done   5 out of   5 | elapsed:    0.1s finished\n"
     ]
    },
    {
     "name": "stdout",
     "output_type": "stream",
     "text": [
      "Fitting 5 folds for each of 1 candidates, totalling 5 fits\n"
     ]
    },
    {
     "name": "stderr",
     "output_type": "stream",
     "text": [
      "[Parallel(n_jobs=-1)]: Using backend LokyBackend with 6 concurrent workers.\n",
      "[Parallel(n_jobs=-1)]: Done   5 out of   5 | elapsed:    0.0s finished\n"
     ]
    },
    {
     "name": "stdout",
     "output_type": "stream",
     "text": [
      "Fitting 5 folds for each of 1 candidates, totalling 5 fits\n"
     ]
    },
    {
     "name": "stderr",
     "output_type": "stream",
     "text": [
      "[Parallel(n_jobs=-1)]: Using backend LokyBackend with 6 concurrent workers.\n",
      "[Parallel(n_jobs=-1)]: Done   5 out of   5 | elapsed:    0.2s finished\n"
     ]
    },
    {
     "name": "stdout",
     "output_type": "stream",
     "text": [
      "Fitting 5 folds for each of 1 candidates, totalling 5 fits\n"
     ]
    },
    {
     "name": "stderr",
     "output_type": "stream",
     "text": [
      "[Parallel(n_jobs=-1)]: Using backend LokyBackend with 6 concurrent workers.\n",
      "[Parallel(n_jobs=-1)]: Done   5 out of   5 | elapsed:    0.0s finished\n"
     ]
    },
    {
     "name": "stdout",
     "output_type": "stream",
     "text": [
      "Fitting 5 folds for each of 1 candidates, totalling 5 fits\n"
     ]
    },
    {
     "name": "stderr",
     "output_type": "stream",
     "text": [
      "[Parallel(n_jobs=-1)]: Using backend LokyBackend with 6 concurrent workers.\n",
      "[Parallel(n_jobs=-1)]: Done   5 out of   5 | elapsed:    0.0s finished\n"
     ]
    },
    {
     "name": "stdout",
     "output_type": "stream",
     "text": [
      "Fitting 5 folds for each of 1 candidates, totalling 5 fits\n"
     ]
    },
    {
     "name": "stderr",
     "output_type": "stream",
     "text": [
      "[Parallel(n_jobs=-1)]: Using backend LokyBackend with 6 concurrent workers.\n",
      "[Parallel(n_jobs=-1)]: Done   5 out of   5 | elapsed:    0.0s finished\n"
     ]
    },
    {
     "name": "stdout",
     "output_type": "stream",
     "text": [
      "Fitting 5 folds for each of 1 candidates, totalling 5 fits\n"
     ]
    },
    {
     "name": "stderr",
     "output_type": "stream",
     "text": [
      "[Parallel(n_jobs=-1)]: Using backend LokyBackend with 6 concurrent workers.\n",
      "[Parallel(n_jobs=-1)]: Done   5 out of   5 | elapsed:    0.0s finished\n"
     ]
    },
    {
     "name": "stdout",
     "output_type": "stream",
     "text": [
      "Fitting 5 folds for each of 1 candidates, totalling 5 fits\n"
     ]
    },
    {
     "name": "stderr",
     "output_type": "stream",
     "text": [
      "[Parallel(n_jobs=-1)]: Using backend LokyBackend with 6 concurrent workers.\n",
      "[Parallel(n_jobs=-1)]: Done   5 out of   5 | elapsed:    0.2s finished\n"
     ]
    },
    {
     "name": "stdout",
     "output_type": "stream",
     "text": [
      "Fitting 5 folds for each of 1 candidates, totalling 5 fits\n"
     ]
    },
    {
     "name": "stderr",
     "output_type": "stream",
     "text": [
      "[Parallel(n_jobs=-1)]: Using backend LokyBackend with 6 concurrent workers.\n",
      "[Parallel(n_jobs=-1)]: Done   5 out of   5 | elapsed:    0.0s finished\n"
     ]
    },
    {
     "name": "stdout",
     "output_type": "stream",
     "text": [
      "Fitting 5 folds for each of 1 candidates, totalling 5 fits\n"
     ]
    },
    {
     "name": "stderr",
     "output_type": "stream",
     "text": [
      "[Parallel(n_jobs=-1)]: Using backend LokyBackend with 6 concurrent workers.\n",
      "[Parallel(n_jobs=-1)]: Done   5 out of   5 | elapsed:    1.2s finished\n"
     ]
    },
    {
     "name": "stdout",
     "output_type": "stream",
     "text": [
      "Fitting 5 folds for each of 1 candidates, totalling 5 fits\n"
     ]
    },
    {
     "name": "stderr",
     "output_type": "stream",
     "text": [
      "[Parallel(n_jobs=-1)]: Using backend LokyBackend with 6 concurrent workers.\n",
      "[Parallel(n_jobs=-1)]: Done   5 out of   5 | elapsed:    0.0s finished\n"
     ]
    },
    {
     "name": "stdout",
     "output_type": "stream",
     "text": [
      "Fitting 5 folds for each of 1 candidates, totalling 5 fits\n"
     ]
    },
    {
     "name": "stderr",
     "output_type": "stream",
     "text": [
      "[Parallel(n_jobs=-1)]: Using backend LokyBackend with 6 concurrent workers.\n",
      "[Parallel(n_jobs=-1)]: Done   5 out of   5 | elapsed:    0.4s finished\n"
     ]
    },
    {
     "name": "stdout",
     "output_type": "stream",
     "text": [
      "Fitting 5 folds for each of 1 candidates, totalling 5 fits\n"
     ]
    },
    {
     "name": "stderr",
     "output_type": "stream",
     "text": [
      "[Parallel(n_jobs=-1)]: Using backend LokyBackend with 6 concurrent workers.\n",
      "[Parallel(n_jobs=-1)]: Done   5 out of   5 | elapsed:    0.8s finished\n"
     ]
    },
    {
     "name": "stdout",
     "output_type": "stream",
     "text": [
      "Fitting 5 folds for each of 1 candidates, totalling 5 fits\n"
     ]
    },
    {
     "name": "stderr",
     "output_type": "stream",
     "text": [
      "[Parallel(n_jobs=-1)]: Using backend LokyBackend with 6 concurrent workers.\n",
      "[Parallel(n_jobs=-1)]: Done   5 out of   5 | elapsed:    0.0s finished\n"
     ]
    },
    {
     "name": "stdout",
     "output_type": "stream",
     "text": [
      "Fitting 5 folds for each of 1 candidates, totalling 5 fits\n"
     ]
    },
    {
     "name": "stderr",
     "output_type": "stream",
     "text": [
      "[Parallel(n_jobs=-1)]: Using backend LokyBackend with 6 concurrent workers.\n",
      "[Parallel(n_jobs=-1)]: Done   5 out of   5 | elapsed:    0.2s finished\n"
     ]
    },
    {
     "name": "stdout",
     "output_type": "stream",
     "text": [
      "Fitting 5 folds for each of 1 candidates, totalling 5 fits\n"
     ]
    },
    {
     "name": "stderr",
     "output_type": "stream",
     "text": [
      "[Parallel(n_jobs=-1)]: Using backend LokyBackend with 6 concurrent workers.\n",
      "[Parallel(n_jobs=-1)]: Done   5 out of   5 | elapsed:    0.1s finished\n"
     ]
    },
    {
     "name": "stdout",
     "output_type": "stream",
     "text": [
      "Fitting 5 folds for each of 1 candidates, totalling 5 fits\n"
     ]
    },
    {
     "name": "stderr",
     "output_type": "stream",
     "text": [
      "[Parallel(n_jobs=-1)]: Using backend LokyBackend with 6 concurrent workers.\n",
      "[Parallel(n_jobs=-1)]: Done   5 out of   5 | elapsed:    1.3s finished\n"
     ]
    },
    {
     "name": "stdout",
     "output_type": "stream",
     "text": [
      "Fitting 5 folds for each of 1 candidates, totalling 5 fits\n"
     ]
    },
    {
     "name": "stderr",
     "output_type": "stream",
     "text": [
      "[Parallel(n_jobs=-1)]: Using backend LokyBackend with 6 concurrent workers.\n",
      "[Parallel(n_jobs=-1)]: Done   5 out of   5 | elapsed:    0.1s finished\n"
     ]
    },
    {
     "name": "stdout",
     "output_type": "stream",
     "text": [
      "Fitting 5 folds for each of 1 candidates, totalling 5 fits\n"
     ]
    },
    {
     "name": "stderr",
     "output_type": "stream",
     "text": [
      "[Parallel(n_jobs=-1)]: Using backend LokyBackend with 6 concurrent workers.\n",
      "[Parallel(n_jobs=-1)]: Done   5 out of   5 | elapsed:    0.2s finished\n"
     ]
    },
    {
     "name": "stdout",
     "output_type": "stream",
     "text": [
      "Fitting 5 folds for each of 1 candidates, totalling 5 fits\n"
     ]
    },
    {
     "name": "stderr",
     "output_type": "stream",
     "text": [
      "[Parallel(n_jobs=-1)]: Using backend LokyBackend with 6 concurrent workers.\n",
      "[Parallel(n_jobs=-1)]: Done   5 out of   5 | elapsed:    0.2s finished\n"
     ]
    },
    {
     "name": "stdout",
     "output_type": "stream",
     "text": [
      "Fitting 5 folds for each of 1 candidates, totalling 5 fits\n"
     ]
    },
    {
     "name": "stderr",
     "output_type": "stream",
     "text": [
      "[Parallel(n_jobs=-1)]: Using backend LokyBackend with 6 concurrent workers.\n",
      "[Parallel(n_jobs=-1)]: Done   5 out of   5 | elapsed:    1.1s finished\n"
     ]
    },
    {
     "name": "stdout",
     "output_type": "stream",
     "text": [
      "Fitting 5 folds for each of 1 candidates, totalling 5 fits\n"
     ]
    },
    {
     "name": "stderr",
     "output_type": "stream",
     "text": [
      "[Parallel(n_jobs=-1)]: Using backend LokyBackend with 6 concurrent workers.\n",
      "[Parallel(n_jobs=-1)]: Done   5 out of   5 | elapsed:    0.8s finished\n"
     ]
    },
    {
     "name": "stdout",
     "output_type": "stream",
     "text": [
      "Fitting 5 folds for each of 1 candidates, totalling 5 fits\n"
     ]
    },
    {
     "name": "stderr",
     "output_type": "stream",
     "text": [
      "[Parallel(n_jobs=-1)]: Using backend LokyBackend with 6 concurrent workers.\n",
      "[Parallel(n_jobs=-1)]: Done   5 out of   5 | elapsed:    0.2s finished\n"
     ]
    },
    {
     "name": "stdout",
     "output_type": "stream",
     "text": [
      "Fitting 5 folds for each of 1 candidates, totalling 5 fits\n"
     ]
    },
    {
     "name": "stderr",
     "output_type": "stream",
     "text": [
      "[Parallel(n_jobs=-1)]: Using backend LokyBackend with 6 concurrent workers.\n",
      "[Parallel(n_jobs=-1)]: Done   5 out of   5 | elapsed:    0.1s finished\n"
     ]
    },
    {
     "name": "stdout",
     "output_type": "stream",
     "text": [
      "Fitting 5 folds for each of 1 candidates, totalling 5 fits\n"
     ]
    },
    {
     "name": "stderr",
     "output_type": "stream",
     "text": [
      "[Parallel(n_jobs=-1)]: Using backend LokyBackend with 6 concurrent workers.\n",
      "[Parallel(n_jobs=-1)]: Done   5 out of   5 | elapsed:    3.3s finished\n"
     ]
    },
    {
     "name": "stdout",
     "output_type": "stream",
     "text": [
      "Fitting 5 folds for each of 1 candidates, totalling 5 fits\n"
     ]
    },
    {
     "name": "stderr",
     "output_type": "stream",
     "text": [
      "[Parallel(n_jobs=-1)]: Using backend LokyBackend with 6 concurrent workers.\n",
      "[Parallel(n_jobs=-1)]: Done   5 out of   5 | elapsed:    1.1s finished\n"
     ]
    },
    {
     "name": "stdout",
     "output_type": "stream",
     "text": [
      "Fitting 5 folds for each of 1 candidates, totalling 5 fits\n"
     ]
    },
    {
     "name": "stderr",
     "output_type": "stream",
     "text": [
      "[Parallel(n_jobs=-1)]: Using backend LokyBackend with 6 concurrent workers.\n",
      "[Parallel(n_jobs=-1)]: Done   5 out of   5 | elapsed:    0.3s finished\n"
     ]
    },
    {
     "name": "stdout",
     "output_type": "stream",
     "text": [
      "Fitting 5 folds for each of 1 candidates, totalling 5 fits\n"
     ]
    },
    {
     "name": "stderr",
     "output_type": "stream",
     "text": [
      "[Parallel(n_jobs=-1)]: Using backend LokyBackend with 6 concurrent workers.\n",
      "[Parallel(n_jobs=-1)]: Done   5 out of   5 | elapsed:    1.0s finished\n"
     ]
    },
    {
     "name": "stdout",
     "output_type": "stream",
     "text": [
      "Fitting 5 folds for each of 1 candidates, totalling 5 fits\n"
     ]
    },
    {
     "name": "stderr",
     "output_type": "stream",
     "text": [
      "[Parallel(n_jobs=-1)]: Using backend LokyBackend with 6 concurrent workers.\n",
      "[Parallel(n_jobs=-1)]: Done   5 out of   5 | elapsed:    0.2s finished\n"
     ]
    },
    {
     "name": "stdout",
     "output_type": "stream",
     "text": [
      "Fitting 5 folds for each of 1 candidates, totalling 5 fits\n"
     ]
    },
    {
     "name": "stderr",
     "output_type": "stream",
     "text": [
      "[Parallel(n_jobs=-1)]: Using backend LokyBackend with 6 concurrent workers.\n",
      "[Parallel(n_jobs=-1)]: Done   5 out of   5 | elapsed:    0.4s finished\n"
     ]
    },
    {
     "name": "stdout",
     "output_type": "stream",
     "text": [
      "Fitting 5 folds for each of 1 candidates, totalling 5 fits\n"
     ]
    },
    {
     "name": "stderr",
     "output_type": "stream",
     "text": [
      "[Parallel(n_jobs=-1)]: Using backend LokyBackend with 6 concurrent workers.\n",
      "[Parallel(n_jobs=-1)]: Done   5 out of   5 | elapsed:    0.9s finished\n"
     ]
    },
    {
     "name": "stdout",
     "output_type": "stream",
     "text": [
      "Fitting 5 folds for each of 1 candidates, totalling 5 fits\n"
     ]
    },
    {
     "name": "stderr",
     "output_type": "stream",
     "text": [
      "[Parallel(n_jobs=-1)]: Using backend LokyBackend with 6 concurrent workers.\n",
      "[Parallel(n_jobs=-1)]: Done   5 out of   5 | elapsed:    0.0s finished\n"
     ]
    },
    {
     "name": "stdout",
     "output_type": "stream",
     "text": [
      "Fitting 5 folds for each of 1 candidates, totalling 5 fits\n"
     ]
    },
    {
     "name": "stderr",
     "output_type": "stream",
     "text": [
      "[Parallel(n_jobs=-1)]: Using backend LokyBackend with 6 concurrent workers.\n",
      "[Parallel(n_jobs=-1)]: Done   5 out of   5 | elapsed:    0.4s finished\n"
     ]
    },
    {
     "name": "stdout",
     "output_type": "stream",
     "text": [
      "Fitting 5 folds for each of 1 candidates, totalling 5 fits\n"
     ]
    },
    {
     "name": "stderr",
     "output_type": "stream",
     "text": [
      "[Parallel(n_jobs=-1)]: Using backend LokyBackend with 6 concurrent workers.\n",
      "[Parallel(n_jobs=-1)]: Done   5 out of   5 | elapsed:    0.2s finished\n"
     ]
    },
    {
     "name": "stdout",
     "output_type": "stream",
     "text": [
      "Fitting 5 folds for each of 1 candidates, totalling 5 fits\n"
     ]
    },
    {
     "name": "stderr",
     "output_type": "stream",
     "text": [
      "[Parallel(n_jobs=-1)]: Using backend LokyBackend with 6 concurrent workers.\n",
      "[Parallel(n_jobs=-1)]: Done   5 out of   5 | elapsed:    0.2s finished\n"
     ]
    },
    {
     "name": "stdout",
     "output_type": "stream",
     "text": [
      "Fitting 5 folds for each of 1 candidates, totalling 5 fits\n"
     ]
    },
    {
     "name": "stderr",
     "output_type": "stream",
     "text": [
      "[Parallel(n_jobs=-1)]: Using backend LokyBackend with 6 concurrent workers.\n",
      "[Parallel(n_jobs=-1)]: Done   5 out of   5 | elapsed:    0.2s finished\n"
     ]
    },
    {
     "name": "stdout",
     "output_type": "stream",
     "text": [
      "Fitting 5 folds for each of 1 candidates, totalling 5 fits\n"
     ]
    },
    {
     "name": "stderr",
     "output_type": "stream",
     "text": [
      "[Parallel(n_jobs=-1)]: Using backend LokyBackend with 6 concurrent workers.\n",
      "[Parallel(n_jobs=-1)]: Done   5 out of   5 | elapsed:    0.0s finished\n"
     ]
    },
    {
     "name": "stdout",
     "output_type": "stream",
     "text": [
      "Fitting 5 folds for each of 1 candidates, totalling 5 fits\n"
     ]
    },
    {
     "name": "stderr",
     "output_type": "stream",
     "text": [
      "[Parallel(n_jobs=-1)]: Using backend LokyBackend with 6 concurrent workers.\n",
      "[Parallel(n_jobs=-1)]: Done   5 out of   5 | elapsed:    0.0s finished\n"
     ]
    },
    {
     "name": "stdout",
     "output_type": "stream",
     "text": [
      "Fitting 5 folds for each of 1 candidates, totalling 5 fits\n"
     ]
    },
    {
     "name": "stderr",
     "output_type": "stream",
     "text": [
      "[Parallel(n_jobs=-1)]: Using backend LokyBackend with 6 concurrent workers.\n",
      "[Parallel(n_jobs=-1)]: Done   5 out of   5 | elapsed:    0.2s finished\n"
     ]
    },
    {
     "name": "stdout",
     "output_type": "stream",
     "text": [
      "Fitting 5 folds for each of 1 candidates, totalling 5 fits\n"
     ]
    },
    {
     "name": "stderr",
     "output_type": "stream",
     "text": [
      "[Parallel(n_jobs=-1)]: Using backend LokyBackend with 6 concurrent workers.\n",
      "[Parallel(n_jobs=-1)]: Done   5 out of   5 | elapsed:    0.4s finished\n"
     ]
    },
    {
     "name": "stdout",
     "output_type": "stream",
     "text": [
      "Fitting 5 folds for each of 1 candidates, totalling 5 fits\n"
     ]
    },
    {
     "name": "stderr",
     "output_type": "stream",
     "text": [
      "[Parallel(n_jobs=-1)]: Using backend LokyBackend with 6 concurrent workers.\n",
      "[Parallel(n_jobs=-1)]: Done   5 out of   5 | elapsed:    0.1s finished\n"
     ]
    },
    {
     "name": "stdout",
     "output_type": "stream",
     "text": [
      "Fitting 5 folds for each of 1 candidates, totalling 5 fits\n"
     ]
    },
    {
     "name": "stderr",
     "output_type": "stream",
     "text": [
      "[Parallel(n_jobs=-1)]: Using backend LokyBackend with 6 concurrent workers.\n",
      "[Parallel(n_jobs=-1)]: Done   5 out of   5 | elapsed:    0.4s finished\n"
     ]
    },
    {
     "name": "stdout",
     "output_type": "stream",
     "text": [
      "Fitting 5 folds for each of 1 candidates, totalling 5 fits\n"
     ]
    },
    {
     "name": "stderr",
     "output_type": "stream",
     "text": [
      "[Parallel(n_jobs=-1)]: Using backend LokyBackend with 6 concurrent workers.\n",
      "[Parallel(n_jobs=-1)]: Done   5 out of   5 | elapsed:    0.2s finished\n"
     ]
    },
    {
     "name": "stdout",
     "output_type": "stream",
     "text": [
      "Fitting 5 folds for each of 1 candidates, totalling 5 fits\n"
     ]
    },
    {
     "name": "stderr",
     "output_type": "stream",
     "text": [
      "[Parallel(n_jobs=-1)]: Using backend LokyBackend with 6 concurrent workers.\n",
      "[Parallel(n_jobs=-1)]: Done   5 out of   5 | elapsed:    0.1s finished\n"
     ]
    },
    {
     "name": "stdout",
     "output_type": "stream",
     "text": [
      "Fitting 5 folds for each of 1 candidates, totalling 5 fits\n"
     ]
    },
    {
     "name": "stderr",
     "output_type": "stream",
     "text": [
      "[Parallel(n_jobs=-1)]: Using backend LokyBackend with 6 concurrent workers.\n",
      "[Parallel(n_jobs=-1)]: Done   5 out of   5 | elapsed:    0.0s finished\n"
     ]
    },
    {
     "name": "stdout",
     "output_type": "stream",
     "text": [
      "Fitting 5 folds for each of 1 candidates, totalling 5 fits\n"
     ]
    },
    {
     "name": "stderr",
     "output_type": "stream",
     "text": [
      "[Parallel(n_jobs=-1)]: Using backend LokyBackend with 6 concurrent workers.\n",
      "[Parallel(n_jobs=-1)]: Done   5 out of   5 | elapsed:    1.1s finished\n"
     ]
    },
    {
     "name": "stdout",
     "output_type": "stream",
     "text": [
      "Fitting 5 folds for each of 1 candidates, totalling 5 fits\n"
     ]
    },
    {
     "name": "stderr",
     "output_type": "stream",
     "text": [
      "[Parallel(n_jobs=-1)]: Using backend LokyBackend with 6 concurrent workers.\n",
      "[Parallel(n_jobs=-1)]: Done   5 out of   5 | elapsed:    0.1s finished\n"
     ]
    },
    {
     "name": "stdout",
     "output_type": "stream",
     "text": [
      "Fitting 5 folds for each of 1 candidates, totalling 5 fits\n"
     ]
    },
    {
     "name": "stderr",
     "output_type": "stream",
     "text": [
      "[Parallel(n_jobs=-1)]: Using backend LokyBackend with 6 concurrent workers.\n",
      "[Parallel(n_jobs=-1)]: Done   5 out of   5 | elapsed:    1.1s finished\n"
     ]
    },
    {
     "name": "stdout",
     "output_type": "stream",
     "text": [
      "Fitting 5 folds for each of 1 candidates, totalling 5 fits\n"
     ]
    },
    {
     "name": "stderr",
     "output_type": "stream",
     "text": [
      "[Parallel(n_jobs=-1)]: Using backend LokyBackend with 6 concurrent workers.\n",
      "[Parallel(n_jobs=-1)]: Done   5 out of   5 | elapsed:    0.3s finished\n"
     ]
    },
    {
     "name": "stdout",
     "output_type": "stream",
     "text": [
      "Fitting 5 folds for each of 1 candidates, totalling 5 fits\n"
     ]
    },
    {
     "name": "stderr",
     "output_type": "stream",
     "text": [
      "[Parallel(n_jobs=-1)]: Using backend LokyBackend with 6 concurrent workers.\n",
      "[Parallel(n_jobs=-1)]: Done   5 out of   5 | elapsed:    1.3s finished\n"
     ]
    },
    {
     "name": "stdout",
     "output_type": "stream",
     "text": [
      "Fitting 5 folds for each of 1 candidates, totalling 5 fits\n"
     ]
    },
    {
     "name": "stderr",
     "output_type": "stream",
     "text": [
      "[Parallel(n_jobs=-1)]: Using backend LokyBackend with 6 concurrent workers.\n",
      "[Parallel(n_jobs=-1)]: Done   5 out of   5 | elapsed:    1.9s finished\n"
     ]
    },
    {
     "name": "stdout",
     "output_type": "stream",
     "text": [
      "Fitting 5 folds for each of 1 candidates, totalling 5 fits\n"
     ]
    },
    {
     "name": "stderr",
     "output_type": "stream",
     "text": [
      "[Parallel(n_jobs=-1)]: Using backend LokyBackend with 6 concurrent workers.\n",
      "[Parallel(n_jobs=-1)]: Done   5 out of   5 | elapsed:    0.1s finished\n"
     ]
    },
    {
     "name": "stdout",
     "output_type": "stream",
     "text": [
      "Fitting 5 folds for each of 1 candidates, totalling 5 fits\n"
     ]
    },
    {
     "name": "stderr",
     "output_type": "stream",
     "text": [
      "[Parallel(n_jobs=-1)]: Using backend LokyBackend with 6 concurrent workers.\n",
      "[Parallel(n_jobs=-1)]: Done   5 out of   5 | elapsed:    0.8s finished\n"
     ]
    },
    {
     "name": "stdout",
     "output_type": "stream",
     "text": [
      "Fitting 5 folds for each of 1 candidates, totalling 5 fits\n"
     ]
    },
    {
     "name": "stderr",
     "output_type": "stream",
     "text": [
      "[Parallel(n_jobs=-1)]: Using backend LokyBackend with 6 concurrent workers.\n",
      "[Parallel(n_jobs=-1)]: Done   5 out of   5 | elapsed:    0.1s finished\n"
     ]
    },
    {
     "name": "stdout",
     "output_type": "stream",
     "text": [
      "Fitting 5 folds for each of 1 candidates, totalling 5 fits\n"
     ]
    },
    {
     "name": "stderr",
     "output_type": "stream",
     "text": [
      "[Parallel(n_jobs=-1)]: Using backend LokyBackend with 6 concurrent workers.\n",
      "[Parallel(n_jobs=-1)]: Done   5 out of   5 | elapsed:    0.0s finished\n"
     ]
    },
    {
     "name": "stdout",
     "output_type": "stream",
     "text": [
      "Fitting 5 folds for each of 1 candidates, totalling 5 fits\n"
     ]
    },
    {
     "name": "stderr",
     "output_type": "stream",
     "text": [
      "[Parallel(n_jobs=-1)]: Using backend LokyBackend with 6 concurrent workers.\n",
      "[Parallel(n_jobs=-1)]: Done   5 out of   5 | elapsed:    0.5s finished\n"
     ]
    },
    {
     "name": "stdout",
     "output_type": "stream",
     "text": [
      "Fitting 5 folds for each of 1 candidates, totalling 5 fits\n"
     ]
    },
    {
     "name": "stderr",
     "output_type": "stream",
     "text": [
      "[Parallel(n_jobs=-1)]: Using backend LokyBackend with 6 concurrent workers.\n",
      "[Parallel(n_jobs=-1)]: Done   5 out of   5 | elapsed:    0.2s finished\n"
     ]
    },
    {
     "name": "stdout",
     "output_type": "stream",
     "text": [
      "Fitting 5 folds for each of 1 candidates, totalling 5 fits\n"
     ]
    },
    {
     "name": "stderr",
     "output_type": "stream",
     "text": [
      "[Parallel(n_jobs=-1)]: Using backend LokyBackend with 6 concurrent workers.\n",
      "[Parallel(n_jobs=-1)]: Done   5 out of   5 | elapsed:    0.8s finished\n"
     ]
    },
    {
     "name": "stdout",
     "output_type": "stream",
     "text": [
      "Fitting 5 folds for each of 1 candidates, totalling 5 fits\n"
     ]
    },
    {
     "name": "stderr",
     "output_type": "stream",
     "text": [
      "[Parallel(n_jobs=-1)]: Using backend LokyBackend with 6 concurrent workers.\n",
      "[Parallel(n_jobs=-1)]: Done   5 out of   5 | elapsed:    0.0s finished\n"
     ]
    },
    {
     "name": "stdout",
     "output_type": "stream",
     "text": [
      "Fitting 5 folds for each of 1 candidates, totalling 5 fits\n"
     ]
    },
    {
     "name": "stderr",
     "output_type": "stream",
     "text": [
      "[Parallel(n_jobs=-1)]: Using backend LokyBackend with 6 concurrent workers.\n",
      "[Parallel(n_jobs=-1)]: Done   5 out of   5 | elapsed:    0.1s finished\n"
     ]
    },
    {
     "name": "stdout",
     "output_type": "stream",
     "text": [
      "Fitting 5 folds for each of 1 candidates, totalling 5 fits\n"
     ]
    },
    {
     "name": "stderr",
     "output_type": "stream",
     "text": [
      "[Parallel(n_jobs=-1)]: Using backend LokyBackend with 6 concurrent workers.\n",
      "[Parallel(n_jobs=-1)]: Done   5 out of   5 | elapsed:    0.0s finished\n"
     ]
    },
    {
     "name": "stdout",
     "output_type": "stream",
     "text": [
      "Fitting 5 folds for each of 1 candidates, totalling 5 fits\n"
     ]
    },
    {
     "name": "stderr",
     "output_type": "stream",
     "text": [
      "[Parallel(n_jobs=-1)]: Using backend LokyBackend with 6 concurrent workers.\n",
      "[Parallel(n_jobs=-1)]: Done   5 out of   5 | elapsed:    0.2s finished\n"
     ]
    },
    {
     "name": "stdout",
     "output_type": "stream",
     "text": [
      "Fitting 5 folds for each of 1 candidates, totalling 5 fits\n"
     ]
    },
    {
     "name": "stderr",
     "output_type": "stream",
     "text": [
      "[Parallel(n_jobs=-1)]: Using backend LokyBackend with 6 concurrent workers.\n",
      "[Parallel(n_jobs=-1)]: Done   5 out of   5 | elapsed:    0.2s finished\n"
     ]
    },
    {
     "name": "stdout",
     "output_type": "stream",
     "text": [
      "Fitting 5 folds for each of 1 candidates, totalling 5 fits\n"
     ]
    },
    {
     "name": "stderr",
     "output_type": "stream",
     "text": [
      "[Parallel(n_jobs=-1)]: Using backend LokyBackend with 6 concurrent workers.\n",
      "[Parallel(n_jobs=-1)]: Done   5 out of   5 | elapsed:    0.2s finished\n"
     ]
    },
    {
     "name": "stdout",
     "output_type": "stream",
     "text": [
      "Fitting 5 folds for each of 1 candidates, totalling 5 fits\n"
     ]
    },
    {
     "name": "stderr",
     "output_type": "stream",
     "text": [
      "[Parallel(n_jobs=-1)]: Using backend LokyBackend with 6 concurrent workers.\n",
      "[Parallel(n_jobs=-1)]: Done   5 out of   5 | elapsed:    0.2s finished\n"
     ]
    },
    {
     "name": "stdout",
     "output_type": "stream",
     "text": [
      "Fitting 5 folds for each of 1 candidates, totalling 5 fits\n"
     ]
    },
    {
     "name": "stderr",
     "output_type": "stream",
     "text": [
      "[Parallel(n_jobs=-1)]: Using backend LokyBackend with 6 concurrent workers.\n",
      "[Parallel(n_jobs=-1)]: Done   5 out of   5 | elapsed:    0.0s finished\n"
     ]
    },
    {
     "name": "stdout",
     "output_type": "stream",
     "text": [
      "Fitting 5 folds for each of 1 candidates, totalling 5 fits\n"
     ]
    },
    {
     "name": "stderr",
     "output_type": "stream",
     "text": [
      "[Parallel(n_jobs=-1)]: Using backend LokyBackend with 6 concurrent workers.\n",
      "[Parallel(n_jobs=-1)]: Done   5 out of   5 | elapsed:    0.2s finished\n"
     ]
    },
    {
     "name": "stdout",
     "output_type": "stream",
     "text": [
      "Fitting 5 folds for each of 1 candidates, totalling 5 fits\n"
     ]
    },
    {
     "name": "stderr",
     "output_type": "stream",
     "text": [
      "[Parallel(n_jobs=-1)]: Using backend LokyBackend with 6 concurrent workers.\n",
      "[Parallel(n_jobs=-1)]: Done   5 out of   5 | elapsed:    0.0s finished\n"
     ]
    },
    {
     "name": "stdout",
     "output_type": "stream",
     "text": [
      "Fitting 5 folds for each of 1 candidates, totalling 5 fits\n"
     ]
    },
    {
     "name": "stderr",
     "output_type": "stream",
     "text": [
      "[Parallel(n_jobs=-1)]: Using backend LokyBackend with 6 concurrent workers.\n",
      "[Parallel(n_jobs=-1)]: Done   5 out of   5 | elapsed:    0.6s finished\n"
     ]
    },
    {
     "name": "stdout",
     "output_type": "stream",
     "text": [
      "Fitting 5 folds for each of 1 candidates, totalling 5 fits\n"
     ]
    },
    {
     "name": "stderr",
     "output_type": "stream",
     "text": [
      "[Parallel(n_jobs=-1)]: Using backend LokyBackend with 6 concurrent workers.\n",
      "[Parallel(n_jobs=-1)]: Done   5 out of   5 | elapsed:    0.0s finished\n"
     ]
    },
    {
     "name": "stdout",
     "output_type": "stream",
     "text": [
      "Fitting 5 folds for each of 1 candidates, totalling 5 fits\n"
     ]
    },
    {
     "name": "stderr",
     "output_type": "stream",
     "text": [
      "[Parallel(n_jobs=-1)]: Using backend LokyBackend with 6 concurrent workers.\n",
      "[Parallel(n_jobs=-1)]: Done   5 out of   5 | elapsed:    0.1s finished\n"
     ]
    },
    {
     "name": "stdout",
     "output_type": "stream",
     "text": [
      "Fitting 5 folds for each of 1 candidates, totalling 5 fits\n"
     ]
    },
    {
     "name": "stderr",
     "output_type": "stream",
     "text": [
      "[Parallel(n_jobs=-1)]: Using backend LokyBackend with 6 concurrent workers.\n",
      "[Parallel(n_jobs=-1)]: Done   5 out of   5 | elapsed:    0.0s finished\n"
     ]
    },
    {
     "name": "stdout",
     "output_type": "stream",
     "text": [
      "Fitting 5 folds for each of 1 candidates, totalling 5 fits\n"
     ]
    },
    {
     "name": "stderr",
     "output_type": "stream",
     "text": [
      "[Parallel(n_jobs=-1)]: Using backend LokyBackend with 6 concurrent workers.\n",
      "[Parallel(n_jobs=-1)]: Done   5 out of   5 | elapsed:    0.0s finished\n"
     ]
    },
    {
     "name": "stdout",
     "output_type": "stream",
     "text": [
      "Fitting 5 folds for each of 1 candidates, totalling 5 fits\n"
     ]
    },
    {
     "name": "stderr",
     "output_type": "stream",
     "text": [
      "[Parallel(n_jobs=-1)]: Using backend LokyBackend with 6 concurrent workers.\n",
      "[Parallel(n_jobs=-1)]: Done   5 out of   5 | elapsed:    0.4s finished\n"
     ]
    },
    {
     "name": "stdout",
     "output_type": "stream",
     "text": [
      "Fitting 5 folds for each of 1 candidates, totalling 5 fits\n"
     ]
    },
    {
     "name": "stderr",
     "output_type": "stream",
     "text": [
      "[Parallel(n_jobs=-1)]: Using backend LokyBackend with 6 concurrent workers.\n",
      "[Parallel(n_jobs=-1)]: Done   5 out of   5 | elapsed:    0.0s finished\n"
     ]
    },
    {
     "name": "stdout",
     "output_type": "stream",
     "text": [
      "Fitting 5 folds for each of 1 candidates, totalling 5 fits\n"
     ]
    },
    {
     "name": "stderr",
     "output_type": "stream",
     "text": [
      "[Parallel(n_jobs=-1)]: Using backend LokyBackend with 6 concurrent workers.\n",
      "[Parallel(n_jobs=-1)]: Done   5 out of   5 | elapsed:    0.2s finished\n"
     ]
    },
    {
     "name": "stdout",
     "output_type": "stream",
     "text": [
      "Fitting 5 folds for each of 1 candidates, totalling 5 fits\n"
     ]
    },
    {
     "name": "stderr",
     "output_type": "stream",
     "text": [
      "[Parallel(n_jobs=-1)]: Using backend LokyBackend with 6 concurrent workers.\n",
      "[Parallel(n_jobs=-1)]: Done   5 out of   5 | elapsed:    0.0s finished\n"
     ]
    },
    {
     "name": "stdout",
     "output_type": "stream",
     "text": [
      "Fitting 5 folds for each of 1 candidates, totalling 5 fits\n"
     ]
    },
    {
     "name": "stderr",
     "output_type": "stream",
     "text": [
      "[Parallel(n_jobs=-1)]: Using backend LokyBackend with 6 concurrent workers.\n",
      "[Parallel(n_jobs=-1)]: Done   5 out of   5 | elapsed:    0.2s finished\n"
     ]
    },
    {
     "name": "stdout",
     "output_type": "stream",
     "text": [
      "Fitting 5 folds for each of 1 candidates, totalling 5 fits\n"
     ]
    },
    {
     "name": "stderr",
     "output_type": "stream",
     "text": [
      "[Parallel(n_jobs=-1)]: Using backend LokyBackend with 6 concurrent workers.\n",
      "[Parallel(n_jobs=-1)]: Done   5 out of   5 | elapsed:    0.0s finished\n"
     ]
    },
    {
     "name": "stdout",
     "output_type": "stream",
     "text": [
      "Fitting 5 folds for each of 1 candidates, totalling 5 fits\n"
     ]
    },
    {
     "name": "stderr",
     "output_type": "stream",
     "text": [
      "[Parallel(n_jobs=-1)]: Using backend LokyBackend with 6 concurrent workers.\n",
      "[Parallel(n_jobs=-1)]: Done   5 out of   5 | elapsed:    0.2s finished\n"
     ]
    },
    {
     "name": "stdout",
     "output_type": "stream",
     "text": [
      "Fitting 5 folds for each of 1 candidates, totalling 5 fits\n"
     ]
    },
    {
     "name": "stderr",
     "output_type": "stream",
     "text": [
      "[Parallel(n_jobs=-1)]: Using backend LokyBackend with 6 concurrent workers.\n",
      "[Parallel(n_jobs=-1)]: Done   5 out of   5 | elapsed:    0.0s finished\n"
     ]
    },
    {
     "name": "stdout",
     "output_type": "stream",
     "text": [
      "Fitting 5 folds for each of 1 candidates, totalling 5 fits\n"
     ]
    },
    {
     "name": "stderr",
     "output_type": "stream",
     "text": [
      "[Parallel(n_jobs=-1)]: Using backend LokyBackend with 6 concurrent workers.\n",
      "[Parallel(n_jobs=-1)]: Done   5 out of   5 | elapsed:    0.2s finished\n"
     ]
    },
    {
     "name": "stdout",
     "output_type": "stream",
     "text": [
      "Fitting 5 folds for each of 1 candidates, totalling 5 fits\n"
     ]
    },
    {
     "name": "stderr",
     "output_type": "stream",
     "text": [
      "[Parallel(n_jobs=-1)]: Using backend LokyBackend with 6 concurrent workers.\n",
      "[Parallel(n_jobs=-1)]: Done   5 out of   5 | elapsed:    0.1s finished\n"
     ]
    },
    {
     "name": "stdout",
     "output_type": "stream",
     "text": [
      "Fitting 5 folds for each of 1 candidates, totalling 5 fits\n"
     ]
    },
    {
     "name": "stderr",
     "output_type": "stream",
     "text": [
      "[Parallel(n_jobs=-1)]: Using backend LokyBackend with 6 concurrent workers.\n",
      "[Parallel(n_jobs=-1)]: Done   5 out of   5 | elapsed:    0.1s finished\n"
     ]
    },
    {
     "name": "stdout",
     "output_type": "stream",
     "text": [
      "Fitting 5 folds for each of 1 candidates, totalling 5 fits\n"
     ]
    },
    {
     "name": "stderr",
     "output_type": "stream",
     "text": [
      "[Parallel(n_jobs=-1)]: Using backend LokyBackend with 6 concurrent workers.\n",
      "[Parallel(n_jobs=-1)]: Done   5 out of   5 | elapsed:    0.3s finished\n"
     ]
    },
    {
     "name": "stdout",
     "output_type": "stream",
     "text": [
      "Fitting 5 folds for each of 1 candidates, totalling 5 fits\n"
     ]
    },
    {
     "name": "stderr",
     "output_type": "stream",
     "text": [
      "[Parallel(n_jobs=-1)]: Using backend LokyBackend with 6 concurrent workers.\n",
      "[Parallel(n_jobs=-1)]: Done   5 out of   5 | elapsed:    0.1s finished\n"
     ]
    },
    {
     "name": "stdout",
     "output_type": "stream",
     "text": [
      "Fitting 5 folds for each of 1 candidates, totalling 5 fits\n"
     ]
    },
    {
     "name": "stderr",
     "output_type": "stream",
     "text": [
      "[Parallel(n_jobs=-1)]: Using backend LokyBackend with 6 concurrent workers.\n",
      "[Parallel(n_jobs=-1)]: Done   5 out of   5 | elapsed:    0.3s finished\n"
     ]
    },
    {
     "name": "stdout",
     "output_type": "stream",
     "text": [
      "Fitting 5 folds for each of 1 candidates, totalling 5 fits\n"
     ]
    },
    {
     "name": "stderr",
     "output_type": "stream",
     "text": [
      "[Parallel(n_jobs=-1)]: Using backend LokyBackend with 6 concurrent workers.\n",
      "[Parallel(n_jobs=-1)]: Done   5 out of   5 | elapsed:    0.3s finished\n"
     ]
    },
    {
     "name": "stdout",
     "output_type": "stream",
     "text": [
      "Fitting 5 folds for each of 1 candidates, totalling 5 fits\n"
     ]
    },
    {
     "name": "stderr",
     "output_type": "stream",
     "text": [
      "[Parallel(n_jobs=-1)]: Using backend LokyBackend with 6 concurrent workers.\n",
      "[Parallel(n_jobs=-1)]: Done   5 out of   5 | elapsed:    0.2s finished\n"
     ]
    },
    {
     "name": "stdout",
     "output_type": "stream",
     "text": [
      "Fitting 5 folds for each of 1 candidates, totalling 5 fits\n"
     ]
    },
    {
     "name": "stderr",
     "output_type": "stream",
     "text": [
      "[Parallel(n_jobs=-1)]: Using backend LokyBackend with 6 concurrent workers.\n",
      "[Parallel(n_jobs=-1)]: Done   5 out of   5 | elapsed:    0.4s finished\n"
     ]
    },
    {
     "name": "stdout",
     "output_type": "stream",
     "text": [
      "Fitting 5 folds for each of 1 candidates, totalling 5 fits\n"
     ]
    },
    {
     "name": "stderr",
     "output_type": "stream",
     "text": [
      "[Parallel(n_jobs=-1)]: Using backend LokyBackend with 6 concurrent workers.\n",
      "[Parallel(n_jobs=-1)]: Done   5 out of   5 | elapsed:    0.2s finished\n"
     ]
    },
    {
     "name": "stdout",
     "output_type": "stream",
     "text": [
      "Fitting 5 folds for each of 1 candidates, totalling 5 fits\n"
     ]
    },
    {
     "name": "stderr",
     "output_type": "stream",
     "text": [
      "[Parallel(n_jobs=-1)]: Using backend LokyBackend with 6 concurrent workers.\n",
      "[Parallel(n_jobs=-1)]: Done   5 out of   5 | elapsed:    0.4s finished\n"
     ]
    },
    {
     "name": "stdout",
     "output_type": "stream",
     "text": [
      "Fitting 5 folds for each of 1 candidates, totalling 5 fits\n"
     ]
    },
    {
     "name": "stderr",
     "output_type": "stream",
     "text": [
      "[Parallel(n_jobs=-1)]: Using backend LokyBackend with 6 concurrent workers.\n",
      "[Parallel(n_jobs=-1)]: Done   5 out of   5 | elapsed:    0.8s finished\n"
     ]
    },
    {
     "name": "stdout",
     "output_type": "stream",
     "text": [
      "Fitting 5 folds for each of 1 candidates, totalling 5 fits\n"
     ]
    },
    {
     "name": "stderr",
     "output_type": "stream",
     "text": [
      "[Parallel(n_jobs=-1)]: Using backend LokyBackend with 6 concurrent workers.\n",
      "[Parallel(n_jobs=-1)]: Done   5 out of   5 | elapsed:    0.9s finished\n"
     ]
    },
    {
     "name": "stdout",
     "output_type": "stream",
     "text": [
      "Fitting 5 folds for each of 1 candidates, totalling 5 fits\n"
     ]
    },
    {
     "name": "stderr",
     "output_type": "stream",
     "text": [
      "[Parallel(n_jobs=-1)]: Using backend LokyBackend with 6 concurrent workers.\n",
      "[Parallel(n_jobs=-1)]: Done   5 out of   5 | elapsed:    0.2s finished\n"
     ]
    },
    {
     "name": "stdout",
     "output_type": "stream",
     "text": [
      "Fitting 5 folds for each of 1 candidates, totalling 5 fits\n"
     ]
    },
    {
     "name": "stderr",
     "output_type": "stream",
     "text": [
      "[Parallel(n_jobs=-1)]: Using backend LokyBackend with 6 concurrent workers.\n",
      "[Parallel(n_jobs=-1)]: Done   5 out of   5 | elapsed:    0.4s finished\n"
     ]
    },
    {
     "name": "stdout",
     "output_type": "stream",
     "text": [
      "Fitting 5 folds for each of 1 candidates, totalling 5 fits\n"
     ]
    },
    {
     "name": "stderr",
     "output_type": "stream",
     "text": [
      "[Parallel(n_jobs=-1)]: Using backend LokyBackend with 6 concurrent workers.\n",
      "[Parallel(n_jobs=-1)]: Done   5 out of   5 | elapsed:    1.1s finished\n"
     ]
    },
    {
     "name": "stdout",
     "output_type": "stream",
     "text": [
      "Fitting 5 folds for each of 1 candidates, totalling 5 fits\n"
     ]
    },
    {
     "name": "stderr",
     "output_type": "stream",
     "text": [
      "[Parallel(n_jobs=-1)]: Using backend LokyBackend with 6 concurrent workers.\n",
      "[Parallel(n_jobs=-1)]: Done   5 out of   5 | elapsed:    0.6s finished\n"
     ]
    },
    {
     "name": "stdout",
     "output_type": "stream",
     "text": [
      "Fitting 5 folds for each of 1 candidates, totalling 5 fits\n"
     ]
    },
    {
     "name": "stderr",
     "output_type": "stream",
     "text": [
      "[Parallel(n_jobs=-1)]: Using backend LokyBackend with 6 concurrent workers.\n",
      "[Parallel(n_jobs=-1)]: Done   5 out of   5 | elapsed:    0.2s finished\n"
     ]
    },
    {
     "name": "stdout",
     "output_type": "stream",
     "text": [
      "Fitting 5 folds for each of 1 candidates, totalling 5 fits\n"
     ]
    },
    {
     "name": "stderr",
     "output_type": "stream",
     "text": [
      "[Parallel(n_jobs=-1)]: Using backend LokyBackend with 6 concurrent workers.\n",
      "[Parallel(n_jobs=-1)]: Done   5 out of   5 | elapsed:    2.2s finished\n"
     ]
    },
    {
     "name": "stdout",
     "output_type": "stream",
     "text": [
      "Fitting 5 folds for each of 1 candidates, totalling 5 fits\n"
     ]
    },
    {
     "name": "stderr",
     "output_type": "stream",
     "text": [
      "[Parallel(n_jobs=-1)]: Using backend LokyBackend with 6 concurrent workers.\n",
      "[Parallel(n_jobs=-1)]: Done   5 out of   5 | elapsed:    0.0s finished\n"
     ]
    },
    {
     "name": "stdout",
     "output_type": "stream",
     "text": [
      "Fitting 5 folds for each of 1 candidates, totalling 5 fits\n"
     ]
    },
    {
     "name": "stderr",
     "output_type": "stream",
     "text": [
      "[Parallel(n_jobs=-1)]: Using backend LokyBackend with 6 concurrent workers.\n",
      "[Parallel(n_jobs=-1)]: Done   5 out of   5 | elapsed:    0.7s finished\n"
     ]
    },
    {
     "name": "stdout",
     "output_type": "stream",
     "text": [
      "Fitting 5 folds for each of 1 candidates, totalling 5 fits\n"
     ]
    },
    {
     "name": "stderr",
     "output_type": "stream",
     "text": [
      "[Parallel(n_jobs=-1)]: Using backend LokyBackend with 6 concurrent workers.\n",
      "[Parallel(n_jobs=-1)]: Done   5 out of   5 | elapsed:    1.6s finished\n"
     ]
    },
    {
     "name": "stdout",
     "output_type": "stream",
     "text": [
      "Fitting 5 folds for each of 1 candidates, totalling 5 fits\n"
     ]
    },
    {
     "name": "stderr",
     "output_type": "stream",
     "text": [
      "[Parallel(n_jobs=-1)]: Using backend LokyBackend with 6 concurrent workers.\n",
      "[Parallel(n_jobs=-1)]: Done   5 out of   5 | elapsed:    0.1s finished\n"
     ]
    },
    {
     "name": "stdout",
     "output_type": "stream",
     "text": [
      "Fitting 5 folds for each of 1 candidates, totalling 5 fits\n"
     ]
    },
    {
     "name": "stderr",
     "output_type": "stream",
     "text": [
      "[Parallel(n_jobs=-1)]: Using backend LokyBackend with 6 concurrent workers.\n",
      "[Parallel(n_jobs=-1)]: Done   5 out of   5 | elapsed:    0.1s finished\n"
     ]
    },
    {
     "name": "stdout",
     "output_type": "stream",
     "text": [
      "Fitting 5 folds for each of 1 candidates, totalling 5 fits\n"
     ]
    },
    {
     "name": "stderr",
     "output_type": "stream",
     "text": [
      "[Parallel(n_jobs=-1)]: Using backend LokyBackend with 6 concurrent workers.\n",
      "[Parallel(n_jobs=-1)]: Done   5 out of   5 | elapsed:    0.2s finished\n"
     ]
    },
    {
     "name": "stdout",
     "output_type": "stream",
     "text": [
      "Fitting 5 folds for each of 1 candidates, totalling 5 fits\n"
     ]
    },
    {
     "name": "stderr",
     "output_type": "stream",
     "text": [
      "[Parallel(n_jobs=-1)]: Using backend LokyBackend with 6 concurrent workers.\n",
      "[Parallel(n_jobs=-1)]: Done   5 out of   5 | elapsed:    0.7s finished\n"
     ]
    },
    {
     "name": "stdout",
     "output_type": "stream",
     "text": [
      "Fitting 5 folds for each of 1 candidates, totalling 5 fits\n"
     ]
    },
    {
     "name": "stderr",
     "output_type": "stream",
     "text": [
      "[Parallel(n_jobs=-1)]: Using backend LokyBackend with 6 concurrent workers.\n",
      "[Parallel(n_jobs=-1)]: Done   5 out of   5 | elapsed:    0.2s finished\n"
     ]
    },
    {
     "name": "stdout",
     "output_type": "stream",
     "text": [
      "Fitting 5 folds for each of 1 candidates, totalling 5 fits\n"
     ]
    },
    {
     "name": "stderr",
     "output_type": "stream",
     "text": [
      "[Parallel(n_jobs=-1)]: Using backend LokyBackend with 6 concurrent workers.\n",
      "[Parallel(n_jobs=-1)]: Done   5 out of   5 | elapsed:    1.5s finished\n"
     ]
    },
    {
     "name": "stdout",
     "output_type": "stream",
     "text": [
      "Fitting 5 folds for each of 1 candidates, totalling 5 fits\n"
     ]
    },
    {
     "name": "stderr",
     "output_type": "stream",
     "text": [
      "[Parallel(n_jobs=-1)]: Using backend LokyBackend with 6 concurrent workers.\n",
      "[Parallel(n_jobs=-1)]: Done   5 out of   5 | elapsed:    0.1s finished\n"
     ]
    },
    {
     "name": "stdout",
     "output_type": "stream",
     "text": [
      "Fitting 5 folds for each of 1 candidates, totalling 5 fits\n"
     ]
    },
    {
     "name": "stderr",
     "output_type": "stream",
     "text": [
      "[Parallel(n_jobs=-1)]: Using backend LokyBackend with 6 concurrent workers.\n",
      "[Parallel(n_jobs=-1)]: Done   5 out of   5 | elapsed:    0.4s finished\n"
     ]
    },
    {
     "name": "stdout",
     "output_type": "stream",
     "text": [
      "Fitting 5 folds for each of 1 candidates, totalling 5 fits\n"
     ]
    },
    {
     "name": "stderr",
     "output_type": "stream",
     "text": [
      "[Parallel(n_jobs=-1)]: Using backend LokyBackend with 6 concurrent workers.\n",
      "[Parallel(n_jobs=-1)]: Done   5 out of   5 | elapsed:    0.2s finished\n"
     ]
    },
    {
     "name": "stdout",
     "output_type": "stream",
     "text": [
      "Fitting 5 folds for each of 1 candidates, totalling 5 fits\n"
     ]
    },
    {
     "name": "stderr",
     "output_type": "stream",
     "text": [
      "[Parallel(n_jobs=-1)]: Using backend LokyBackend with 6 concurrent workers.\n",
      "[Parallel(n_jobs=-1)]: Done   5 out of   5 | elapsed:    0.9s finished\n"
     ]
    },
    {
     "name": "stdout",
     "output_type": "stream",
     "text": [
      "Fitting 5 folds for each of 1 candidates, totalling 5 fits\n"
     ]
    },
    {
     "name": "stderr",
     "output_type": "stream",
     "text": [
      "[Parallel(n_jobs=-1)]: Using backend LokyBackend with 6 concurrent workers.\n",
      "[Parallel(n_jobs=-1)]: Done   5 out of   5 | elapsed:    0.0s finished\n"
     ]
    },
    {
     "name": "stdout",
     "output_type": "stream",
     "text": [
      "Fitting 5 folds for each of 1 candidates, totalling 5 fits\n"
     ]
    },
    {
     "name": "stderr",
     "output_type": "stream",
     "text": [
      "[Parallel(n_jobs=-1)]: Using backend LokyBackend with 6 concurrent workers.\n",
      "[Parallel(n_jobs=-1)]: Done   5 out of   5 | elapsed:    0.2s finished\n"
     ]
    },
    {
     "name": "stdout",
     "output_type": "stream",
     "text": [
      "Fitting 5 folds for each of 1 candidates, totalling 5 fits\n"
     ]
    },
    {
     "name": "stderr",
     "output_type": "stream",
     "text": [
      "[Parallel(n_jobs=-1)]: Using backend LokyBackend with 6 concurrent workers.\n",
      "[Parallel(n_jobs=-1)]: Done   5 out of   5 | elapsed:    0.2s finished\n"
     ]
    },
    {
     "name": "stdout",
     "output_type": "stream",
     "text": [
      "Fitting 5 folds for each of 1 candidates, totalling 5 fits\n"
     ]
    },
    {
     "name": "stderr",
     "output_type": "stream",
     "text": [
      "[Parallel(n_jobs=-1)]: Using backend LokyBackend with 6 concurrent workers.\n",
      "[Parallel(n_jobs=-1)]: Done   5 out of   5 | elapsed:    0.3s finished\n"
     ]
    },
    {
     "name": "stdout",
     "output_type": "stream",
     "text": [
      "Fitting 5 folds for each of 1 candidates, totalling 5 fits\n"
     ]
    },
    {
     "name": "stderr",
     "output_type": "stream",
     "text": [
      "[Parallel(n_jobs=-1)]: Using backend LokyBackend with 6 concurrent workers.\n",
      "[Parallel(n_jobs=-1)]: Done   5 out of   5 | elapsed:    0.9s finished\n"
     ]
    },
    {
     "ename": "MemoryError",
     "evalue": "Unable to allocate 10.1 MiB for an array with shape (10000, 132) and data type float64",
     "output_type": "error",
     "traceback": [
      "\u001b[1;31m---------------------------------------------------------------------------\u001b[0m",
      "\u001b[1;31mMemoryError\u001b[0m                               Traceback (most recent call last)",
      "\u001b[1;32m<ipython-input-8-e914c2ade075>\u001b[0m in \u001b[0;36m<module>\u001b[1;34m\u001b[0m\n\u001b[0;32m      1\u001b[0m \u001b[0mcat\u001b[0m \u001b[1;33m=\u001b[0m \u001b[0mcreate_model\u001b[0m\u001b[1;33m(\u001b[0m\u001b[1;34m'catboost'\u001b[0m\u001b[1;33m)\u001b[0m\u001b[1;33m\u001b[0m\u001b[1;33m\u001b[0m\u001b[0m\n\u001b[1;32m----> 2\u001b[1;33m \u001b[0mtunedcat\u001b[0m \u001b[1;33m=\u001b[0m \u001b[0mtune_model\u001b[0m\u001b[1;33m(\u001b[0m\u001b[0mcat\u001b[0m\u001b[1;33m,\u001b[0m \u001b[0mn_iter\u001b[0m \u001b[1;33m=\u001b[0m \u001b[1;36m200\u001b[0m\u001b[1;33m,\u001b[0m  \u001b[0msearch_library\u001b[0m \u001b[1;33m=\u001b[0m \u001b[1;34m'scikit-optimize'\u001b[0m\u001b[1;33m,\u001b[0m \u001b[0moptimize\u001b[0m \u001b[1;33m=\u001b[0m \u001b[1;34m'AUC'\u001b[0m\u001b[1;33m)\u001b[0m\u001b[1;33m\u001b[0m\u001b[1;33m\u001b[0m\u001b[0m\n\u001b[0m\u001b[0;32m      3\u001b[0m \u001b[0mpredict_model\u001b[0m\u001b[1;33m(\u001b[0m\u001b[0mtunedcat\u001b[0m\u001b[1;33m)\u001b[0m\u001b[1;33m\u001b[0m\u001b[1;33m\u001b[0m\u001b[0m\n",
      "\u001b[1;32mE:\\software\\ada\\lib\\site-packages\\pycaret\\classification.py\u001b[0m in \u001b[0;36mtune_model\u001b[1;34m(estimator, fold, round, n_iter, custom_grid, optimize, custom_scorer, search_library, search_algorithm, early_stopping, early_stopping_max_iters, choose_better, fit_kwargs, groups, return_tuner, verbose, tuner_verbose, return_train_score, **kwargs)\u001b[0m\n\u001b[0;32m   1181\u001b[0m         \u001b[0mtuner_verbose\u001b[0m\u001b[1;33m=\u001b[0m\u001b[0mtuner_verbose\u001b[0m\u001b[1;33m,\u001b[0m\u001b[1;33m\u001b[0m\u001b[1;33m\u001b[0m\u001b[0m\n\u001b[0;32m   1182\u001b[0m         \u001b[0mreturn_train_score\u001b[0m\u001b[1;33m=\u001b[0m\u001b[0mreturn_train_score\u001b[0m\u001b[1;33m,\u001b[0m\u001b[1;33m\u001b[0m\u001b[1;33m\u001b[0m\u001b[0m\n\u001b[1;32m-> 1183\u001b[1;33m         \u001b[1;33m**\u001b[0m\u001b[0mkwargs\u001b[0m\u001b[1;33m,\u001b[0m\u001b[1;33m\u001b[0m\u001b[1;33m\u001b[0m\u001b[0m\n\u001b[0m\u001b[0;32m   1184\u001b[0m     )\n\u001b[0;32m   1185\u001b[0m \u001b[1;33m\u001b[0m\u001b[0m\n",
      "\u001b[1;32mE:\\software\\ada\\lib\\site-packages\\pycaret\\internal\\tabular.py\u001b[0m in \u001b[0;36mtune_model_supervised\u001b[1;34m(estimator, fold, round, n_iter, custom_grid, optimize, custom_scorer, search_library, search_algorithm, early_stopping, early_stopping_max_iters, choose_better, fit_kwargs, groups, return_tuner, verbose, tuner_verbose, display, return_train_score, **kwargs)\u001b[0m\n\u001b[0;32m   4679\u001b[0m                 \u001b[0mmodel_grid\u001b[0m\u001b[1;33m.\u001b[0m\u001b[0mfit\u001b[0m\u001b[1;33m(\u001b[0m\u001b[0mX_train\u001b[0m\u001b[1;33m,\u001b[0m \u001b[0my_train\u001b[0m\u001b[1;33m,\u001b[0m \u001b[0mgroups\u001b[0m\u001b[1;33m=\u001b[0m\u001b[0mgroups\u001b[0m\u001b[1;33m,\u001b[0m \u001b[1;33m**\u001b[0m\u001b[0mfit_kwargs\u001b[0m\u001b[1;33m)\u001b[0m\u001b[1;33m\u001b[0m\u001b[1;33m\u001b[0m\u001b[0m\n\u001b[0;32m   4680\u001b[0m         \u001b[1;32melse\u001b[0m\u001b[1;33m:\u001b[0m\u001b[1;33m\u001b[0m\u001b[1;33m\u001b[0m\u001b[0m\n\u001b[1;32m-> 4681\u001b[1;33m             \u001b[0mmodel_grid\u001b[0m\u001b[1;33m.\u001b[0m\u001b[0mfit\u001b[0m\u001b[1;33m(\u001b[0m\u001b[0mX_train\u001b[0m\u001b[1;33m,\u001b[0m \u001b[0my_train\u001b[0m\u001b[1;33m,\u001b[0m \u001b[0mgroups\u001b[0m\u001b[1;33m=\u001b[0m\u001b[0mgroups\u001b[0m\u001b[1;33m,\u001b[0m \u001b[1;33m**\u001b[0m\u001b[0mfit_kwargs\u001b[0m\u001b[1;33m)\u001b[0m\u001b[1;33m\u001b[0m\u001b[1;33m\u001b[0m\u001b[0m\n\u001b[0m\u001b[0;32m   4682\u001b[0m         \u001b[0mbest_params\u001b[0m \u001b[1;33m=\u001b[0m \u001b[0mmodel_grid\u001b[0m\u001b[1;33m.\u001b[0m\u001b[0mbest_params_\u001b[0m\u001b[1;33m\u001b[0m\u001b[1;33m\u001b[0m\u001b[0m\n\u001b[0;32m   4683\u001b[0m         \u001b[0mlogger\u001b[0m\u001b[1;33m.\u001b[0m\u001b[0minfo\u001b[0m\u001b[1;33m(\u001b[0m\u001b[1;34mf\"best_params: {best_params}\"\u001b[0m\u001b[1;33m)\u001b[0m\u001b[1;33m\u001b[0m\u001b[1;33m\u001b[0m\u001b[0m\n",
      "\u001b[1;32mE:\\software\\ada\\lib\\site-packages\\skopt\\searchcv.py\u001b[0m in \u001b[0;36mfit\u001b[1;34m(self, X, y, groups, callback)\u001b[0m\n\u001b[0;32m    692\u001b[0m                 optim_result = self._step(\n\u001b[0;32m    693\u001b[0m                     \u001b[0mX\u001b[0m\u001b[1;33m,\u001b[0m \u001b[0my\u001b[0m\u001b[1;33m,\u001b[0m \u001b[0msearch_space\u001b[0m\u001b[1;33m,\u001b[0m \u001b[0moptimizer\u001b[0m\u001b[1;33m,\u001b[0m\u001b[1;33m\u001b[0m\u001b[1;33m\u001b[0m\u001b[0m\n\u001b[1;32m--> 694\u001b[1;33m                     \u001b[0mgroups\u001b[0m\u001b[1;33m=\u001b[0m\u001b[0mgroups\u001b[0m\u001b[1;33m,\u001b[0m \u001b[0mn_points\u001b[0m\u001b[1;33m=\u001b[0m\u001b[0mn_points_adjusted\u001b[0m\u001b[1;33m\u001b[0m\u001b[1;33m\u001b[0m\u001b[0m\n\u001b[0m\u001b[0;32m    695\u001b[0m                 )\n\u001b[0;32m    696\u001b[0m                 \u001b[0mn_iter\u001b[0m \u001b[1;33m-=\u001b[0m \u001b[0mn_points\u001b[0m\u001b[1;33m\u001b[0m\u001b[1;33m\u001b[0m\u001b[0m\n",
      "\u001b[1;32mE:\\software\\ada\\lib\\site-packages\\skopt\\searchcv.py\u001b[0m in \u001b[0;36m_step\u001b[1;34m(self, X, y, search_space, optimizer, groups, n_points)\u001b[0m\n\u001b[0;32m    563\u001b[0m \u001b[1;33m\u001b[0m\u001b[0m\n\u001b[0;32m    564\u001b[0m         \u001b[1;31m# get parameter values to evaluate\u001b[0m\u001b[1;33m\u001b[0m\u001b[1;33m\u001b[0m\u001b[1;33m\u001b[0m\u001b[0m\n\u001b[1;32m--> 565\u001b[1;33m         \u001b[0mparams\u001b[0m \u001b[1;33m=\u001b[0m \u001b[0moptimizer\u001b[0m\u001b[1;33m.\u001b[0m\u001b[0mask\u001b[0m\u001b[1;33m(\u001b[0m\u001b[0mn_points\u001b[0m\u001b[1;33m=\u001b[0m\u001b[0mn_points\u001b[0m\u001b[1;33m)\u001b[0m\u001b[1;33m\u001b[0m\u001b[1;33m\u001b[0m\u001b[0m\n\u001b[0m\u001b[0;32m    566\u001b[0m \u001b[1;33m\u001b[0m\u001b[0m\n\u001b[0;32m    567\u001b[0m         \u001b[1;31m# convert parameters to python native types\u001b[0m\u001b[1;33m\u001b[0m\u001b[1;33m\u001b[0m\u001b[1;33m\u001b[0m\u001b[0m\n",
      "\u001b[1;32mE:\\software\\ada\\lib\\site-packages\\skopt\\optimizer\\optimizer.py\u001b[0m in \u001b[0;36mask\u001b[1;34m(self, n_points, strategy)\u001b[0m\n\u001b[0;32m    389\u001b[0m         \u001b[1;31m# oiptimizer is simply discarded)\u001b[0m\u001b[1;33m\u001b[0m\u001b[1;33m\u001b[0m\u001b[1;33m\u001b[0m\u001b[0m\n\u001b[0;32m    390\u001b[0m         opt = self.copy(random_state=self.rng.randint(0,\n\u001b[1;32m--> 391\u001b[1;33m                                                       np.iinfo(np.int32).max))\n\u001b[0m\u001b[0;32m    392\u001b[0m \u001b[1;33m\u001b[0m\u001b[0m\n\u001b[0;32m    393\u001b[0m         \u001b[0mX\u001b[0m \u001b[1;33m=\u001b[0m \u001b[1;33m[\u001b[0m\u001b[1;33m]\u001b[0m\u001b[1;33m\u001b[0m\u001b[1;33m\u001b[0m\u001b[0m\n",
      "\u001b[1;32mE:\\software\\ada\\lib\\site-packages\\skopt\\optimizer\\optimizer.py\u001b[0m in \u001b[0;36mcopy\u001b[1;34m(self, random_state)\u001b[0m\n\u001b[0;32m    329\u001b[0m             \u001b[0moptimizer\u001b[0m\u001b[1;33m.\u001b[0m\u001b[0mgains_\u001b[0m \u001b[1;33m=\u001b[0m \u001b[0mnp\u001b[0m\u001b[1;33m.\u001b[0m\u001b[0mcopy\u001b[0m\u001b[1;33m(\u001b[0m\u001b[0mself\u001b[0m\u001b[1;33m.\u001b[0m\u001b[0mgains_\u001b[0m\u001b[1;33m)\u001b[0m\u001b[1;33m\u001b[0m\u001b[1;33m\u001b[0m\u001b[0m\n\u001b[0;32m    330\u001b[0m         \u001b[1;32mif\u001b[0m \u001b[0mself\u001b[0m\u001b[1;33m.\u001b[0m\u001b[0mXi\u001b[0m\u001b[1;33m:\u001b[0m\u001b[1;33m\u001b[0m\u001b[1;33m\u001b[0m\u001b[0m\n\u001b[1;32m--> 331\u001b[1;33m             \u001b[0moptimizer\u001b[0m\u001b[1;33m.\u001b[0m\u001b[0m_tell\u001b[0m\u001b[1;33m(\u001b[0m\u001b[0mself\u001b[0m\u001b[1;33m.\u001b[0m\u001b[0mXi\u001b[0m\u001b[1;33m,\u001b[0m \u001b[0mself\u001b[0m\u001b[1;33m.\u001b[0m\u001b[0myi\u001b[0m\u001b[1;33m)\u001b[0m\u001b[1;33m\u001b[0m\u001b[1;33m\u001b[0m\u001b[0m\n\u001b[0m\u001b[0;32m    332\u001b[0m \u001b[1;33m\u001b[0m\u001b[0m\n\u001b[0;32m    333\u001b[0m         \u001b[1;32mreturn\u001b[0m \u001b[0moptimizer\u001b[0m\u001b[1;33m\u001b[0m\u001b[1;33m\u001b[0m\u001b[0m\n",
      "\u001b[1;32mE:\\software\\ada\\lib\\site-packages\\skopt\\optimizer\\optimizer.py\u001b[0m in \u001b[0;36m_tell\u001b[1;34m(self, x, y, fit)\u001b[0m\n\u001b[0;32m    558\u001b[0m                     \u001b[0mX\u001b[0m\u001b[1;33m=\u001b[0m\u001b[0mX\u001b[0m\u001b[1;33m,\u001b[0m \u001b[0mmodel\u001b[0m\u001b[1;33m=\u001b[0m\u001b[0mest\u001b[0m\u001b[1;33m,\u001b[0m \u001b[0my_opt\u001b[0m\u001b[1;33m=\u001b[0m\u001b[0mnp\u001b[0m\u001b[1;33m.\u001b[0m\u001b[0mmin\u001b[0m\u001b[1;33m(\u001b[0m\u001b[0mself\u001b[0m\u001b[1;33m.\u001b[0m\u001b[0myi\u001b[0m\u001b[1;33m)\u001b[0m\u001b[1;33m,\u001b[0m\u001b[1;33m\u001b[0m\u001b[1;33m\u001b[0m\u001b[0m\n\u001b[0;32m    559\u001b[0m                     \u001b[0macq_func\u001b[0m\u001b[1;33m=\u001b[0m\u001b[0mcand_acq_func\u001b[0m\u001b[1;33m,\u001b[0m\u001b[1;33m\u001b[0m\u001b[1;33m\u001b[0m\u001b[0m\n\u001b[1;32m--> 560\u001b[1;33m                     acq_func_kwargs=self.acq_func_kwargs)\n\u001b[0m\u001b[0;32m    561\u001b[0m                 \u001b[1;31m# Find the minimum of the acquisition function by randomly\u001b[0m\u001b[1;33m\u001b[0m\u001b[1;33m\u001b[0m\u001b[1;33m\u001b[0m\u001b[0m\n\u001b[0;32m    562\u001b[0m                 \u001b[1;31m# sampling points from the space\u001b[0m\u001b[1;33m\u001b[0m\u001b[1;33m\u001b[0m\u001b[1;33m\u001b[0m\u001b[0m\n",
      "\u001b[1;32mE:\\software\\ada\\lib\\site-packages\\skopt\\acquisition.py\u001b[0m in \u001b[0;36m_gaussian_acquisition\u001b[1;34m(X, model, y_opt, acq_func, return_grad, acq_func_kwargs)\u001b[0m\n\u001b[0;32m     49\u001b[0m     \u001b[1;32melif\u001b[0m \u001b[0macq_func\u001b[0m \u001b[1;32min\u001b[0m \u001b[1;33m[\u001b[0m\u001b[1;34m\"EI\"\u001b[0m\u001b[1;33m,\u001b[0m \u001b[1;34m\"PI\"\u001b[0m\u001b[1;33m,\u001b[0m \u001b[1;34m\"EIps\"\u001b[0m\u001b[1;33m,\u001b[0m \u001b[1;34m\"PIps\"\u001b[0m\u001b[1;33m]\u001b[0m\u001b[1;33m:\u001b[0m\u001b[1;33m\u001b[0m\u001b[1;33m\u001b[0m\u001b[0m\n\u001b[0;32m     50\u001b[0m         \u001b[1;32mif\u001b[0m \u001b[0macq_func\u001b[0m \u001b[1;32min\u001b[0m \u001b[1;33m[\u001b[0m\u001b[1;34m\"EI\"\u001b[0m\u001b[1;33m,\u001b[0m \u001b[1;34m\"EIps\"\u001b[0m\u001b[1;33m]\u001b[0m\u001b[1;33m:\u001b[0m\u001b[1;33m\u001b[0m\u001b[1;33m\u001b[0m\u001b[0m\n\u001b[1;32m---> 51\u001b[1;33m             \u001b[0mfunc_and_grad\u001b[0m \u001b[1;33m=\u001b[0m \u001b[0mgaussian_ei\u001b[0m\u001b[1;33m(\u001b[0m\u001b[0mX\u001b[0m\u001b[1;33m,\u001b[0m \u001b[0mmodel\u001b[0m\u001b[1;33m,\u001b[0m \u001b[0my_opt\u001b[0m\u001b[1;33m,\u001b[0m \u001b[0mxi\u001b[0m\u001b[1;33m,\u001b[0m \u001b[0mreturn_grad\u001b[0m\u001b[1;33m)\u001b[0m\u001b[1;33m\u001b[0m\u001b[1;33m\u001b[0m\u001b[0m\n\u001b[0m\u001b[0;32m     52\u001b[0m         \u001b[1;32melse\u001b[0m\u001b[1;33m:\u001b[0m\u001b[1;33m\u001b[0m\u001b[1;33m\u001b[0m\u001b[0m\n\u001b[0;32m     53\u001b[0m             \u001b[0mfunc_and_grad\u001b[0m \u001b[1;33m=\u001b[0m \u001b[0mgaussian_pi\u001b[0m\u001b[1;33m(\u001b[0m\u001b[0mX\u001b[0m\u001b[1;33m,\u001b[0m \u001b[0mmodel\u001b[0m\u001b[1;33m,\u001b[0m \u001b[0my_opt\u001b[0m\u001b[1;33m,\u001b[0m \u001b[0mxi\u001b[0m\u001b[1;33m,\u001b[0m \u001b[0mreturn_grad\u001b[0m\u001b[1;33m)\u001b[0m\u001b[1;33m\u001b[0m\u001b[1;33m\u001b[0m\u001b[0m\n",
      "\u001b[1;32mE:\\software\\ada\\lib\\site-packages\\skopt\\acquisition.py\u001b[0m in \u001b[0;36mgaussian_ei\u001b[1;34m(X, model, y_opt, xi, return_grad)\u001b[0m\n\u001b[0;32m    283\u001b[0m \u001b[1;33m\u001b[0m\u001b[0m\n\u001b[0;32m    284\u001b[0m         \u001b[1;32melse\u001b[0m\u001b[1;33m:\u001b[0m\u001b[1;33m\u001b[0m\u001b[1;33m\u001b[0m\u001b[0m\n\u001b[1;32m--> 285\u001b[1;33m             \u001b[0mmu\u001b[0m\u001b[1;33m,\u001b[0m \u001b[0mstd\u001b[0m \u001b[1;33m=\u001b[0m \u001b[0mmodel\u001b[0m\u001b[1;33m.\u001b[0m\u001b[0mpredict\u001b[0m\u001b[1;33m(\u001b[0m\u001b[0mX\u001b[0m\u001b[1;33m,\u001b[0m \u001b[0mreturn_std\u001b[0m\u001b[1;33m=\u001b[0m\u001b[1;32mTrue\u001b[0m\u001b[1;33m)\u001b[0m\u001b[1;33m\u001b[0m\u001b[1;33m\u001b[0m\u001b[0m\n\u001b[0m\u001b[0;32m    286\u001b[0m \u001b[1;33m\u001b[0m\u001b[0m\n\u001b[0;32m    287\u001b[0m     \u001b[1;31m# check dimensionality of mu, std so we can divide them below\u001b[0m\u001b[1;33m\u001b[0m\u001b[1;33m\u001b[0m\u001b[1;33m\u001b[0m\u001b[0m\n",
      "\u001b[1;32mE:\\software\\ada\\lib\\site-packages\\skopt\\learning\\gaussian_process\\gpr.py\u001b[0m in \u001b[0;36mpredict\u001b[1;34m(self, X, return_std, return_cov, return_mean_grad, return_std_grad)\u001b[0m\n\u001b[0;32m    313\u001b[0m \u001b[1;33m\u001b[0m\u001b[0m\n\u001b[0;32m    314\u001b[0m         \u001b[1;32melse\u001b[0m\u001b[1;33m:\u001b[0m  \u001b[1;31m# Predict based on GP posterior\u001b[0m\u001b[1;33m\u001b[0m\u001b[1;33m\u001b[0m\u001b[0m\n\u001b[1;32m--> 315\u001b[1;33m             \u001b[0mK_trans\u001b[0m \u001b[1;33m=\u001b[0m \u001b[0mself\u001b[0m\u001b[1;33m.\u001b[0m\u001b[0mkernel_\u001b[0m\u001b[1;33m(\u001b[0m\u001b[0mX\u001b[0m\u001b[1;33m,\u001b[0m \u001b[0mself\u001b[0m\u001b[1;33m.\u001b[0m\u001b[0mX_train_\u001b[0m\u001b[1;33m)\u001b[0m\u001b[1;33m\u001b[0m\u001b[1;33m\u001b[0m\u001b[0m\n\u001b[0m\u001b[0;32m    316\u001b[0m             \u001b[0my_mean\u001b[0m \u001b[1;33m=\u001b[0m \u001b[0mK_trans\u001b[0m\u001b[1;33m.\u001b[0m\u001b[0mdot\u001b[0m\u001b[1;33m(\u001b[0m\u001b[0mself\u001b[0m\u001b[1;33m.\u001b[0m\u001b[0malpha_\u001b[0m\u001b[1;33m)\u001b[0m    \u001b[1;31m# Line 4 (y_mean = f_star)\u001b[0m\u001b[1;33m\u001b[0m\u001b[1;33m\u001b[0m\u001b[0m\n\u001b[0;32m    317\u001b[0m             \u001b[1;31m# undo normalisation\u001b[0m\u001b[1;33m\u001b[0m\u001b[1;33m\u001b[0m\u001b[1;33m\u001b[0m\u001b[0m\n",
      "\u001b[1;32mE:\\software\\ada\\lib\\site-packages\\sklearn\\gaussian_process\\kernels.py\u001b[0m in \u001b[0;36m__call__\u001b[1;34m(self, X, Y, eval_gradient)\u001b[0m\n\u001b[0;32m    756\u001b[0m             \u001b[1;32mreturn\u001b[0m \u001b[0mK1\u001b[0m \u001b[1;33m+\u001b[0m \u001b[0mK2\u001b[0m\u001b[1;33m,\u001b[0m \u001b[0mnp\u001b[0m\u001b[1;33m.\u001b[0m\u001b[0mdstack\u001b[0m\u001b[1;33m(\u001b[0m\u001b[1;33m(\u001b[0m\u001b[0mK1_gradient\u001b[0m\u001b[1;33m,\u001b[0m \u001b[0mK2_gradient\u001b[0m\u001b[1;33m)\u001b[0m\u001b[1;33m)\u001b[0m\u001b[1;33m\u001b[0m\u001b[1;33m\u001b[0m\u001b[0m\n\u001b[0;32m    757\u001b[0m         \u001b[1;32melse\u001b[0m\u001b[1;33m:\u001b[0m\u001b[1;33m\u001b[0m\u001b[1;33m\u001b[0m\u001b[0m\n\u001b[1;32m--> 758\u001b[1;33m             \u001b[1;32mreturn\u001b[0m \u001b[0mself\u001b[0m\u001b[1;33m.\u001b[0m\u001b[0mk1\u001b[0m\u001b[1;33m(\u001b[0m\u001b[0mX\u001b[0m\u001b[1;33m,\u001b[0m \u001b[0mY\u001b[0m\u001b[1;33m)\u001b[0m \u001b[1;33m+\u001b[0m \u001b[0mself\u001b[0m\u001b[1;33m.\u001b[0m\u001b[0mk2\u001b[0m\u001b[1;33m(\u001b[0m\u001b[0mX\u001b[0m\u001b[1;33m,\u001b[0m \u001b[0mY\u001b[0m\u001b[1;33m)\u001b[0m\u001b[1;33m\u001b[0m\u001b[1;33m\u001b[0m\u001b[0m\n\u001b[0m\u001b[0;32m    759\u001b[0m \u001b[1;33m\u001b[0m\u001b[0m\n\u001b[0;32m    760\u001b[0m     \u001b[1;32mdef\u001b[0m \u001b[0mdiag\u001b[0m\u001b[1;33m(\u001b[0m\u001b[0mself\u001b[0m\u001b[1;33m,\u001b[0m \u001b[0mX\u001b[0m\u001b[1;33m)\u001b[0m\u001b[1;33m:\u001b[0m\u001b[1;33m\u001b[0m\u001b[1;33m\u001b[0m\u001b[0m\n",
      "\u001b[1;32mE:\\software\\ada\\lib\\site-packages\\sklearn\\gaussian_process\\kernels.py\u001b[0m in \u001b[0;36m__call__\u001b[1;34m(self, X, Y, eval_gradient)\u001b[0m\n\u001b[0;32m    855\u001b[0m                                        K2_gradient * K1[:, :, np.newaxis]))\n\u001b[0;32m    856\u001b[0m         \u001b[1;32melse\u001b[0m\u001b[1;33m:\u001b[0m\u001b[1;33m\u001b[0m\u001b[1;33m\u001b[0m\u001b[0m\n\u001b[1;32m--> 857\u001b[1;33m             \u001b[1;32mreturn\u001b[0m \u001b[0mself\u001b[0m\u001b[1;33m.\u001b[0m\u001b[0mk1\u001b[0m\u001b[1;33m(\u001b[0m\u001b[0mX\u001b[0m\u001b[1;33m,\u001b[0m \u001b[0mY\u001b[0m\u001b[1;33m)\u001b[0m \u001b[1;33m*\u001b[0m \u001b[0mself\u001b[0m\u001b[1;33m.\u001b[0m\u001b[0mk2\u001b[0m\u001b[1;33m(\u001b[0m\u001b[0mX\u001b[0m\u001b[1;33m,\u001b[0m \u001b[0mY\u001b[0m\u001b[1;33m)\u001b[0m\u001b[1;33m\u001b[0m\u001b[1;33m\u001b[0m\u001b[0m\n\u001b[0m\u001b[0;32m    858\u001b[0m \u001b[1;33m\u001b[0m\u001b[0m\n\u001b[0;32m    859\u001b[0m     \u001b[1;32mdef\u001b[0m \u001b[0mdiag\u001b[0m\u001b[1;33m(\u001b[0m\u001b[0mself\u001b[0m\u001b[1;33m,\u001b[0m \u001b[0mX\u001b[0m\u001b[1;33m)\u001b[0m\u001b[1;33m:\u001b[0m\u001b[1;33m\u001b[0m\u001b[1;33m\u001b[0m\u001b[0m\n",
      "\u001b[1;32mE:\\software\\ada\\lib\\site-packages\\sklearn\\gaussian_process\\kernels.py\u001b[0m in \u001b[0;36m__call__\u001b[1;34m(self, X, Y, eval_gradient)\u001b[0m\n\u001b[0;32m   1591\u001b[0m         \u001b[1;32melif\u001b[0m \u001b[0mself\u001b[0m\u001b[1;33m.\u001b[0m\u001b[0mnu\u001b[0m \u001b[1;33m==\u001b[0m \u001b[1;36m2.5\u001b[0m\u001b[1;33m:\u001b[0m\u001b[1;33m\u001b[0m\u001b[1;33m\u001b[0m\u001b[0m\n\u001b[0;32m   1592\u001b[0m             \u001b[0mK\u001b[0m \u001b[1;33m=\u001b[0m \u001b[0mdists\u001b[0m \u001b[1;33m*\u001b[0m \u001b[0mmath\u001b[0m\u001b[1;33m.\u001b[0m\u001b[0msqrt\u001b[0m\u001b[1;33m(\u001b[0m\u001b[1;36m5\u001b[0m\u001b[1;33m)\u001b[0m\u001b[1;33m\u001b[0m\u001b[1;33m\u001b[0m\u001b[0m\n\u001b[1;32m-> 1593\u001b[1;33m             \u001b[0mK\u001b[0m \u001b[1;33m=\u001b[0m \u001b[1;33m(\u001b[0m\u001b[1;36m1.\u001b[0m \u001b[1;33m+\u001b[0m \u001b[0mK\u001b[0m \u001b[1;33m+\u001b[0m \u001b[0mK\u001b[0m \u001b[1;33m**\u001b[0m \u001b[1;36m2\u001b[0m \u001b[1;33m/\u001b[0m \u001b[1;36m3.0\u001b[0m\u001b[1;33m)\u001b[0m \u001b[1;33m*\u001b[0m \u001b[0mnp\u001b[0m\u001b[1;33m.\u001b[0m\u001b[0mexp\u001b[0m\u001b[1;33m(\u001b[0m\u001b[1;33m-\u001b[0m\u001b[0mK\u001b[0m\u001b[1;33m)\u001b[0m\u001b[1;33m\u001b[0m\u001b[1;33m\u001b[0m\u001b[0m\n\u001b[0m\u001b[0;32m   1594\u001b[0m         \u001b[1;32melif\u001b[0m \u001b[0mself\u001b[0m\u001b[1;33m.\u001b[0m\u001b[0mnu\u001b[0m \u001b[1;33m==\u001b[0m \u001b[0mnp\u001b[0m\u001b[1;33m.\u001b[0m\u001b[0minf\u001b[0m\u001b[1;33m:\u001b[0m\u001b[1;33m\u001b[0m\u001b[1;33m\u001b[0m\u001b[0m\n\u001b[0;32m   1595\u001b[0m             \u001b[0mK\u001b[0m \u001b[1;33m=\u001b[0m \u001b[0mnp\u001b[0m\u001b[1;33m.\u001b[0m\u001b[0mexp\u001b[0m\u001b[1;33m(\u001b[0m\u001b[1;33m-\u001b[0m\u001b[0mdists\u001b[0m \u001b[1;33m**\u001b[0m \u001b[1;36m2\u001b[0m \u001b[1;33m/\u001b[0m \u001b[1;36m2.0\u001b[0m\u001b[1;33m)\u001b[0m\u001b[1;33m\u001b[0m\u001b[1;33m\u001b[0m\u001b[0m\n",
      "\u001b[1;31mMemoryError\u001b[0m: Unable to allocate 10.1 MiB for an array with shape (10000, 132) and data type float64"
     ]
    }
   ],
   "source": [
    "cat = create_model('catboost')\n",
    "tunedcat = tune_model(cat, n_iter = 1000,  search_library = 'optuna', optimize = 'AUC')\n",
    "predict_model(tunedcat)"
   ]
  },
  {
   "cell_type": "code",
   "execution_count": 9,
   "metadata": {},
   "outputs": [
    {
     "data": {
      "text/html": [
       "<style  type=\"text/css\" >\n",
       "#T_24978_row5_col0,#T_24978_row5_col1,#T_24978_row5_col2,#T_24978_row5_col3,#T_24978_row5_col4,#T_24978_row5_col5,#T_24978_row5_col6{\n",
       "            background:  yellow;\n",
       "        }</style><table id=\"T_24978_\" ><thead>    <tr>        <th class=\"blank level0\" ></th>        <th class=\"col_heading level0 col0\" >Accuracy</th>        <th class=\"col_heading level0 col1\" >AUC</th>        <th class=\"col_heading level0 col2\" >Recall</th>        <th class=\"col_heading level0 col3\" >Prec.</th>        <th class=\"col_heading level0 col4\" >F1</th>        <th class=\"col_heading level0 col5\" >Kappa</th>        <th class=\"col_heading level0 col6\" >MCC</th>    </tr>    <tr>        <th class=\"index_name level0\" >Fold</th>        <th class=\"blank\" ></th>        <th class=\"blank\" ></th>        <th class=\"blank\" ></th>        <th class=\"blank\" ></th>        <th class=\"blank\" ></th>        <th class=\"blank\" ></th>        <th class=\"blank\" ></th>    </tr></thead><tbody>\n",
       "                <tr>\n",
       "                        <th id=\"T_24978_level0_row0\" class=\"row_heading level0 row0\" >0</th>\n",
       "                        <td id=\"T_24978_row0_col0\" class=\"data row0 col0\" >1.0000</td>\n",
       "                        <td id=\"T_24978_row0_col1\" class=\"data row0 col1\" >1.0000</td>\n",
       "                        <td id=\"T_24978_row0_col2\" class=\"data row0 col2\" >1.0000</td>\n",
       "                        <td id=\"T_24978_row0_col3\" class=\"data row0 col3\" >1.0000</td>\n",
       "                        <td id=\"T_24978_row0_col4\" class=\"data row0 col4\" >1.0000</td>\n",
       "                        <td id=\"T_24978_row0_col5\" class=\"data row0 col5\" >1.0000</td>\n",
       "                        <td id=\"T_24978_row0_col6\" class=\"data row0 col6\" >1.0000</td>\n",
       "            </tr>\n",
       "            <tr>\n",
       "                        <th id=\"T_24978_level0_row1\" class=\"row_heading level0 row1\" >1</th>\n",
       "                        <td id=\"T_24978_row1_col0\" class=\"data row1 col0\" >0.8182</td>\n",
       "                        <td id=\"T_24978_row1_col1\" class=\"data row1 col1\" >0.9643</td>\n",
       "                        <td id=\"T_24978_row1_col2\" class=\"data row1 col2\" >1.0000</td>\n",
       "                        <td id=\"T_24978_row1_col3\" class=\"data row1 col3\" >0.7778</td>\n",
       "                        <td id=\"T_24978_row1_col4\" class=\"data row1 col4\" >0.8750</td>\n",
       "                        <td id=\"T_24978_row1_col5\" class=\"data row1 col5\" >0.5600</td>\n",
       "                        <td id=\"T_24978_row1_col6\" class=\"data row1 col6\" >0.6236</td>\n",
       "            </tr>\n",
       "            <tr>\n",
       "                        <th id=\"T_24978_level0_row2\" class=\"row_heading level0 row2\" >2</th>\n",
       "                        <td id=\"T_24978_row2_col0\" class=\"data row2 col0\" >0.8000</td>\n",
       "                        <td id=\"T_24978_row2_col1\" class=\"data row2 col1\" >0.8810</td>\n",
       "                        <td id=\"T_24978_row2_col2\" class=\"data row2 col2\" >0.8571</td>\n",
       "                        <td id=\"T_24978_row2_col3\" class=\"data row2 col3\" >0.8571</td>\n",
       "                        <td id=\"T_24978_row2_col4\" class=\"data row2 col4\" >0.8571</td>\n",
       "                        <td id=\"T_24978_row2_col5\" class=\"data row2 col5\" >0.5238</td>\n",
       "                        <td id=\"T_24978_row2_col6\" class=\"data row2 col6\" >0.5238</td>\n",
       "            </tr>\n",
       "            <tr>\n",
       "                        <th id=\"T_24978_level0_row3\" class=\"row_heading level0 row3\" >3</th>\n",
       "                        <td id=\"T_24978_row3_col0\" class=\"data row3 col0\" >0.8000</td>\n",
       "                        <td id=\"T_24978_row3_col1\" class=\"data row3 col1\" >0.9524</td>\n",
       "                        <td id=\"T_24978_row3_col2\" class=\"data row3 col2\" >1.0000</td>\n",
       "                        <td id=\"T_24978_row3_col3\" class=\"data row3 col3\" >0.7778</td>\n",
       "                        <td id=\"T_24978_row3_col4\" class=\"data row3 col4\" >0.8750</td>\n",
       "                        <td id=\"T_24978_row3_col5\" class=\"data row3 col5\" >0.4118</td>\n",
       "                        <td id=\"T_24978_row3_col6\" class=\"data row3 col6\" >0.5092</td>\n",
       "            </tr>\n",
       "            <tr>\n",
       "                        <th id=\"T_24978_level0_row4\" class=\"row_heading level0 row4\" >4</th>\n",
       "                        <td id=\"T_24978_row4_col0\" class=\"data row4 col0\" >0.7000</td>\n",
       "                        <td id=\"T_24978_row4_col1\" class=\"data row4 col1\" >1.0000</td>\n",
       "                        <td id=\"T_24978_row4_col2\" class=\"data row4 col2\" >1.0000</td>\n",
       "                        <td id=\"T_24978_row4_col3\" class=\"data row4 col3\" >0.6667</td>\n",
       "                        <td id=\"T_24978_row4_col4\" class=\"data row4 col4\" >0.8000</td>\n",
       "                        <td id=\"T_24978_row4_col5\" class=\"data row4 col5\" >0.2857</td>\n",
       "                        <td id=\"T_24978_row4_col6\" class=\"data row4 col6\" >0.4082</td>\n",
       "            </tr>\n",
       "            <tr>\n",
       "                        <th id=\"T_24978_level0_row5\" class=\"row_heading level0 row5\" >Mean</th>\n",
       "                        <td id=\"T_24978_row5_col0\" class=\"data row5 col0\" >0.8236</td>\n",
       "                        <td id=\"T_24978_row5_col1\" class=\"data row5 col1\" >0.9595</td>\n",
       "                        <td id=\"T_24978_row5_col2\" class=\"data row5 col2\" >0.9714</td>\n",
       "                        <td id=\"T_24978_row5_col3\" class=\"data row5 col3\" >0.8159</td>\n",
       "                        <td id=\"T_24978_row5_col4\" class=\"data row5 col4\" >0.8814</td>\n",
       "                        <td id=\"T_24978_row5_col5\" class=\"data row5 col5\" >0.5563</td>\n",
       "                        <td id=\"T_24978_row5_col6\" class=\"data row5 col6\" >0.6130</td>\n",
       "            </tr>\n",
       "            <tr>\n",
       "                        <th id=\"T_24978_level0_row6\" class=\"row_heading level0 row6\" >Std</th>\n",
       "                        <td id=\"T_24978_row6_col0\" class=\"data row6 col0\" >0.0975</td>\n",
       "                        <td id=\"T_24978_row6_col1\" class=\"data row6 col1\" >0.0436</td>\n",
       "                        <td id=\"T_24978_row6_col2\" class=\"data row6 col2\" >0.0571</td>\n",
       "                        <td id=\"T_24978_row6_col3\" class=\"data row6 col3\" >0.1102</td>\n",
       "                        <td id=\"T_24978_row6_col4\" class=\"data row6 col4\" >0.0654</td>\n",
       "                        <td id=\"T_24978_row6_col5\" class=\"data row6 col5\" >0.2417</td>\n",
       "                        <td id=\"T_24978_row6_col6\" class=\"data row6 col6\" >0.2052</td>\n",
       "            </tr>\n",
       "    </tbody></table>"
      ],
      "text/plain": [
       "<pandas.io.formats.style.Styler at 0x1f705ed6c88>"
      ]
     },
     "metadata": {},
     "output_type": "display_data"
    },
    {
     "data": {
      "text/html": [
       "<style  type=\"text/css\" >\n",
       "</style><table id=\"T_04f6c_\" ><thead>    <tr>        <th class=\"blank level0\" ></th>        <th class=\"col_heading level0 col0\" >Model</th>        <th class=\"col_heading level0 col1\" >Accuracy</th>        <th class=\"col_heading level0 col2\" >AUC</th>        <th class=\"col_heading level0 col3\" >Recall</th>        <th class=\"col_heading level0 col4\" >Prec.</th>        <th class=\"col_heading level0 col5\" >F1</th>        <th class=\"col_heading level0 col6\" >Kappa</th>        <th class=\"col_heading level0 col7\" >MCC</th>    </tr></thead><tbody>\n",
       "                <tr>\n",
       "                        <th id=\"T_04f6c_level0_row0\" class=\"row_heading level0 row0\" >0</th>\n",
       "                        <td id=\"T_04f6c_row0_col0\" class=\"data row0 col0\" >Light Gradient Boosting Machine</td>\n",
       "                        <td id=\"T_04f6c_row0_col1\" class=\"data row0 col1\" >0.7857</td>\n",
       "                        <td id=\"T_04f6c_row0_col2\" class=\"data row0 col2\" >0.8542</td>\n",
       "                        <td id=\"T_04f6c_row0_col3\" class=\"data row0 col3\" >1.0000</td>\n",
       "                        <td id=\"T_04f6c_row0_col4\" class=\"data row0 col4\" >0.6667</td>\n",
       "                        <td id=\"T_04f6c_row0_col5\" class=\"data row0 col5\" >0.8000</td>\n",
       "                        <td id=\"T_04f6c_row0_col6\" class=\"data row0 col6\" >0.5882</td>\n",
       "                        <td id=\"T_04f6c_row0_col7\" class=\"data row0 col7\" >0.6455</td>\n",
       "            </tr>\n",
       "    </tbody></table>"
      ],
      "text/plain": [
       "<pandas.io.formats.style.Styler at 0x1f709108088>"
      ]
     },
     "metadata": {},
     "output_type": "display_data"
    },
    {
     "data": {
      "text/html": [
       "<div>\n",
       "<style scoped>\n",
       "    .dataframe tbody tr th:only-of-type {\n",
       "        vertical-align: middle;\n",
       "    }\n",
       "\n",
       "    .dataframe tbody tr th {\n",
       "        vertical-align: top;\n",
       "    }\n",
       "\n",
       "    .dataframe thead th {\n",
       "        text-align: right;\n",
       "    }\n",
       "</style>\n",
       "<table border=\"1\" class=\"dataframe\">\n",
       "  <thead>\n",
       "    <tr style=\"text-align: right;\">\n",
       "      <th></th>\n",
       "      <th>EE_B(s)</th>\n",
       "      <th>Mor04s</th>\n",
       "      <th>CATS2D_03_AL</th>\n",
       "      <th>active</th>\n",
       "      <th>Label</th>\n",
       "      <th>Score</th>\n",
       "    </tr>\n",
       "  </thead>\n",
       "  <tbody>\n",
       "    <tr>\n",
       "      <th>0</th>\n",
       "      <td>-0.234570</td>\n",
       "      <td>-0.591072</td>\n",
       "      <td>0.619516</td>\n",
       "      <td>1</td>\n",
       "      <td>1</td>\n",
       "      <td>0.6399</td>\n",
       "    </tr>\n",
       "    <tr>\n",
       "      <th>1</th>\n",
       "      <td>-0.221482</td>\n",
       "      <td>0.198355</td>\n",
       "      <td>-0.428121</td>\n",
       "      <td>1</td>\n",
       "      <td>1</td>\n",
       "      <td>0.7341</td>\n",
       "    </tr>\n",
       "    <tr>\n",
       "      <th>2</th>\n",
       "      <td>1.257415</td>\n",
       "      <td>1.297082</td>\n",
       "      <td>1.667152</td>\n",
       "      <td>0</td>\n",
       "      <td>0</td>\n",
       "      <td>0.5390</td>\n",
       "    </tr>\n",
       "    <tr>\n",
       "      <th>3</th>\n",
       "      <td>1.205065</td>\n",
       "      <td>1.221826</td>\n",
       "      <td>2.190970</td>\n",
       "      <td>0</td>\n",
       "      <td>0</td>\n",
       "      <td>0.5359</td>\n",
       "    </tr>\n",
       "    <tr>\n",
       "      <th>4</th>\n",
       "      <td>0.118795</td>\n",
       "      <td>-0.221569</td>\n",
       "      <td>0.095698</td>\n",
       "      <td>0</td>\n",
       "      <td>1</td>\n",
       "      <td>0.6776</td>\n",
       "    </tr>\n",
       "    <tr>\n",
       "      <th>5</th>\n",
       "      <td>-1.176876</td>\n",
       "      <td>-0.124490</td>\n",
       "      <td>-1.475757</td>\n",
       "      <td>1</td>\n",
       "      <td>1</td>\n",
       "      <td>0.7493</td>\n",
       "    </tr>\n",
       "    <tr>\n",
       "      <th>6</th>\n",
       "      <td>1.100364</td>\n",
       "      <td>0.100523</td>\n",
       "      <td>1.667152</td>\n",
       "      <td>0</td>\n",
       "      <td>0</td>\n",
       "      <td>0.5559</td>\n",
       "    </tr>\n",
       "    <tr>\n",
       "      <th>7</th>\n",
       "      <td>0.144970</td>\n",
       "      <td>-0.399171</td>\n",
       "      <td>0.095698</td>\n",
       "      <td>1</td>\n",
       "      <td>1</td>\n",
       "      <td>0.6806</td>\n",
       "    </tr>\n",
       "    <tr>\n",
       "      <th>8</th>\n",
       "      <td>3.456131</td>\n",
       "      <td>2.252823</td>\n",
       "      <td>-0.428121</td>\n",
       "      <td>1</td>\n",
       "      <td>1</td>\n",
       "      <td>0.5638</td>\n",
       "    </tr>\n",
       "    <tr>\n",
       "      <th>9</th>\n",
       "      <td>0.472160</td>\n",
       "      <td>0.356391</td>\n",
       "      <td>0.357607</td>\n",
       "      <td>0</td>\n",
       "      <td>0</td>\n",
       "      <td>0.5348</td>\n",
       "    </tr>\n",
       "    <tr>\n",
       "      <th>10</th>\n",
       "      <td>-1.307752</td>\n",
       "      <td>-0.515817</td>\n",
       "      <td>-0.428121</td>\n",
       "      <td>0</td>\n",
       "      <td>1</td>\n",
       "      <td>0.7647</td>\n",
       "    </tr>\n",
       "    <tr>\n",
       "      <th>11</th>\n",
       "      <td>-0.313096</td>\n",
       "      <td>-0.571506</td>\n",
       "      <td>-0.428121</td>\n",
       "      <td>1</td>\n",
       "      <td>1</td>\n",
       "      <td>0.7707</td>\n",
       "    </tr>\n",
       "    <tr>\n",
       "      <th>12</th>\n",
       "      <td>0.131883</td>\n",
       "      <td>-0.299834</td>\n",
       "      <td>0.357607</td>\n",
       "      <td>0</td>\n",
       "      <td>1</td>\n",
       "      <td>0.5441</td>\n",
       "    </tr>\n",
       "    <tr>\n",
       "      <th>13</th>\n",
       "      <td>1.296678</td>\n",
       "      <td>0.935856</td>\n",
       "      <td>1.667152</td>\n",
       "      <td>0</td>\n",
       "      <td>0</td>\n",
       "      <td>0.5443</td>\n",
       "    </tr>\n",
       "  </tbody>\n",
       "</table>\n",
       "</div>"
      ],
      "text/plain": [
       "     EE_B(s)    Mor04s  CATS2D_03_AL  active  Label   Score\n",
       "0  -0.234570 -0.591072      0.619516       1      1  0.6399\n",
       "1  -0.221482  0.198355     -0.428121       1      1  0.7341\n",
       "2   1.257415  1.297082      1.667152       0      0  0.5390\n",
       "3   1.205065  1.221826      2.190970       0      0  0.5359\n",
       "4   0.118795 -0.221569      0.095698       0      1  0.6776\n",
       "5  -1.176876 -0.124490     -1.475757       1      1  0.7493\n",
       "6   1.100364  0.100523      1.667152       0      0  0.5559\n",
       "7   0.144970 -0.399171      0.095698       1      1  0.6806\n",
       "8   3.456131  2.252823     -0.428121       1      1  0.5638\n",
       "9   0.472160  0.356391      0.357607       0      0  0.5348\n",
       "10 -1.307752 -0.515817     -0.428121       0      1  0.7647\n",
       "11 -0.313096 -0.571506     -0.428121       1      1  0.7707\n",
       "12  0.131883 -0.299834      0.357607       0      1  0.5441\n",
       "13  1.296678  0.935856      1.667152       0      0  0.5443"
      ]
     },
     "execution_count": 9,
     "metadata": {},
     "output_type": "execute_result"
    }
   ],
   "source": [
    "lgb = create_model('lightgbm')\n",
    "tunedlgb = tune_model(lgb, n_iter = 1000,  search_library = 'optuna', optimize = 'AUC')\n",
    "predict_model(tunedlgb)"
   ]
  },
  {
   "cell_type": "code",
   "execution_count": 10,
   "metadata": {},
   "outputs": [
    {
     "data": {
      "text/html": [
       "<style  type=\"text/css\" >\n",
       "#T_68424_row5_col0,#T_68424_row5_col1,#T_68424_row5_col2,#T_68424_row5_col3,#T_68424_row5_col4,#T_68424_row5_col5,#T_68424_row5_col6{\n",
       "            background:  yellow;\n",
       "        }</style><table id=\"T_68424_\" ><thead>    <tr>        <th class=\"blank level0\" ></th>        <th class=\"col_heading level0 col0\" >Accuracy</th>        <th class=\"col_heading level0 col1\" >AUC</th>        <th class=\"col_heading level0 col2\" >Recall</th>        <th class=\"col_heading level0 col3\" >Prec.</th>        <th class=\"col_heading level0 col4\" >F1</th>        <th class=\"col_heading level0 col5\" >Kappa</th>        <th class=\"col_heading level0 col6\" >MCC</th>    </tr>    <tr>        <th class=\"index_name level0\" >Fold</th>        <th class=\"blank\" ></th>        <th class=\"blank\" ></th>        <th class=\"blank\" ></th>        <th class=\"blank\" ></th>        <th class=\"blank\" ></th>        <th class=\"blank\" ></th>        <th class=\"blank\" ></th>    </tr></thead><tbody>\n",
       "                <tr>\n",
       "                        <th id=\"T_68424_level0_row0\" class=\"row_heading level0 row0\" >0</th>\n",
       "                        <td id=\"T_68424_row0_col0\" class=\"data row0 col0\" >0.8182</td>\n",
       "                        <td id=\"T_68424_row0_col1\" class=\"data row0 col1\" >1.0000</td>\n",
       "                        <td id=\"T_68424_row0_col2\" class=\"data row0 col2\" >0.7143</td>\n",
       "                        <td id=\"T_68424_row0_col3\" class=\"data row0 col3\" >1.0000</td>\n",
       "                        <td id=\"T_68424_row0_col4\" class=\"data row0 col4\" >0.8333</td>\n",
       "                        <td id=\"T_68424_row0_col5\" class=\"data row0 col5\" >0.6452</td>\n",
       "                        <td id=\"T_68424_row0_col6\" class=\"data row0 col6\" >0.6901</td>\n",
       "            </tr>\n",
       "            <tr>\n",
       "                        <th id=\"T_68424_level0_row1\" class=\"row_heading level0 row1\" >1</th>\n",
       "                        <td id=\"T_68424_row1_col0\" class=\"data row1 col0\" >0.8182</td>\n",
       "                        <td id=\"T_68424_row1_col1\" class=\"data row1 col1\" >0.9643</td>\n",
       "                        <td id=\"T_68424_row1_col2\" class=\"data row1 col2\" >0.7143</td>\n",
       "                        <td id=\"T_68424_row1_col3\" class=\"data row1 col3\" >1.0000</td>\n",
       "                        <td id=\"T_68424_row1_col4\" class=\"data row1 col4\" >0.8333</td>\n",
       "                        <td id=\"T_68424_row1_col5\" class=\"data row1 col5\" >0.6452</td>\n",
       "                        <td id=\"T_68424_row1_col6\" class=\"data row1 col6\" >0.6901</td>\n",
       "            </tr>\n",
       "            <tr>\n",
       "                        <th id=\"T_68424_level0_row2\" class=\"row_heading level0 row2\" >2</th>\n",
       "                        <td id=\"T_68424_row2_col0\" class=\"data row2 col0\" >0.9000</td>\n",
       "                        <td id=\"T_68424_row2_col1\" class=\"data row2 col1\" >0.9048</td>\n",
       "                        <td id=\"T_68424_row2_col2\" class=\"data row2 col2\" >0.8571</td>\n",
       "                        <td id=\"T_68424_row2_col3\" class=\"data row2 col3\" >1.0000</td>\n",
       "                        <td id=\"T_68424_row2_col4\" class=\"data row2 col4\" >0.9231</td>\n",
       "                        <td id=\"T_68424_row2_col5\" class=\"data row2 col5\" >0.7826</td>\n",
       "                        <td id=\"T_68424_row2_col6\" class=\"data row2 col6\" >0.8018</td>\n",
       "            </tr>\n",
       "            <tr>\n",
       "                        <th id=\"T_68424_level0_row3\" class=\"row_heading level0 row3\" >3</th>\n",
       "                        <td id=\"T_68424_row3_col0\" class=\"data row3 col0\" >0.8000</td>\n",
       "                        <td id=\"T_68424_row3_col1\" class=\"data row3 col1\" >0.9048</td>\n",
       "                        <td id=\"T_68424_row3_col2\" class=\"data row3 col2\" >1.0000</td>\n",
       "                        <td id=\"T_68424_row3_col3\" class=\"data row3 col3\" >0.7778</td>\n",
       "                        <td id=\"T_68424_row3_col4\" class=\"data row3 col4\" >0.8750</td>\n",
       "                        <td id=\"T_68424_row3_col5\" class=\"data row3 col5\" >0.4118</td>\n",
       "                        <td id=\"T_68424_row3_col6\" class=\"data row3 col6\" >0.5092</td>\n",
       "            </tr>\n",
       "            <tr>\n",
       "                        <th id=\"T_68424_level0_row4\" class=\"row_heading level0 row4\" >4</th>\n",
       "                        <td id=\"T_68424_row4_col0\" class=\"data row4 col0\" >0.8000</td>\n",
       "                        <td id=\"T_68424_row4_col1\" class=\"data row4 col1\" >1.0000</td>\n",
       "                        <td id=\"T_68424_row4_col2\" class=\"data row4 col2\" >1.0000</td>\n",
       "                        <td id=\"T_68424_row4_col3\" class=\"data row4 col3\" >0.7500</td>\n",
       "                        <td id=\"T_68424_row4_col4\" class=\"data row4 col4\" >0.8571</td>\n",
       "                        <td id=\"T_68424_row4_col5\" class=\"data row4 col5\" >0.5455</td>\n",
       "                        <td id=\"T_68424_row4_col6\" class=\"data row4 col6\" >0.6124</td>\n",
       "            </tr>\n",
       "            <tr>\n",
       "                        <th id=\"T_68424_level0_row5\" class=\"row_heading level0 row5\" >Mean</th>\n",
       "                        <td id=\"T_68424_row5_col0\" class=\"data row5 col0\" >0.8273</td>\n",
       "                        <td id=\"T_68424_row5_col1\" class=\"data row5 col1\" >0.9548</td>\n",
       "                        <td id=\"T_68424_row5_col2\" class=\"data row5 col2\" >0.8571</td>\n",
       "                        <td id=\"T_68424_row5_col3\" class=\"data row5 col3\" >0.9056</td>\n",
       "                        <td id=\"T_68424_row5_col4\" class=\"data row5 col4\" >0.8644</td>\n",
       "                        <td id=\"T_68424_row5_col5\" class=\"data row5 col5\" >0.6060</td>\n",
       "                        <td id=\"T_68424_row5_col6\" class=\"data row5 col6\" >0.6607</td>\n",
       "            </tr>\n",
       "            <tr>\n",
       "                        <th id=\"T_68424_level0_row6\" class=\"row_heading level0 row6\" >Std</th>\n",
       "                        <td id=\"T_68424_row6_col0\" class=\"data row6 col0\" >0.0373</td>\n",
       "                        <td id=\"T_68424_row6_col1\" class=\"data row6 col1\" >0.0429</td>\n",
       "                        <td id=\"T_68424_row6_col2\" class=\"data row6 col2\" >0.1278</td>\n",
       "                        <td id=\"T_68424_row6_col3\" class=\"data row6 col3\" >0.1160</td>\n",
       "                        <td id=\"T_68424_row6_col4\" class=\"data row6 col4\" >0.0333</td>\n",
       "                        <td id=\"T_68424_row6_col5\" class=\"data row6 col5\" >0.1230</td>\n",
       "                        <td id=\"T_68424_row6_col6\" class=\"data row6 col6\" >0.0969</td>\n",
       "            </tr>\n",
       "    </tbody></table>"
      ],
      "text/plain": [
       "<pandas.io.formats.style.Styler at 0x1f705eb3d48>"
      ]
     },
     "metadata": {},
     "output_type": "display_data"
    },
    {
     "data": {
      "text/html": [
       "<style  type=\"text/css\" >\n",
       "</style><table id=\"T_59e11_\" ><thead>    <tr>        <th class=\"blank level0\" ></th>        <th class=\"col_heading level0 col0\" >Model</th>        <th class=\"col_heading level0 col1\" >Accuracy</th>        <th class=\"col_heading level0 col2\" >AUC</th>        <th class=\"col_heading level0 col3\" >Recall</th>        <th class=\"col_heading level0 col4\" >Prec.</th>        <th class=\"col_heading level0 col5\" >F1</th>        <th class=\"col_heading level0 col6\" >Kappa</th>        <th class=\"col_heading level0 col7\" >MCC</th>    </tr></thead><tbody>\n",
       "                <tr>\n",
       "                        <th id=\"T_59e11_level0_row0\" class=\"row_heading level0 row0\" >0</th>\n",
       "                        <td id=\"T_59e11_row0_col0\" class=\"data row0 col0\" >SVM - Radial Kernel</td>\n",
       "                        <td id=\"T_59e11_row0_col1\" class=\"data row0 col1\" >0.7143</td>\n",
       "                        <td id=\"T_59e11_row0_col2\" class=\"data row0 col2\" >0.7500</td>\n",
       "                        <td id=\"T_59e11_row0_col3\" class=\"data row0 col3\" >0.6667</td>\n",
       "                        <td id=\"T_59e11_row0_col4\" class=\"data row0 col4\" >0.6667</td>\n",
       "                        <td id=\"T_59e11_row0_col5\" class=\"data row0 col5\" >0.6667</td>\n",
       "                        <td id=\"T_59e11_row0_col6\" class=\"data row0 col6\" >0.4167</td>\n",
       "                        <td id=\"T_59e11_row0_col7\" class=\"data row0 col7\" >0.4167</td>\n",
       "            </tr>\n",
       "    </tbody></table>"
      ],
      "text/plain": [
       "<pandas.io.formats.style.Styler at 0x1f706ea48c8>"
      ]
     },
     "metadata": {},
     "output_type": "display_data"
    },
    {
     "data": {
      "text/html": [
       "<div>\n",
       "<style scoped>\n",
       "    .dataframe tbody tr th:only-of-type {\n",
       "        vertical-align: middle;\n",
       "    }\n",
       "\n",
       "    .dataframe tbody tr th {\n",
       "        vertical-align: top;\n",
       "    }\n",
       "\n",
       "    .dataframe thead th {\n",
       "        text-align: right;\n",
       "    }\n",
       "</style>\n",
       "<table border=\"1\" class=\"dataframe\">\n",
       "  <thead>\n",
       "    <tr style=\"text-align: right;\">\n",
       "      <th></th>\n",
       "      <th>EE_B(s)</th>\n",
       "      <th>Mor04s</th>\n",
       "      <th>CATS2D_03_AL</th>\n",
       "      <th>active</th>\n",
       "      <th>Label</th>\n",
       "      <th>Score</th>\n",
       "    </tr>\n",
       "  </thead>\n",
       "  <tbody>\n",
       "    <tr>\n",
       "      <th>0</th>\n",
       "      <td>-0.234570</td>\n",
       "      <td>-0.591072</td>\n",
       "      <td>0.619516</td>\n",
       "      <td>1</td>\n",
       "      <td>0</td>\n",
       "      <td>0.5473</td>\n",
       "    </tr>\n",
       "    <tr>\n",
       "      <th>1</th>\n",
       "      <td>-0.221482</td>\n",
       "      <td>0.198355</td>\n",
       "      <td>-0.428121</td>\n",
       "      <td>1</td>\n",
       "      <td>1</td>\n",
       "      <td>0.8537</td>\n",
       "    </tr>\n",
       "    <tr>\n",
       "      <th>2</th>\n",
       "      <td>1.257415</td>\n",
       "      <td>1.297082</td>\n",
       "      <td>1.667152</td>\n",
       "      <td>0</td>\n",
       "      <td>0</td>\n",
       "      <td>0.8158</td>\n",
       "    </tr>\n",
       "    <tr>\n",
       "      <th>3</th>\n",
       "      <td>1.205065</td>\n",
       "      <td>1.221826</td>\n",
       "      <td>2.190970</td>\n",
       "      <td>0</td>\n",
       "      <td>0</td>\n",
       "      <td>0.7871</td>\n",
       "    </tr>\n",
       "    <tr>\n",
       "      <th>4</th>\n",
       "      <td>0.118795</td>\n",
       "      <td>-0.221569</td>\n",
       "      <td>0.095698</td>\n",
       "      <td>0</td>\n",
       "      <td>1</td>\n",
       "      <td>0.6595</td>\n",
       "    </tr>\n",
       "    <tr>\n",
       "      <th>5</th>\n",
       "      <td>-1.176876</td>\n",
       "      <td>-0.124490</td>\n",
       "      <td>-1.475757</td>\n",
       "      <td>1</td>\n",
       "      <td>1</td>\n",
       "      <td>0.8580</td>\n",
       "    </tr>\n",
       "    <tr>\n",
       "      <th>6</th>\n",
       "      <td>1.100364</td>\n",
       "      <td>0.100523</td>\n",
       "      <td>1.667152</td>\n",
       "      <td>0</td>\n",
       "      <td>0</td>\n",
       "      <td>0.9019</td>\n",
       "    </tr>\n",
       "    <tr>\n",
       "      <th>7</th>\n",
       "      <td>0.144970</td>\n",
       "      <td>-0.399171</td>\n",
       "      <td>0.095698</td>\n",
       "      <td>1</td>\n",
       "      <td>1</td>\n",
       "      <td>0.6507</td>\n",
       "    </tr>\n",
       "    <tr>\n",
       "      <th>8</th>\n",
       "      <td>3.456131</td>\n",
       "      <td>2.252823</td>\n",
       "      <td>-0.428121</td>\n",
       "      <td>1</td>\n",
       "      <td>0</td>\n",
       "      <td>0.7404</td>\n",
       "    </tr>\n",
       "    <tr>\n",
       "      <th>9</th>\n",
       "      <td>0.472160</td>\n",
       "      <td>0.356391</td>\n",
       "      <td>0.357607</td>\n",
       "      <td>0</td>\n",
       "      <td>0</td>\n",
       "      <td>0.6939</td>\n",
       "    </tr>\n",
       "    <tr>\n",
       "      <th>10</th>\n",
       "      <td>-1.307752</td>\n",
       "      <td>-0.515817</td>\n",
       "      <td>-0.428121</td>\n",
       "      <td>0</td>\n",
       "      <td>1</td>\n",
       "      <td>0.8958</td>\n",
       "    </tr>\n",
       "    <tr>\n",
       "      <th>11</th>\n",
       "      <td>-0.313096</td>\n",
       "      <td>-0.571506</td>\n",
       "      <td>-0.428121</td>\n",
       "      <td>1</td>\n",
       "      <td>1</td>\n",
       "      <td>0.8946</td>\n",
       "    </tr>\n",
       "    <tr>\n",
       "      <th>12</th>\n",
       "      <td>0.131883</td>\n",
       "      <td>-0.299834</td>\n",
       "      <td>0.357607</td>\n",
       "      <td>0</td>\n",
       "      <td>0</td>\n",
       "      <td>0.4929</td>\n",
       "    </tr>\n",
       "    <tr>\n",
       "      <th>13</th>\n",
       "      <td>1.296678</td>\n",
       "      <td>0.935856</td>\n",
       "      <td>1.667152</td>\n",
       "      <td>0</td>\n",
       "      <td>0</td>\n",
       "      <td>0.8420</td>\n",
       "    </tr>\n",
       "  </tbody>\n",
       "</table>\n",
       "</div>"
      ],
      "text/plain": [
       "     EE_B(s)    Mor04s  CATS2D_03_AL  active  Label   Score\n",
       "0  -0.234570 -0.591072      0.619516       1      0  0.5473\n",
       "1  -0.221482  0.198355     -0.428121       1      1  0.8537\n",
       "2   1.257415  1.297082      1.667152       0      0  0.8158\n",
       "3   1.205065  1.221826      2.190970       0      0  0.7871\n",
       "4   0.118795 -0.221569      0.095698       0      1  0.6595\n",
       "5  -1.176876 -0.124490     -1.475757       1      1  0.8580\n",
       "6   1.100364  0.100523      1.667152       0      0  0.9019\n",
       "7   0.144970 -0.399171      0.095698       1      1  0.6507\n",
       "8   3.456131  2.252823     -0.428121       1      0  0.7404\n",
       "9   0.472160  0.356391      0.357607       0      0  0.6939\n",
       "10 -1.307752 -0.515817     -0.428121       0      1  0.8958\n",
       "11 -0.313096 -0.571506     -0.428121       1      1  0.8946\n",
       "12  0.131883 -0.299834      0.357607       0      0  0.4929\n",
       "13  1.296678  0.935856      1.667152       0      0  0.8420"
      ]
     },
     "execution_count": 10,
     "metadata": {},
     "output_type": "execute_result"
    }
   ],
   "source": [
    "svm = create_model('rbfsvm')\n",
    "tunedsvm = tune_model(svm, n_iter = 1000,  search_library = 'optuna', optimize = 'AUC')\n",
    "predict_model(tunedsvm)"
   ]
  },
  {
   "cell_type": "code",
   "execution_count": 6,
   "metadata": {},
   "outputs": [
    {
     "data": {
      "text/html": [
       "<style  type=\"text/css\" >\n",
       "#T_7a320_row5_col0,#T_7a320_row5_col1,#T_7a320_row5_col2,#T_7a320_row5_col3,#T_7a320_row5_col4,#T_7a320_row5_col5,#T_7a320_row5_col6{\n",
       "            background:  yellow;\n",
       "        }</style><table id=\"T_7a320_\" ><thead>    <tr>        <th class=\"blank level0\" ></th>        <th class=\"col_heading level0 col0\" >Accuracy</th>        <th class=\"col_heading level0 col1\" >AUC</th>        <th class=\"col_heading level0 col2\" >Recall</th>        <th class=\"col_heading level0 col3\" >Prec.</th>        <th class=\"col_heading level0 col4\" >F1</th>        <th class=\"col_heading level0 col5\" >Kappa</th>        <th class=\"col_heading level0 col6\" >MCC</th>    </tr>    <tr>        <th class=\"index_name level0\" >Fold</th>        <th class=\"blank\" ></th>        <th class=\"blank\" ></th>        <th class=\"blank\" ></th>        <th class=\"blank\" ></th>        <th class=\"blank\" ></th>        <th class=\"blank\" ></th>        <th class=\"blank\" ></th>    </tr></thead><tbody>\n",
       "                <tr>\n",
       "                        <th id=\"T_7a320_level0_row0\" class=\"row_heading level0 row0\" >0</th>\n",
       "                        <td id=\"T_7a320_row0_col0\" class=\"data row0 col0\" >0.6364</td>\n",
       "                        <td id=\"T_7a320_row0_col1\" class=\"data row0 col1\" >1.0000</td>\n",
       "                        <td id=\"T_7a320_row0_col2\" class=\"data row0 col2\" >1.0000</td>\n",
       "                        <td id=\"T_7a320_row0_col3\" class=\"data row0 col3\" >0.6364</td>\n",
       "                        <td id=\"T_7a320_row0_col4\" class=\"data row0 col4\" >0.7778</td>\n",
       "                        <td id=\"T_7a320_row0_col5\" class=\"data row0 col5\" >0.0000</td>\n",
       "                        <td id=\"T_7a320_row0_col6\" class=\"data row0 col6\" >0.0000</td>\n",
       "            </tr>\n",
       "            <tr>\n",
       "                        <th id=\"T_7a320_level0_row1\" class=\"row_heading level0 row1\" >1</th>\n",
       "                        <td id=\"T_7a320_row1_col0\" class=\"data row1 col0\" >0.6364</td>\n",
       "                        <td id=\"T_7a320_row1_col1\" class=\"data row1 col1\" >1.0000</td>\n",
       "                        <td id=\"T_7a320_row1_col2\" class=\"data row1 col2\" >1.0000</td>\n",
       "                        <td id=\"T_7a320_row1_col3\" class=\"data row1 col3\" >0.6364</td>\n",
       "                        <td id=\"T_7a320_row1_col4\" class=\"data row1 col4\" >0.7778</td>\n",
       "                        <td id=\"T_7a320_row1_col5\" class=\"data row1 col5\" >0.0000</td>\n",
       "                        <td id=\"T_7a320_row1_col6\" class=\"data row1 col6\" >0.0000</td>\n",
       "            </tr>\n",
       "            <tr>\n",
       "                        <th id=\"T_7a320_level0_row2\" class=\"row_heading level0 row2\" >2</th>\n",
       "                        <td id=\"T_7a320_row2_col0\" class=\"data row2 col0\" >0.7000</td>\n",
       "                        <td id=\"T_7a320_row2_col1\" class=\"data row2 col1\" >0.8810</td>\n",
       "                        <td id=\"T_7a320_row2_col2\" class=\"data row2 col2\" >0.8571</td>\n",
       "                        <td id=\"T_7a320_row2_col3\" class=\"data row2 col3\" >0.7500</td>\n",
       "                        <td id=\"T_7a320_row2_col4\" class=\"data row2 col4\" >0.8000</td>\n",
       "                        <td id=\"T_7a320_row2_col5\" class=\"data row2 col5\" >0.2105</td>\n",
       "                        <td id=\"T_7a320_row2_col6\" class=\"data row2 col6\" >0.2182</td>\n",
       "            </tr>\n",
       "            <tr>\n",
       "                        <th id=\"T_7a320_level0_row3\" class=\"row_heading level0 row3\" >3</th>\n",
       "                        <td id=\"T_7a320_row3_col0\" class=\"data row3 col0\" >0.7000</td>\n",
       "                        <td id=\"T_7a320_row3_col1\" class=\"data row3 col1\" >0.9524</td>\n",
       "                        <td id=\"T_7a320_row3_col2\" class=\"data row3 col2\" >1.0000</td>\n",
       "                        <td id=\"T_7a320_row3_col3\" class=\"data row3 col3\" >0.7000</td>\n",
       "                        <td id=\"T_7a320_row3_col4\" class=\"data row3 col4\" >0.8235</td>\n",
       "                        <td id=\"T_7a320_row3_col5\" class=\"data row3 col5\" >0.0000</td>\n",
       "                        <td id=\"T_7a320_row3_col6\" class=\"data row3 col6\" >0.0000</td>\n",
       "            </tr>\n",
       "            <tr>\n",
       "                        <th id=\"T_7a320_level0_row4\" class=\"row_heading level0 row4\" >4</th>\n",
       "                        <td id=\"T_7a320_row4_col0\" class=\"data row4 col0\" >0.6000</td>\n",
       "                        <td id=\"T_7a320_row4_col1\" class=\"data row4 col1\" >1.0000</td>\n",
       "                        <td id=\"T_7a320_row4_col2\" class=\"data row4 col2\" >1.0000</td>\n",
       "                        <td id=\"T_7a320_row4_col3\" class=\"data row4 col3\" >0.6000</td>\n",
       "                        <td id=\"T_7a320_row4_col4\" class=\"data row4 col4\" >0.7500</td>\n",
       "                        <td id=\"T_7a320_row4_col5\" class=\"data row4 col5\" >0.0000</td>\n",
       "                        <td id=\"T_7a320_row4_col6\" class=\"data row4 col6\" >0.0000</td>\n",
       "            </tr>\n",
       "            <tr>\n",
       "                        <th id=\"T_7a320_level0_row5\" class=\"row_heading level0 row5\" >Mean</th>\n",
       "                        <td id=\"T_7a320_row5_col0\" class=\"data row5 col0\" >0.6545</td>\n",
       "                        <td id=\"T_7a320_row5_col1\" class=\"data row5 col1\" >0.9667</td>\n",
       "                        <td id=\"T_7a320_row5_col2\" class=\"data row5 col2\" >0.9714</td>\n",
       "                        <td id=\"T_7a320_row5_col3\" class=\"data row5 col3\" >0.6645</td>\n",
       "                        <td id=\"T_7a320_row5_col4\" class=\"data row5 col4\" >0.7858</td>\n",
       "                        <td id=\"T_7a320_row5_col5\" class=\"data row5 col5\" >0.0421</td>\n",
       "                        <td id=\"T_7a320_row5_col6\" class=\"data row5 col6\" >0.0436</td>\n",
       "            </tr>\n",
       "            <tr>\n",
       "                        <th id=\"T_7a320_level0_row6\" class=\"row_heading level0 row6\" >Std</th>\n",
       "                        <td id=\"T_7a320_row6_col0\" class=\"data row6 col0\" >0.0394</td>\n",
       "                        <td id=\"T_7a320_row6_col1\" class=\"data row6 col1\" >0.0467</td>\n",
       "                        <td id=\"T_7a320_row6_col2\" class=\"data row6 col2\" >0.0571</td>\n",
       "                        <td id=\"T_7a320_row6_col3\" class=\"data row6 col3\" >0.0535</td>\n",
       "                        <td id=\"T_7a320_row6_col4\" class=\"data row6 col4\" >0.0246</td>\n",
       "                        <td id=\"T_7a320_row6_col5\" class=\"data row6 col5\" >0.0842</td>\n",
       "                        <td id=\"T_7a320_row6_col6\" class=\"data row6 col6\" >0.0873</td>\n",
       "            </tr>\n",
       "    </tbody></table>"
      ],
      "text/plain": [
       "<pandas.io.formats.style.Styler at 0x1c4fc0631c8>"
      ]
     },
     "metadata": {},
     "output_type": "display_data"
    },
    {
     "data": {
      "text/html": [
       "<style  type=\"text/css\" >\n",
       "</style><table id=\"T_c7660_\" ><thead>    <tr>        <th class=\"blank level0\" ></th>        <th class=\"col_heading level0 col0\" >Model</th>        <th class=\"col_heading level0 col1\" >Accuracy</th>        <th class=\"col_heading level0 col2\" >AUC</th>        <th class=\"col_heading level0 col3\" >Recall</th>        <th class=\"col_heading level0 col4\" >Prec.</th>        <th class=\"col_heading level0 col5\" >F1</th>        <th class=\"col_heading level0 col6\" >Kappa</th>        <th class=\"col_heading level0 col7\" >MCC</th>    </tr></thead><tbody>\n",
       "                <tr>\n",
       "                        <th id=\"T_c7660_level0_row0\" class=\"row_heading level0 row0\" >0</th>\n",
       "                        <td id=\"T_c7660_row0_col0\" class=\"data row0 col0\" >Extreme Gradient Boosting</td>\n",
       "                        <td id=\"T_c7660_row0_col1\" class=\"data row0 col1\" >0.7143</td>\n",
       "                        <td id=\"T_c7660_row0_col2\" class=\"data row0 col2\" >0.8333</td>\n",
       "                        <td id=\"T_c7660_row0_col3\" class=\"data row0 col3\" >1.0000</td>\n",
       "                        <td id=\"T_c7660_row0_col4\" class=\"data row0 col4\" >0.6000</td>\n",
       "                        <td id=\"T_c7660_row0_col5\" class=\"data row0 col5\" >0.7500</td>\n",
       "                        <td id=\"T_c7660_row0_col6\" class=\"data row0 col6\" >0.4615</td>\n",
       "                        <td id=\"T_c7660_row0_col7\" class=\"data row0 col7\" >0.5477</td>\n",
       "            </tr>\n",
       "    </tbody></table>"
      ],
      "text/plain": [
       "<pandas.io.formats.style.Styler at 0x1c4be97c448>"
      ]
     },
     "metadata": {},
     "output_type": "display_data"
    },
    {
     "data": {
      "text/html": [
       "<div>\n",
       "<style scoped>\n",
       "    .dataframe tbody tr th:only-of-type {\n",
       "        vertical-align: middle;\n",
       "    }\n",
       "\n",
       "    .dataframe tbody tr th {\n",
       "        vertical-align: top;\n",
       "    }\n",
       "\n",
       "    .dataframe thead th {\n",
       "        text-align: right;\n",
       "    }\n",
       "</style>\n",
       "<table border=\"1\" class=\"dataframe\">\n",
       "  <thead>\n",
       "    <tr style=\"text-align: right;\">\n",
       "      <th></th>\n",
       "      <th>EE_B(s)</th>\n",
       "      <th>Mor04s</th>\n",
       "      <th>CATS2D_03_AL</th>\n",
       "      <th>active</th>\n",
       "      <th>Label</th>\n",
       "      <th>Score</th>\n",
       "    </tr>\n",
       "  </thead>\n",
       "  <tbody>\n",
       "    <tr>\n",
       "      <th>0</th>\n",
       "      <td>-0.234570</td>\n",
       "      <td>-0.591072</td>\n",
       "      <td>0.619516</td>\n",
       "      <td>1</td>\n",
       "      <td>1</td>\n",
       "      <td>0.5976</td>\n",
       "    </tr>\n",
       "    <tr>\n",
       "      <th>1</th>\n",
       "      <td>-0.221482</td>\n",
       "      <td>0.198355</td>\n",
       "      <td>-0.428121</td>\n",
       "      <td>1</td>\n",
       "      <td>1</td>\n",
       "      <td>0.6165</td>\n",
       "    </tr>\n",
       "    <tr>\n",
       "      <th>2</th>\n",
       "      <td>1.257415</td>\n",
       "      <td>1.297082</td>\n",
       "      <td>1.667152</td>\n",
       "      <td>0</td>\n",
       "      <td>0</td>\n",
       "      <td>0.5352</td>\n",
       "    </tr>\n",
       "    <tr>\n",
       "      <th>3</th>\n",
       "      <td>1.205065</td>\n",
       "      <td>1.221826</td>\n",
       "      <td>2.190970</td>\n",
       "      <td>0</td>\n",
       "      <td>1</td>\n",
       "      <td>0.5082</td>\n",
       "    </tr>\n",
       "    <tr>\n",
       "      <th>4</th>\n",
       "      <td>0.118795</td>\n",
       "      <td>-0.221569</td>\n",
       "      <td>0.095698</td>\n",
       "      <td>0</td>\n",
       "      <td>1</td>\n",
       "      <td>0.6831</td>\n",
       "    </tr>\n",
       "    <tr>\n",
       "      <th>5</th>\n",
       "      <td>-1.176876</td>\n",
       "      <td>-0.124490</td>\n",
       "      <td>-1.475757</td>\n",
       "      <td>1</td>\n",
       "      <td>1</td>\n",
       "      <td>0.6908</td>\n",
       "    </tr>\n",
       "    <tr>\n",
       "      <th>6</th>\n",
       "      <td>1.100364</td>\n",
       "      <td>0.100523</td>\n",
       "      <td>1.667152</td>\n",
       "      <td>0</td>\n",
       "      <td>0</td>\n",
       "      <td>0.5333</td>\n",
       "    </tr>\n",
       "    <tr>\n",
       "      <th>7</th>\n",
       "      <td>0.144970</td>\n",
       "      <td>-0.399171</td>\n",
       "      <td>0.095698</td>\n",
       "      <td>1</td>\n",
       "      <td>1</td>\n",
       "      <td>0.6864</td>\n",
       "    </tr>\n",
       "    <tr>\n",
       "      <th>8</th>\n",
       "      <td>3.456131</td>\n",
       "      <td>2.252823</td>\n",
       "      <td>-0.428121</td>\n",
       "      <td>1</td>\n",
       "      <td>1</td>\n",
       "      <td>0.5879</td>\n",
       "    </tr>\n",
       "    <tr>\n",
       "      <th>9</th>\n",
       "      <td>0.472160</td>\n",
       "      <td>0.356391</td>\n",
       "      <td>0.357607</td>\n",
       "      <td>0</td>\n",
       "      <td>0</td>\n",
       "      <td>0.5385</td>\n",
       "    </tr>\n",
       "    <tr>\n",
       "      <th>10</th>\n",
       "      <td>-1.307752</td>\n",
       "      <td>-0.515817</td>\n",
       "      <td>-0.428121</td>\n",
       "      <td>0</td>\n",
       "      <td>1</td>\n",
       "      <td>0.6992</td>\n",
       "    </tr>\n",
       "    <tr>\n",
       "      <th>11</th>\n",
       "      <td>-0.313096</td>\n",
       "      <td>-0.571506</td>\n",
       "      <td>-0.428121</td>\n",
       "      <td>1</td>\n",
       "      <td>1</td>\n",
       "      <td>0.7014</td>\n",
       "    </tr>\n",
       "    <tr>\n",
       "      <th>12</th>\n",
       "      <td>0.131883</td>\n",
       "      <td>-0.299834</td>\n",
       "      <td>0.357607</td>\n",
       "      <td>0</td>\n",
       "      <td>1</td>\n",
       "      <td>0.5767</td>\n",
       "    </tr>\n",
       "    <tr>\n",
       "      <th>13</th>\n",
       "      <td>1.296678</td>\n",
       "      <td>0.935856</td>\n",
       "      <td>1.667152</td>\n",
       "      <td>0</td>\n",
       "      <td>0</td>\n",
       "      <td>0.5639</td>\n",
       "    </tr>\n",
       "  </tbody>\n",
       "</table>\n",
       "</div>"
      ],
      "text/plain": [
       "     EE_B(s)    Mor04s  CATS2D_03_AL  active  Label   Score\n",
       "0  -0.234570 -0.591072      0.619516       1      1  0.5976\n",
       "1  -0.221482  0.198355     -0.428121       1      1  0.6165\n",
       "2   1.257415  1.297082      1.667152       0      0  0.5352\n",
       "3   1.205065  1.221826      2.190970       0      1  0.5082\n",
       "4   0.118795 -0.221569      0.095698       0      1  0.6831\n",
       "5  -1.176876 -0.124490     -1.475757       1      1  0.6908\n",
       "6   1.100364  0.100523      1.667152       0      0  0.5333\n",
       "7   0.144970 -0.399171      0.095698       1      1  0.6864\n",
       "8   3.456131  2.252823     -0.428121       1      1  0.5879\n",
       "9   0.472160  0.356391      0.357607       0      0  0.5385\n",
       "10 -1.307752 -0.515817     -0.428121       0      1  0.6992\n",
       "11 -0.313096 -0.571506     -0.428121       1      1  0.7014\n",
       "12  0.131883 -0.299834      0.357607       0      1  0.5767\n",
       "13  1.296678  0.935856      1.667152       0      0  0.5639"
      ]
     },
     "execution_count": 6,
     "metadata": {},
     "output_type": "execute_result"
    }
   ],
   "source": [
    "xgb = create_model('xgboost')\n",
    "tunedxgb = tune_model(xgb, n_iter = 1000,  search_library = 'optuna', optimize = 'AUC')\n",
    "predict_model(tunedxgb)"
   ]
  },
  {
   "cell_type": "code",
   "execution_count": 7,
   "metadata": {},
   "outputs": [
    {
     "data": {
      "text/html": [
       "<style  type=\"text/css\" >\n",
       "#T_7e4cd_row5_col0,#T_7e4cd_row5_col1,#T_7e4cd_row5_col2,#T_7e4cd_row5_col3,#T_7e4cd_row5_col4,#T_7e4cd_row5_col5,#T_7e4cd_row5_col6{\n",
       "            background:  yellow;\n",
       "        }</style><table id=\"T_7e4cd_\" ><thead>    <tr>        <th class=\"blank level0\" ></th>        <th class=\"col_heading level0 col0\" >Accuracy</th>        <th class=\"col_heading level0 col1\" >AUC</th>        <th class=\"col_heading level0 col2\" >Recall</th>        <th class=\"col_heading level0 col3\" >Prec.</th>        <th class=\"col_heading level0 col4\" >F1</th>        <th class=\"col_heading level0 col5\" >Kappa</th>        <th class=\"col_heading level0 col6\" >MCC</th>    </tr>    <tr>        <th class=\"index_name level0\" >Fold</th>        <th class=\"blank\" ></th>        <th class=\"blank\" ></th>        <th class=\"blank\" ></th>        <th class=\"blank\" ></th>        <th class=\"blank\" ></th>        <th class=\"blank\" ></th>        <th class=\"blank\" ></th>    </tr></thead><tbody>\n",
       "                <tr>\n",
       "                        <th id=\"T_7e4cd_level0_row0\" class=\"row_heading level0 row0\" >0</th>\n",
       "                        <td id=\"T_7e4cd_row0_col0\" class=\"data row0 col0\" >0.8182</td>\n",
       "                        <td id=\"T_7e4cd_row0_col1\" class=\"data row0 col1\" >1.0000</td>\n",
       "                        <td id=\"T_7e4cd_row0_col2\" class=\"data row0 col2\" >0.7143</td>\n",
       "                        <td id=\"T_7e4cd_row0_col3\" class=\"data row0 col3\" >1.0000</td>\n",
       "                        <td id=\"T_7e4cd_row0_col4\" class=\"data row0 col4\" >0.8333</td>\n",
       "                        <td id=\"T_7e4cd_row0_col5\" class=\"data row0 col5\" >0.6452</td>\n",
       "                        <td id=\"T_7e4cd_row0_col6\" class=\"data row0 col6\" >0.6901</td>\n",
       "            </tr>\n",
       "            <tr>\n",
       "                        <th id=\"T_7e4cd_level0_row1\" class=\"row_heading level0 row1\" >1</th>\n",
       "                        <td id=\"T_7e4cd_row1_col0\" class=\"data row1 col0\" >1.0000</td>\n",
       "                        <td id=\"T_7e4cd_row1_col1\" class=\"data row1 col1\" >1.0000</td>\n",
       "                        <td id=\"T_7e4cd_row1_col2\" class=\"data row1 col2\" >1.0000</td>\n",
       "                        <td id=\"T_7e4cd_row1_col3\" class=\"data row1 col3\" >1.0000</td>\n",
       "                        <td id=\"T_7e4cd_row1_col4\" class=\"data row1 col4\" >1.0000</td>\n",
       "                        <td id=\"T_7e4cd_row1_col5\" class=\"data row1 col5\" >1.0000</td>\n",
       "                        <td id=\"T_7e4cd_row1_col6\" class=\"data row1 col6\" >1.0000</td>\n",
       "            </tr>\n",
       "            <tr>\n",
       "                        <th id=\"T_7e4cd_level0_row2\" class=\"row_heading level0 row2\" >2</th>\n",
       "                        <td id=\"T_7e4cd_row2_col0\" class=\"data row2 col0\" >0.9000</td>\n",
       "                        <td id=\"T_7e4cd_row2_col1\" class=\"data row2 col1\" >0.9048</td>\n",
       "                        <td id=\"T_7e4cd_row2_col2\" class=\"data row2 col2\" >0.8571</td>\n",
       "                        <td id=\"T_7e4cd_row2_col3\" class=\"data row2 col3\" >1.0000</td>\n",
       "                        <td id=\"T_7e4cd_row2_col4\" class=\"data row2 col4\" >0.9231</td>\n",
       "                        <td id=\"T_7e4cd_row2_col5\" class=\"data row2 col5\" >0.7826</td>\n",
       "                        <td id=\"T_7e4cd_row2_col6\" class=\"data row2 col6\" >0.8018</td>\n",
       "            </tr>\n",
       "            <tr>\n",
       "                        <th id=\"T_7e4cd_level0_row3\" class=\"row_heading level0 row3\" >3</th>\n",
       "                        <td id=\"T_7e4cd_row3_col0\" class=\"data row3 col0\" >0.8000</td>\n",
       "                        <td id=\"T_7e4cd_row3_col1\" class=\"data row3 col1\" >0.9524</td>\n",
       "                        <td id=\"T_7e4cd_row3_col2\" class=\"data row3 col2\" >1.0000</td>\n",
       "                        <td id=\"T_7e4cd_row3_col3\" class=\"data row3 col3\" >0.7778</td>\n",
       "                        <td id=\"T_7e4cd_row3_col4\" class=\"data row3 col4\" >0.8750</td>\n",
       "                        <td id=\"T_7e4cd_row3_col5\" class=\"data row3 col5\" >0.4118</td>\n",
       "                        <td id=\"T_7e4cd_row3_col6\" class=\"data row3 col6\" >0.5092</td>\n",
       "            </tr>\n",
       "            <tr>\n",
       "                        <th id=\"T_7e4cd_level0_row4\" class=\"row_heading level0 row4\" >4</th>\n",
       "                        <td id=\"T_7e4cd_row4_col0\" class=\"data row4 col0\" >0.8000</td>\n",
       "                        <td id=\"T_7e4cd_row4_col1\" class=\"data row4 col1\" >1.0000</td>\n",
       "                        <td id=\"T_7e4cd_row4_col2\" class=\"data row4 col2\" >1.0000</td>\n",
       "                        <td id=\"T_7e4cd_row4_col3\" class=\"data row4 col3\" >0.7500</td>\n",
       "                        <td id=\"T_7e4cd_row4_col4\" class=\"data row4 col4\" >0.8571</td>\n",
       "                        <td id=\"T_7e4cd_row4_col5\" class=\"data row4 col5\" >0.5455</td>\n",
       "                        <td id=\"T_7e4cd_row4_col6\" class=\"data row4 col6\" >0.6124</td>\n",
       "            </tr>\n",
       "            <tr>\n",
       "                        <th id=\"T_7e4cd_level0_row5\" class=\"row_heading level0 row5\" >Mean</th>\n",
       "                        <td id=\"T_7e4cd_row5_col0\" class=\"data row5 col0\" >0.8636</td>\n",
       "                        <td id=\"T_7e4cd_row5_col1\" class=\"data row5 col1\" >0.9714</td>\n",
       "                        <td id=\"T_7e4cd_row5_col2\" class=\"data row5 col2\" >0.9143</td>\n",
       "                        <td id=\"T_7e4cd_row5_col3\" class=\"data row5 col3\" >0.9056</td>\n",
       "                        <td id=\"T_7e4cd_row5_col4\" class=\"data row5 col4\" >0.8977</td>\n",
       "                        <td id=\"T_7e4cd_row5_col5\" class=\"data row5 col5\" >0.6770</td>\n",
       "                        <td id=\"T_7e4cd_row5_col6\" class=\"data row5 col6\" >0.7227</td>\n",
       "            </tr>\n",
       "            <tr>\n",
       "                        <th id=\"T_7e4cd_level0_row6\" class=\"row_heading level0 row6\" >Std</th>\n",
       "                        <td id=\"T_7e4cd_row6_col0\" class=\"data row6 col0\" >0.0776</td>\n",
       "                        <td id=\"T_7e4cd_row6_col1\" class=\"data row6 col1\" >0.0381</td>\n",
       "                        <td id=\"T_7e4cd_row6_col2\" class=\"data row6 col2\" >0.1143</td>\n",
       "                        <td id=\"T_7e4cd_row6_col3\" class=\"data row6 col3\" >0.1160</td>\n",
       "                        <td id=\"T_7e4cd_row6_col4\" class=\"data row6 col4\" >0.0590</td>\n",
       "                        <td id=\"T_7e4cd_row6_col5\" class=\"data row6 col5\" >0.2021</td>\n",
       "                        <td id=\"T_7e4cd_row6_col6\" class=\"data row6 col6\" >0.1685</td>\n",
       "            </tr>\n",
       "    </tbody></table>"
      ],
      "text/plain": [
       "<pandas.io.formats.style.Styler at 0x1c4fb2db508>"
      ]
     },
     "metadata": {},
     "output_type": "display_data"
    },
    {
     "data": {
      "text/html": [
       "<style  type=\"text/css\" >\n",
       "</style><table id=\"T_3b4c5_\" ><thead>    <tr>        <th class=\"blank level0\" ></th>        <th class=\"col_heading level0 col0\" >Model</th>        <th class=\"col_heading level0 col1\" >Accuracy</th>        <th class=\"col_heading level0 col2\" >AUC</th>        <th class=\"col_heading level0 col3\" >Recall</th>        <th class=\"col_heading level0 col4\" >Prec.</th>        <th class=\"col_heading level0 col5\" >F1</th>        <th class=\"col_heading level0 col6\" >Kappa</th>        <th class=\"col_heading level0 col7\" >MCC</th>    </tr></thead><tbody>\n",
       "                <tr>\n",
       "                        <th id=\"T_3b4c5_level0_row0\" class=\"row_heading level0 row0\" >0</th>\n",
       "                        <td id=\"T_3b4c5_row0_col0\" class=\"data row0 col0\" >Extra Trees Classifier</td>\n",
       "                        <td id=\"T_3b4c5_row0_col1\" class=\"data row0 col1\" >0.7143</td>\n",
       "                        <td id=\"T_3b4c5_row0_col2\" class=\"data row0 col2\" >0.7708</td>\n",
       "                        <td id=\"T_3b4c5_row0_col3\" class=\"data row0 col3\" >0.6667</td>\n",
       "                        <td id=\"T_3b4c5_row0_col4\" class=\"data row0 col4\" >0.6667</td>\n",
       "                        <td id=\"T_3b4c5_row0_col5\" class=\"data row0 col5\" >0.6667</td>\n",
       "                        <td id=\"T_3b4c5_row0_col6\" class=\"data row0 col6\" >0.4167</td>\n",
       "                        <td id=\"T_3b4c5_row0_col7\" class=\"data row0 col7\" >0.4167</td>\n",
       "            </tr>\n",
       "    </tbody></table>"
      ],
      "text/plain": [
       "<pandas.io.formats.style.Styler at 0x1c4fb241b48>"
      ]
     },
     "metadata": {},
     "output_type": "display_data"
    },
    {
     "data": {
      "text/html": [
       "<div>\n",
       "<style scoped>\n",
       "    .dataframe tbody tr th:only-of-type {\n",
       "        vertical-align: middle;\n",
       "    }\n",
       "\n",
       "    .dataframe tbody tr th {\n",
       "        vertical-align: top;\n",
       "    }\n",
       "\n",
       "    .dataframe thead th {\n",
       "        text-align: right;\n",
       "    }\n",
       "</style>\n",
       "<table border=\"1\" class=\"dataframe\">\n",
       "  <thead>\n",
       "    <tr style=\"text-align: right;\">\n",
       "      <th></th>\n",
       "      <th>EE_B(s)</th>\n",
       "      <th>Mor04s</th>\n",
       "      <th>CATS2D_03_AL</th>\n",
       "      <th>active</th>\n",
       "      <th>Label</th>\n",
       "      <th>Score</th>\n",
       "    </tr>\n",
       "  </thead>\n",
       "  <tbody>\n",
       "    <tr>\n",
       "      <th>0</th>\n",
       "      <td>-0.234570</td>\n",
       "      <td>-0.591072</td>\n",
       "      <td>0.619516</td>\n",
       "      <td>1</td>\n",
       "      <td>0</td>\n",
       "      <td>0.5426</td>\n",
       "    </tr>\n",
       "    <tr>\n",
       "      <th>1</th>\n",
       "      <td>-0.221482</td>\n",
       "      <td>0.198355</td>\n",
       "      <td>-0.428121</td>\n",
       "      <td>1</td>\n",
       "      <td>1</td>\n",
       "      <td>0.6384</td>\n",
       "    </tr>\n",
       "    <tr>\n",
       "      <th>2</th>\n",
       "      <td>1.257415</td>\n",
       "      <td>1.297082</td>\n",
       "      <td>1.667152</td>\n",
       "      <td>0</td>\n",
       "      <td>0</td>\n",
       "      <td>0.8216</td>\n",
       "    </tr>\n",
       "    <tr>\n",
       "      <th>3</th>\n",
       "      <td>1.205065</td>\n",
       "      <td>1.221826</td>\n",
       "      <td>2.190970</td>\n",
       "      <td>0</td>\n",
       "      <td>0</td>\n",
       "      <td>0.8100</td>\n",
       "    </tr>\n",
       "    <tr>\n",
       "      <th>4</th>\n",
       "      <td>0.118795</td>\n",
       "      <td>-0.221569</td>\n",
       "      <td>0.095698</td>\n",
       "      <td>0</td>\n",
       "      <td>1</td>\n",
       "      <td>0.6329</td>\n",
       "    </tr>\n",
       "    <tr>\n",
       "      <th>5</th>\n",
       "      <td>-1.176876</td>\n",
       "      <td>-0.124490</td>\n",
       "      <td>-1.475757</td>\n",
       "      <td>1</td>\n",
       "      <td>1</td>\n",
       "      <td>0.7414</td>\n",
       "    </tr>\n",
       "    <tr>\n",
       "      <th>6</th>\n",
       "      <td>1.100364</td>\n",
       "      <td>0.100523</td>\n",
       "      <td>1.667152</td>\n",
       "      <td>0</td>\n",
       "      <td>0</td>\n",
       "      <td>0.7981</td>\n",
       "    </tr>\n",
       "    <tr>\n",
       "      <th>7</th>\n",
       "      <td>0.144970</td>\n",
       "      <td>-0.399171</td>\n",
       "      <td>0.095698</td>\n",
       "      <td>1</td>\n",
       "      <td>1</td>\n",
       "      <td>0.6457</td>\n",
       "    </tr>\n",
       "    <tr>\n",
       "      <th>8</th>\n",
       "      <td>3.456131</td>\n",
       "      <td>2.252823</td>\n",
       "      <td>-0.428121</td>\n",
       "      <td>1</td>\n",
       "      <td>0</td>\n",
       "      <td>0.7067</td>\n",
       "    </tr>\n",
       "    <tr>\n",
       "      <th>9</th>\n",
       "      <td>0.472160</td>\n",
       "      <td>0.356391</td>\n",
       "      <td>0.357607</td>\n",
       "      <td>0</td>\n",
       "      <td>0</td>\n",
       "      <td>0.6768</td>\n",
       "    </tr>\n",
       "    <tr>\n",
       "      <th>10</th>\n",
       "      <td>-1.307752</td>\n",
       "      <td>-0.515817</td>\n",
       "      <td>-0.428121</td>\n",
       "      <td>0</td>\n",
       "      <td>1</td>\n",
       "      <td>0.7803</td>\n",
       "    </tr>\n",
       "    <tr>\n",
       "      <th>11</th>\n",
       "      <td>-0.313096</td>\n",
       "      <td>-0.571506</td>\n",
       "      <td>-0.428121</td>\n",
       "      <td>1</td>\n",
       "      <td>1</td>\n",
       "      <td>0.7655</td>\n",
       "    </tr>\n",
       "    <tr>\n",
       "      <th>12</th>\n",
       "      <td>0.131883</td>\n",
       "      <td>-0.299834</td>\n",
       "      <td>0.357607</td>\n",
       "      <td>0</td>\n",
       "      <td>0</td>\n",
       "      <td>0.5142</td>\n",
       "    </tr>\n",
       "    <tr>\n",
       "      <th>13</th>\n",
       "      <td>1.296678</td>\n",
       "      <td>0.935856</td>\n",
       "      <td>1.667152</td>\n",
       "      <td>0</td>\n",
       "      <td>0</td>\n",
       "      <td>0.8178</td>\n",
       "    </tr>\n",
       "  </tbody>\n",
       "</table>\n",
       "</div>"
      ],
      "text/plain": [
       "     EE_B(s)    Mor04s  CATS2D_03_AL  active  Label   Score\n",
       "0  -0.234570 -0.591072      0.619516       1      0  0.5426\n",
       "1  -0.221482  0.198355     -0.428121       1      1  0.6384\n",
       "2   1.257415  1.297082      1.667152       0      0  0.8216\n",
       "3   1.205065  1.221826      2.190970       0      0  0.8100\n",
       "4   0.118795 -0.221569      0.095698       0      1  0.6329\n",
       "5  -1.176876 -0.124490     -1.475757       1      1  0.7414\n",
       "6   1.100364  0.100523      1.667152       0      0  0.7981\n",
       "7   0.144970 -0.399171      0.095698       1      1  0.6457\n",
       "8   3.456131  2.252823     -0.428121       1      0  0.7067\n",
       "9   0.472160  0.356391      0.357607       0      0  0.6768\n",
       "10 -1.307752 -0.515817     -0.428121       0      1  0.7803\n",
       "11 -0.313096 -0.571506     -0.428121       1      1  0.7655\n",
       "12  0.131883 -0.299834      0.357607       0      0  0.5142\n",
       "13  1.296678  0.935856      1.667152       0      0  0.8178"
      ]
     },
     "execution_count": 7,
     "metadata": {},
     "output_type": "execute_result"
    }
   ],
   "source": [
    "et = create_model('et')\n",
    "tunedet = tune_model(et, n_iter = 1000,  search_library = 'optuna', optimize = 'AUC')\n",
    "predict_model(tunedet)"
   ]
  },
  {
   "cell_type": "code",
   "execution_count": 8,
   "metadata": {},
   "outputs": [
    {
     "data": {
      "text/html": [
       "<style  type=\"text/css\" >\n",
       "#T_cf149_row5_col0,#T_cf149_row5_col1,#T_cf149_row5_col2,#T_cf149_row5_col3,#T_cf149_row5_col4,#T_cf149_row5_col5,#T_cf149_row5_col6{\n",
       "            background:  yellow;\n",
       "        }</style><table id=\"T_cf149_\" ><thead>    <tr>        <th class=\"blank level0\" ></th>        <th class=\"col_heading level0 col0\" >Accuracy</th>        <th class=\"col_heading level0 col1\" >AUC</th>        <th class=\"col_heading level0 col2\" >Recall</th>        <th class=\"col_heading level0 col3\" >Prec.</th>        <th class=\"col_heading level0 col4\" >F1</th>        <th class=\"col_heading level0 col5\" >Kappa</th>        <th class=\"col_heading level0 col6\" >MCC</th>    </tr>    <tr>        <th class=\"index_name level0\" >Fold</th>        <th class=\"blank\" ></th>        <th class=\"blank\" ></th>        <th class=\"blank\" ></th>        <th class=\"blank\" ></th>        <th class=\"blank\" ></th>        <th class=\"blank\" ></th>        <th class=\"blank\" ></th>    </tr></thead><tbody>\n",
       "                <tr>\n",
       "                        <th id=\"T_cf149_level0_row0\" class=\"row_heading level0 row0\" >0</th>\n",
       "                        <td id=\"T_cf149_row0_col0\" class=\"data row0 col0\" >0.8182</td>\n",
       "                        <td id=\"T_cf149_row0_col1\" class=\"data row0 col1\" >1.0000</td>\n",
       "                        <td id=\"T_cf149_row0_col2\" class=\"data row0 col2\" >0.7143</td>\n",
       "                        <td id=\"T_cf149_row0_col3\" class=\"data row0 col3\" >1.0000</td>\n",
       "                        <td id=\"T_cf149_row0_col4\" class=\"data row0 col4\" >0.8333</td>\n",
       "                        <td id=\"T_cf149_row0_col5\" class=\"data row0 col5\" >0.6452</td>\n",
       "                        <td id=\"T_cf149_row0_col6\" class=\"data row0 col6\" >0.6901</td>\n",
       "            </tr>\n",
       "            <tr>\n",
       "                        <th id=\"T_cf149_level0_row1\" class=\"row_heading level0 row1\" >1</th>\n",
       "                        <td id=\"T_cf149_row1_col0\" class=\"data row1 col0\" >1.0000</td>\n",
       "                        <td id=\"T_cf149_row1_col1\" class=\"data row1 col1\" >1.0000</td>\n",
       "                        <td id=\"T_cf149_row1_col2\" class=\"data row1 col2\" >1.0000</td>\n",
       "                        <td id=\"T_cf149_row1_col3\" class=\"data row1 col3\" >1.0000</td>\n",
       "                        <td id=\"T_cf149_row1_col4\" class=\"data row1 col4\" >1.0000</td>\n",
       "                        <td id=\"T_cf149_row1_col5\" class=\"data row1 col5\" >1.0000</td>\n",
       "                        <td id=\"T_cf149_row1_col6\" class=\"data row1 col6\" >1.0000</td>\n",
       "            </tr>\n",
       "            <tr>\n",
       "                        <th id=\"T_cf149_level0_row2\" class=\"row_heading level0 row2\" >2</th>\n",
       "                        <td id=\"T_cf149_row2_col0\" class=\"data row2 col0\" >0.9000</td>\n",
       "                        <td id=\"T_cf149_row2_col1\" class=\"data row2 col1\" >0.8810</td>\n",
       "                        <td id=\"T_cf149_row2_col2\" class=\"data row2 col2\" >0.8571</td>\n",
       "                        <td id=\"T_cf149_row2_col3\" class=\"data row2 col3\" >1.0000</td>\n",
       "                        <td id=\"T_cf149_row2_col4\" class=\"data row2 col4\" >0.9231</td>\n",
       "                        <td id=\"T_cf149_row2_col5\" class=\"data row2 col5\" >0.7826</td>\n",
       "                        <td id=\"T_cf149_row2_col6\" class=\"data row2 col6\" >0.8018</td>\n",
       "            </tr>\n",
       "            <tr>\n",
       "                        <th id=\"T_cf149_level0_row3\" class=\"row_heading level0 row3\" >3</th>\n",
       "                        <td id=\"T_cf149_row3_col0\" class=\"data row3 col0\" >0.9000</td>\n",
       "                        <td id=\"T_cf149_row3_col1\" class=\"data row3 col1\" >0.9524</td>\n",
       "                        <td id=\"T_cf149_row3_col2\" class=\"data row3 col2\" >1.0000</td>\n",
       "                        <td id=\"T_cf149_row3_col3\" class=\"data row3 col3\" >0.8750</td>\n",
       "                        <td id=\"T_cf149_row3_col4\" class=\"data row3 col4\" >0.9333</td>\n",
       "                        <td id=\"T_cf149_row3_col5\" class=\"data row3 col5\" >0.7368</td>\n",
       "                        <td id=\"T_cf149_row3_col6\" class=\"data row3 col6\" >0.7638</td>\n",
       "            </tr>\n",
       "            <tr>\n",
       "                        <th id=\"T_cf149_level0_row4\" class=\"row_heading level0 row4\" >4</th>\n",
       "                        <td id=\"T_cf149_row4_col0\" class=\"data row4 col0\" >0.8000</td>\n",
       "                        <td id=\"T_cf149_row4_col1\" class=\"data row4 col1\" >1.0000</td>\n",
       "                        <td id=\"T_cf149_row4_col2\" class=\"data row4 col2\" >1.0000</td>\n",
       "                        <td id=\"T_cf149_row4_col3\" class=\"data row4 col3\" >0.7500</td>\n",
       "                        <td id=\"T_cf149_row4_col4\" class=\"data row4 col4\" >0.8571</td>\n",
       "                        <td id=\"T_cf149_row4_col5\" class=\"data row4 col5\" >0.5455</td>\n",
       "                        <td id=\"T_cf149_row4_col6\" class=\"data row4 col6\" >0.6124</td>\n",
       "            </tr>\n",
       "            <tr>\n",
       "                        <th id=\"T_cf149_level0_row5\" class=\"row_heading level0 row5\" >Mean</th>\n",
       "                        <td id=\"T_cf149_row5_col0\" class=\"data row5 col0\" >0.8836</td>\n",
       "                        <td id=\"T_cf149_row5_col1\" class=\"data row5 col1\" >0.9667</td>\n",
       "                        <td id=\"T_cf149_row5_col2\" class=\"data row5 col2\" >0.9143</td>\n",
       "                        <td id=\"T_cf149_row5_col3\" class=\"data row5 col3\" >0.9250</td>\n",
       "                        <td id=\"T_cf149_row5_col4\" class=\"data row5 col4\" >0.9094</td>\n",
       "                        <td id=\"T_cf149_row5_col5\" class=\"data row5 col5\" >0.7420</td>\n",
       "                        <td id=\"T_cf149_row5_col6\" class=\"data row5 col6\" >0.7736</td>\n",
       "            </tr>\n",
       "            <tr>\n",
       "                        <th id=\"T_cf149_level0_row6\" class=\"row_heading level0 row6\" >Std</th>\n",
       "                        <td id=\"T_cf149_row6_col0\" class=\"data row6 col0\" >0.0712</td>\n",
       "                        <td id=\"T_cf149_row6_col1\" class=\"data row6 col1\" >0.0467</td>\n",
       "                        <td id=\"T_cf149_row6_col2\" class=\"data row6 col2\" >0.1143</td>\n",
       "                        <td id=\"T_cf149_row6_col3\" class=\"data row6 col3\" >0.1000</td>\n",
       "                        <td id=\"T_cf149_row6_col4\" class=\"data row6 col4\" >0.0591</td>\n",
       "                        <td id=\"T_cf149_row6_col5\" class=\"data row6 col5\" >0.1525</td>\n",
       "                        <td id=\"T_cf149_row6_col6\" class=\"data row6 col6\" >0.1305</td>\n",
       "            </tr>\n",
       "    </tbody></table>"
      ],
      "text/plain": [
       "<pandas.io.formats.style.Styler at 0x1c4f4a8ed88>"
      ]
     },
     "metadata": {},
     "output_type": "display_data"
    },
    {
     "data": {
      "text/html": [
       "<style  type=\"text/css\" >\n",
       "</style><table id=\"T_f57f9_\" ><thead>    <tr>        <th class=\"blank level0\" ></th>        <th class=\"col_heading level0 col0\" >Model</th>        <th class=\"col_heading level0 col1\" >Accuracy</th>        <th class=\"col_heading level0 col2\" >AUC</th>        <th class=\"col_heading level0 col3\" >Recall</th>        <th class=\"col_heading level0 col4\" >Prec.</th>        <th class=\"col_heading level0 col5\" >F1</th>        <th class=\"col_heading level0 col6\" >Kappa</th>        <th class=\"col_heading level0 col7\" >MCC</th>    </tr></thead><tbody>\n",
       "                <tr>\n",
       "                        <th id=\"T_f57f9_level0_row0\" class=\"row_heading level0 row0\" >0</th>\n",
       "                        <td id=\"T_f57f9_row0_col0\" class=\"data row0 col0\" >Random Forest Classifier</td>\n",
       "                        <td id=\"T_f57f9_row0_col1\" class=\"data row0 col1\" >0.7857</td>\n",
       "                        <td id=\"T_f57f9_row0_col2\" class=\"data row0 col2\" >0.8125</td>\n",
       "                        <td id=\"T_f57f9_row0_col3\" class=\"data row0 col3\" >0.8333</td>\n",
       "                        <td id=\"T_f57f9_row0_col4\" class=\"data row0 col4\" >0.7143</td>\n",
       "                        <td id=\"T_f57f9_row0_col5\" class=\"data row0 col5\" >0.7692</td>\n",
       "                        <td id=\"T_f57f9_row0_col6\" class=\"data row0 col6\" >0.5714</td>\n",
       "                        <td id=\"T_f57f9_row0_col7\" class=\"data row0 col7\" >0.5774</td>\n",
       "            </tr>\n",
       "    </tbody></table>"
      ],
      "text/plain": [
       "<pandas.io.formats.style.Styler at 0x1c4fc101f08>"
      ]
     },
     "metadata": {},
     "output_type": "display_data"
    },
    {
     "data": {
      "text/html": [
       "<div>\n",
       "<style scoped>\n",
       "    .dataframe tbody tr th:only-of-type {\n",
       "        vertical-align: middle;\n",
       "    }\n",
       "\n",
       "    .dataframe tbody tr th {\n",
       "        vertical-align: top;\n",
       "    }\n",
       "\n",
       "    .dataframe thead th {\n",
       "        text-align: right;\n",
       "    }\n",
       "</style>\n",
       "<table border=\"1\" class=\"dataframe\">\n",
       "  <thead>\n",
       "    <tr style=\"text-align: right;\">\n",
       "      <th></th>\n",
       "      <th>EE_B(s)</th>\n",
       "      <th>Mor04s</th>\n",
       "      <th>CATS2D_03_AL</th>\n",
       "      <th>active</th>\n",
       "      <th>Label</th>\n",
       "      <th>Score</th>\n",
       "    </tr>\n",
       "  </thead>\n",
       "  <tbody>\n",
       "    <tr>\n",
       "      <th>0</th>\n",
       "      <td>-0.234570</td>\n",
       "      <td>-0.591072</td>\n",
       "      <td>0.619516</td>\n",
       "      <td>1</td>\n",
       "      <td>1</td>\n",
       "      <td>0.5863</td>\n",
       "    </tr>\n",
       "    <tr>\n",
       "      <th>1</th>\n",
       "      <td>-0.221482</td>\n",
       "      <td>0.198355</td>\n",
       "      <td>-0.428121</td>\n",
       "      <td>1</td>\n",
       "      <td>1</td>\n",
       "      <td>0.7959</td>\n",
       "    </tr>\n",
       "    <tr>\n",
       "      <th>2</th>\n",
       "      <td>1.257415</td>\n",
       "      <td>1.297082</td>\n",
       "      <td>1.667152</td>\n",
       "      <td>0</td>\n",
       "      <td>0</td>\n",
       "      <td>0.9291</td>\n",
       "    </tr>\n",
       "    <tr>\n",
       "      <th>3</th>\n",
       "      <td>1.205065</td>\n",
       "      <td>1.221826</td>\n",
       "      <td>2.190970</td>\n",
       "      <td>0</td>\n",
       "      <td>0</td>\n",
       "      <td>0.9040</td>\n",
       "    </tr>\n",
       "    <tr>\n",
       "      <th>4</th>\n",
       "      <td>0.118795</td>\n",
       "      <td>-0.221569</td>\n",
       "      <td>0.095698</td>\n",
       "      <td>0</td>\n",
       "      <td>1</td>\n",
       "      <td>0.6560</td>\n",
       "    </tr>\n",
       "    <tr>\n",
       "      <th>5</th>\n",
       "      <td>-1.176876</td>\n",
       "      <td>-0.124490</td>\n",
       "      <td>-1.475757</td>\n",
       "      <td>1</td>\n",
       "      <td>1</td>\n",
       "      <td>0.8526</td>\n",
       "    </tr>\n",
       "    <tr>\n",
       "      <th>6</th>\n",
       "      <td>1.100364</td>\n",
       "      <td>0.100523</td>\n",
       "      <td>1.667152</td>\n",
       "      <td>0</td>\n",
       "      <td>0</td>\n",
       "      <td>0.9553</td>\n",
       "    </tr>\n",
       "    <tr>\n",
       "      <th>7</th>\n",
       "      <td>0.144970</td>\n",
       "      <td>-0.399171</td>\n",
       "      <td>0.095698</td>\n",
       "      <td>1</td>\n",
       "      <td>1</td>\n",
       "      <td>0.6215</td>\n",
       "    </tr>\n",
       "    <tr>\n",
       "      <th>8</th>\n",
       "      <td>3.456131</td>\n",
       "      <td>2.252823</td>\n",
       "      <td>-0.428121</td>\n",
       "      <td>1</td>\n",
       "      <td>0</td>\n",
       "      <td>0.7285</td>\n",
       "    </tr>\n",
       "    <tr>\n",
       "      <th>9</th>\n",
       "      <td>0.472160</td>\n",
       "      <td>0.356391</td>\n",
       "      <td>0.357607</td>\n",
       "      <td>0</td>\n",
       "      <td>0</td>\n",
       "      <td>0.8704</td>\n",
       "    </tr>\n",
       "    <tr>\n",
       "      <th>10</th>\n",
       "      <td>-1.307752</td>\n",
       "      <td>-0.515817</td>\n",
       "      <td>-0.428121</td>\n",
       "      <td>0</td>\n",
       "      <td>1</td>\n",
       "      <td>0.9214</td>\n",
       "    </tr>\n",
       "    <tr>\n",
       "      <th>11</th>\n",
       "      <td>-0.313096</td>\n",
       "      <td>-0.571506</td>\n",
       "      <td>-0.428121</td>\n",
       "      <td>1</td>\n",
       "      <td>1</td>\n",
       "      <td>1.0000</td>\n",
       "    </tr>\n",
       "    <tr>\n",
       "      <th>12</th>\n",
       "      <td>0.131883</td>\n",
       "      <td>-0.299834</td>\n",
       "      <td>0.357607</td>\n",
       "      <td>0</td>\n",
       "      <td>0</td>\n",
       "      <td>0.5484</td>\n",
       "    </tr>\n",
       "    <tr>\n",
       "      <th>13</th>\n",
       "      <td>1.296678</td>\n",
       "      <td>0.935856</td>\n",
       "      <td>1.667152</td>\n",
       "      <td>0</td>\n",
       "      <td>0</td>\n",
       "      <td>0.9690</td>\n",
       "    </tr>\n",
       "  </tbody>\n",
       "</table>\n",
       "</div>"
      ],
      "text/plain": [
       "     EE_B(s)    Mor04s  CATS2D_03_AL  active  Label   Score\n",
       "0  -0.234570 -0.591072      0.619516       1      1  0.5863\n",
       "1  -0.221482  0.198355     -0.428121       1      1  0.7959\n",
       "2   1.257415  1.297082      1.667152       0      0  0.9291\n",
       "3   1.205065  1.221826      2.190970       0      0  0.9040\n",
       "4   0.118795 -0.221569      0.095698       0      1  0.6560\n",
       "5  -1.176876 -0.124490     -1.475757       1      1  0.8526\n",
       "6   1.100364  0.100523      1.667152       0      0  0.9553\n",
       "7   0.144970 -0.399171      0.095698       1      1  0.6215\n",
       "8   3.456131  2.252823     -0.428121       1      0  0.7285\n",
       "9   0.472160  0.356391      0.357607       0      0  0.8704\n",
       "10 -1.307752 -0.515817     -0.428121       0      1  0.9214\n",
       "11 -0.313096 -0.571506     -0.428121       1      1  1.0000\n",
       "12  0.131883 -0.299834      0.357607       0      0  0.5484\n",
       "13  1.296678  0.935856      1.667152       0      0  0.9690"
      ]
     },
     "execution_count": 8,
     "metadata": {},
     "output_type": "execute_result"
    }
   ],
   "source": [
    "rf = create_model('rf')\n",
    "tunedrf = tune_model(rf, n_iter = 1000,  search_library = 'optuna', optimize = 'AUC')\n",
    "predict_model(tunedrf)"
   ]
  },
  {
   "cell_type": "code",
   "execution_count": 9,
   "metadata": {},
   "outputs": [
    {
     "data": {
      "text/html": [
       "<style  type=\"text/css\" >\n",
       "#T_75088_row5_col0,#T_75088_row5_col1,#T_75088_row5_col2,#T_75088_row5_col3,#T_75088_row5_col4,#T_75088_row5_col5,#T_75088_row5_col6{\n",
       "            background:  yellow;\n",
       "        }</style><table id=\"T_75088_\" ><thead>    <tr>        <th class=\"blank level0\" ></th>        <th class=\"col_heading level0 col0\" >Accuracy</th>        <th class=\"col_heading level0 col1\" >AUC</th>        <th class=\"col_heading level0 col2\" >Recall</th>        <th class=\"col_heading level0 col3\" >Prec.</th>        <th class=\"col_heading level0 col4\" >F1</th>        <th class=\"col_heading level0 col5\" >Kappa</th>        <th class=\"col_heading level0 col6\" >MCC</th>    </tr>    <tr>        <th class=\"index_name level0\" >Fold</th>        <th class=\"blank\" ></th>        <th class=\"blank\" ></th>        <th class=\"blank\" ></th>        <th class=\"blank\" ></th>        <th class=\"blank\" ></th>        <th class=\"blank\" ></th>        <th class=\"blank\" ></th>    </tr></thead><tbody>\n",
       "                <tr>\n",
       "                        <th id=\"T_75088_level0_row0\" class=\"row_heading level0 row0\" >0</th>\n",
       "                        <td id=\"T_75088_row0_col0\" class=\"data row0 col0\" >0.6364</td>\n",
       "                        <td id=\"T_75088_row0_col1\" class=\"data row0 col1\" >1.0000</td>\n",
       "                        <td id=\"T_75088_row0_col2\" class=\"data row0 col2\" >1.0000</td>\n",
       "                        <td id=\"T_75088_row0_col3\" class=\"data row0 col3\" >0.6364</td>\n",
       "                        <td id=\"T_75088_row0_col4\" class=\"data row0 col4\" >0.7778</td>\n",
       "                        <td id=\"T_75088_row0_col5\" class=\"data row0 col5\" >0.0000</td>\n",
       "                        <td id=\"T_75088_row0_col6\" class=\"data row0 col6\" >0.0000</td>\n",
       "            </tr>\n",
       "            <tr>\n",
       "                        <th id=\"T_75088_level0_row1\" class=\"row_heading level0 row1\" >1</th>\n",
       "                        <td id=\"T_75088_row1_col0\" class=\"data row1 col0\" >0.6364</td>\n",
       "                        <td id=\"T_75088_row1_col1\" class=\"data row1 col1\" >1.0000</td>\n",
       "                        <td id=\"T_75088_row1_col2\" class=\"data row1 col2\" >1.0000</td>\n",
       "                        <td id=\"T_75088_row1_col3\" class=\"data row1 col3\" >0.6364</td>\n",
       "                        <td id=\"T_75088_row1_col4\" class=\"data row1 col4\" >0.7778</td>\n",
       "                        <td id=\"T_75088_row1_col5\" class=\"data row1 col5\" >0.0000</td>\n",
       "                        <td id=\"T_75088_row1_col6\" class=\"data row1 col6\" >0.0000</td>\n",
       "            </tr>\n",
       "            <tr>\n",
       "                        <th id=\"T_75088_level0_row2\" class=\"row_heading level0 row2\" >2</th>\n",
       "                        <td id=\"T_75088_row2_col0\" class=\"data row2 col0\" >0.7000</td>\n",
       "                        <td id=\"T_75088_row2_col1\" class=\"data row2 col1\" >0.9048</td>\n",
       "                        <td id=\"T_75088_row2_col2\" class=\"data row2 col2\" >1.0000</td>\n",
       "                        <td id=\"T_75088_row2_col3\" class=\"data row2 col3\" >0.7000</td>\n",
       "                        <td id=\"T_75088_row2_col4\" class=\"data row2 col4\" >0.8235</td>\n",
       "                        <td id=\"T_75088_row2_col5\" class=\"data row2 col5\" >0.0000</td>\n",
       "                        <td id=\"T_75088_row2_col6\" class=\"data row2 col6\" >0.0000</td>\n",
       "            </tr>\n",
       "            <tr>\n",
       "                        <th id=\"T_75088_level0_row3\" class=\"row_heading level0 row3\" >3</th>\n",
       "                        <td id=\"T_75088_row3_col0\" class=\"data row3 col0\" >0.7000</td>\n",
       "                        <td id=\"T_75088_row3_col1\" class=\"data row3 col1\" >0.9524</td>\n",
       "                        <td id=\"T_75088_row3_col2\" class=\"data row3 col2\" >1.0000</td>\n",
       "                        <td id=\"T_75088_row3_col3\" class=\"data row3 col3\" >0.7000</td>\n",
       "                        <td id=\"T_75088_row3_col4\" class=\"data row3 col4\" >0.8235</td>\n",
       "                        <td id=\"T_75088_row3_col5\" class=\"data row3 col5\" >0.0000</td>\n",
       "                        <td id=\"T_75088_row3_col6\" class=\"data row3 col6\" >0.0000</td>\n",
       "            </tr>\n",
       "            <tr>\n",
       "                        <th id=\"T_75088_level0_row4\" class=\"row_heading level0 row4\" >4</th>\n",
       "                        <td id=\"T_75088_row4_col0\" class=\"data row4 col0\" >0.6000</td>\n",
       "                        <td id=\"T_75088_row4_col1\" class=\"data row4 col1\" >1.0000</td>\n",
       "                        <td id=\"T_75088_row4_col2\" class=\"data row4 col2\" >1.0000</td>\n",
       "                        <td id=\"T_75088_row4_col3\" class=\"data row4 col3\" >0.6000</td>\n",
       "                        <td id=\"T_75088_row4_col4\" class=\"data row4 col4\" >0.7500</td>\n",
       "                        <td id=\"T_75088_row4_col5\" class=\"data row4 col5\" >0.0000</td>\n",
       "                        <td id=\"T_75088_row4_col6\" class=\"data row4 col6\" >0.0000</td>\n",
       "            </tr>\n",
       "            <tr>\n",
       "                        <th id=\"T_75088_level0_row5\" class=\"row_heading level0 row5\" >Mean</th>\n",
       "                        <td id=\"T_75088_row5_col0\" class=\"data row5 col0\" >0.6545</td>\n",
       "                        <td id=\"T_75088_row5_col1\" class=\"data row5 col1\" >0.9714</td>\n",
       "                        <td id=\"T_75088_row5_col2\" class=\"data row5 col2\" >1.0000</td>\n",
       "                        <td id=\"T_75088_row5_col3\" class=\"data row5 col3\" >0.6545</td>\n",
       "                        <td id=\"T_75088_row5_col4\" class=\"data row5 col4\" >0.7905</td>\n",
       "                        <td id=\"T_75088_row5_col5\" class=\"data row5 col5\" >0.0000</td>\n",
       "                        <td id=\"T_75088_row5_col6\" class=\"data row5 col6\" >0.0000</td>\n",
       "            </tr>\n",
       "            <tr>\n",
       "                        <th id=\"T_75088_level0_row6\" class=\"row_heading level0 row6\" >Std</th>\n",
       "                        <td id=\"T_75088_row6_col0\" class=\"data row6 col0\" >0.0394</td>\n",
       "                        <td id=\"T_75088_row6_col1\" class=\"data row6 col1\" >0.0381</td>\n",
       "                        <td id=\"T_75088_row6_col2\" class=\"data row6 col2\" >0.0000</td>\n",
       "                        <td id=\"T_75088_row6_col3\" class=\"data row6 col3\" >0.0394</td>\n",
       "                        <td id=\"T_75088_row6_col4\" class=\"data row6 col4\" >0.0288</td>\n",
       "                        <td id=\"T_75088_row6_col5\" class=\"data row6 col5\" >0.0000</td>\n",
       "                        <td id=\"T_75088_row6_col6\" class=\"data row6 col6\" >0.0000</td>\n",
       "            </tr>\n",
       "    </tbody></table>"
      ],
      "text/plain": [
       "<pandas.io.formats.style.Styler at 0x1c483e227c8>"
      ]
     },
     "metadata": {},
     "output_type": "display_data"
    },
    {
     "data": {
      "text/html": [
       "<style  type=\"text/css\" >\n",
       "</style><table id=\"T_e4662_\" ><thead>    <tr>        <th class=\"blank level0\" ></th>        <th class=\"col_heading level0 col0\" >Model</th>        <th class=\"col_heading level0 col1\" >Accuracy</th>        <th class=\"col_heading level0 col2\" >AUC</th>        <th class=\"col_heading level0 col3\" >Recall</th>        <th class=\"col_heading level0 col4\" >Prec.</th>        <th class=\"col_heading level0 col5\" >F1</th>        <th class=\"col_heading level0 col6\" >Kappa</th>        <th class=\"col_heading level0 col7\" >MCC</th>    </tr></thead><tbody>\n",
       "                <tr>\n",
       "                        <th id=\"T_e4662_level0_row0\" class=\"row_heading level0 row0\" >0</th>\n",
       "                        <td id=\"T_e4662_row0_col0\" class=\"data row0 col0\" >Gradient Boosting Classifier</td>\n",
       "                        <td id=\"T_e4662_row0_col1\" class=\"data row0 col1\" >0.4286</td>\n",
       "                        <td id=\"T_e4662_row0_col2\" class=\"data row0 col2\" >0.8125</td>\n",
       "                        <td id=\"T_e4662_row0_col3\" class=\"data row0 col3\" >1.0000</td>\n",
       "                        <td id=\"T_e4662_row0_col4\" class=\"data row0 col4\" >0.4286</td>\n",
       "                        <td id=\"T_e4662_row0_col5\" class=\"data row0 col5\" >0.6000</td>\n",
       "                        <td id=\"T_e4662_row0_col6\" class=\"data row0 col6\" >0.0000</td>\n",
       "                        <td id=\"T_e4662_row0_col7\" class=\"data row0 col7\" >0.0000</td>\n",
       "            </tr>\n",
       "    </tbody></table>"
      ],
      "text/plain": [
       "<pandas.io.formats.style.Styler at 0x1c483e228c8>"
      ]
     },
     "metadata": {},
     "output_type": "display_data"
    },
    {
     "data": {
      "text/html": [
       "<div>\n",
       "<style scoped>\n",
       "    .dataframe tbody tr th:only-of-type {\n",
       "        vertical-align: middle;\n",
       "    }\n",
       "\n",
       "    .dataframe tbody tr th {\n",
       "        vertical-align: top;\n",
       "    }\n",
       "\n",
       "    .dataframe thead th {\n",
       "        text-align: right;\n",
       "    }\n",
       "</style>\n",
       "<table border=\"1\" class=\"dataframe\">\n",
       "  <thead>\n",
       "    <tr style=\"text-align: right;\">\n",
       "      <th></th>\n",
       "      <th>EE_B(s)</th>\n",
       "      <th>Mor04s</th>\n",
       "      <th>CATS2D_03_AL</th>\n",
       "      <th>active</th>\n",
       "      <th>Label</th>\n",
       "      <th>Score</th>\n",
       "    </tr>\n",
       "  </thead>\n",
       "  <tbody>\n",
       "    <tr>\n",
       "      <th>0</th>\n",
       "      <td>-0.234570</td>\n",
       "      <td>-0.591072</td>\n",
       "      <td>0.619516</td>\n",
       "      <td>1</td>\n",
       "      <td>1</td>\n",
       "      <td>0.6470</td>\n",
       "    </tr>\n",
       "    <tr>\n",
       "      <th>1</th>\n",
       "      <td>-0.221482</td>\n",
       "      <td>0.198355</td>\n",
       "      <td>-0.428121</td>\n",
       "      <td>1</td>\n",
       "      <td>1</td>\n",
       "      <td>0.6603</td>\n",
       "    </tr>\n",
       "    <tr>\n",
       "      <th>2</th>\n",
       "      <td>1.257415</td>\n",
       "      <td>1.297082</td>\n",
       "      <td>1.667152</td>\n",
       "      <td>0</td>\n",
       "      <td>1</td>\n",
       "      <td>0.6166</td>\n",
       "    </tr>\n",
       "    <tr>\n",
       "      <th>3</th>\n",
       "      <td>1.205065</td>\n",
       "      <td>1.221826</td>\n",
       "      <td>2.190970</td>\n",
       "      <td>0</td>\n",
       "      <td>1</td>\n",
       "      <td>0.6169</td>\n",
       "    </tr>\n",
       "    <tr>\n",
       "      <th>4</th>\n",
       "      <td>0.118795</td>\n",
       "      <td>-0.221569</td>\n",
       "      <td>0.095698</td>\n",
       "      <td>0</td>\n",
       "      <td>1</td>\n",
       "      <td>0.6572</td>\n",
       "    </tr>\n",
       "    <tr>\n",
       "      <th>5</th>\n",
       "      <td>-1.176876</td>\n",
       "      <td>-0.124490</td>\n",
       "      <td>-1.475757</td>\n",
       "      <td>1</td>\n",
       "      <td>1</td>\n",
       "      <td>0.6718</td>\n",
       "    </tr>\n",
       "    <tr>\n",
       "      <th>6</th>\n",
       "      <td>1.100364</td>\n",
       "      <td>0.100523</td>\n",
       "      <td>1.667152</td>\n",
       "      <td>0</td>\n",
       "      <td>1</td>\n",
       "      <td>0.6150</td>\n",
       "    </tr>\n",
       "    <tr>\n",
       "      <th>7</th>\n",
       "      <td>0.144970</td>\n",
       "      <td>-0.399171</td>\n",
       "      <td>0.095698</td>\n",
       "      <td>1</td>\n",
       "      <td>1</td>\n",
       "      <td>0.6572</td>\n",
       "    </tr>\n",
       "    <tr>\n",
       "      <th>8</th>\n",
       "      <td>3.456131</td>\n",
       "      <td>2.252823</td>\n",
       "      <td>-0.428121</td>\n",
       "      <td>1</td>\n",
       "      <td>1</td>\n",
       "      <td>0.6339</td>\n",
       "    </tr>\n",
       "    <tr>\n",
       "      <th>9</th>\n",
       "      <td>0.472160</td>\n",
       "      <td>0.356391</td>\n",
       "      <td>0.357607</td>\n",
       "      <td>0</td>\n",
       "      <td>1</td>\n",
       "      <td>0.6221</td>\n",
       "    </tr>\n",
       "    <tr>\n",
       "      <th>10</th>\n",
       "      <td>-1.307752</td>\n",
       "      <td>-0.515817</td>\n",
       "      <td>-0.428121</td>\n",
       "      <td>0</td>\n",
       "      <td>1</td>\n",
       "      <td>0.6744</td>\n",
       "    </tr>\n",
       "    <tr>\n",
       "      <th>11</th>\n",
       "      <td>-0.313096</td>\n",
       "      <td>-0.571506</td>\n",
       "      <td>-0.428121</td>\n",
       "      <td>1</td>\n",
       "      <td>1</td>\n",
       "      <td>0.6779</td>\n",
       "    </tr>\n",
       "    <tr>\n",
       "      <th>12</th>\n",
       "      <td>0.131883</td>\n",
       "      <td>-0.299834</td>\n",
       "      <td>0.357607</td>\n",
       "      <td>0</td>\n",
       "      <td>1</td>\n",
       "      <td>0.6423</td>\n",
       "    </tr>\n",
       "    <tr>\n",
       "      <th>13</th>\n",
       "      <td>1.296678</td>\n",
       "      <td>0.935856</td>\n",
       "      <td>1.667152</td>\n",
       "      <td>0</td>\n",
       "      <td>1</td>\n",
       "      <td>0.6146</td>\n",
       "    </tr>\n",
       "  </tbody>\n",
       "</table>\n",
       "</div>"
      ],
      "text/plain": [
       "     EE_B(s)    Mor04s  CATS2D_03_AL  active  Label   Score\n",
       "0  -0.234570 -0.591072      0.619516       1      1  0.6470\n",
       "1  -0.221482  0.198355     -0.428121       1      1  0.6603\n",
       "2   1.257415  1.297082      1.667152       0      1  0.6166\n",
       "3   1.205065  1.221826      2.190970       0      1  0.6169\n",
       "4   0.118795 -0.221569      0.095698       0      1  0.6572\n",
       "5  -1.176876 -0.124490     -1.475757       1      1  0.6718\n",
       "6   1.100364  0.100523      1.667152       0      1  0.6150\n",
       "7   0.144970 -0.399171      0.095698       1      1  0.6572\n",
       "8   3.456131  2.252823     -0.428121       1      1  0.6339\n",
       "9   0.472160  0.356391      0.357607       0      1  0.6221\n",
       "10 -1.307752 -0.515817     -0.428121       0      1  0.6744\n",
       "11 -0.313096 -0.571506     -0.428121       1      1  0.6779\n",
       "12  0.131883 -0.299834      0.357607       0      1  0.6423\n",
       "13  1.296678  0.935856      1.667152       0      1  0.6146"
      ]
     },
     "execution_count": 9,
     "metadata": {},
     "output_type": "execute_result"
    }
   ],
   "source": [
    "gbc = create_model('gbc')\n",
    "tunedgbc = tune_model(gbc, n_iter = 1000,  search_library = 'optuna', optimize = 'AUC')\n",
    "predict_model(tunedgbc)"
   ]
  },
  {
   "cell_type": "code",
   "execution_count": null,
   "metadata": {},
   "outputs": [],
   "source": []
  }
 ],
 "metadata": {
  "kernelspec": {
   "display_name": "Python 3",
   "language": "python",
   "name": "python3"
  },
  "language_info": {
   "codemirror_mode": {
    "name": "ipython",
    "version": 3
   },
   "file_extension": ".py",
   "mimetype": "text/x-python",
   "name": "python",
   "nbconvert_exporter": "python",
   "pygments_lexer": "ipython3",
   "version": "3.7.6"
  }
 },
 "nbformat": 4,
 "nbformat_minor": 4
}
