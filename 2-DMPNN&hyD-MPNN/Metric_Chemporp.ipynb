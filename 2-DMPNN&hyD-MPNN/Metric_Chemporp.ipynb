{
 "cells": [
  {
   "cell_type": "code",
   "execution_count": null,
   "id": "a985b425",
   "metadata": {},
   "outputs": [],
   "source": [
    "import pandas as pd\n",
    "import numpy as np\n",
    "from sklearn.ensemble import RandomForestClassifier,RandomForestRegressor\n",
    "from sklearn.ensemble import GradientBoostingClassifier,GradientBoostingRegressor\n",
    "from sklearn.metrics import roc_curve,roc_auc_score, confusion_matrix, precision_recall_curve, auc, mean_squared_error, \\\n",
    "    r2_score, mean_absolute_error,cohen_kappa_score,accuracy_score,f1_score,matthews_corrcoef,precision_score,recall_score"
   ]
  },
  {
   "cell_type": "code",
   "execution_count": null,
   "id": "8230e7d2",
   "metadata": {},
   "outputs": [],
   "source": [
    "def statistical(y_true, y_pred, y_pro):\n",
    "    c_mat = confusion_matrix(y_true, y_pred)\n",
    "    tn, fp, fn, tp = list(c_mat.flatten())\n",
    "    se = tp / (tp + fn)\n",
    "    sp = tn / (tn + fp)\n",
    "    auc_prc = auc(precision_recall_curve(y_true, y_pro, pos_label=1)[1],\n",
    "                  precision_recall_curve(y_true, y_pro, pos_label=1)[0])\n",
    "    acc = (tp + tn) / (tn + fp + fn + tp)\n",
    "#     acc_skl = accuracy_score(y_true, y_pred)\n",
    "    auc_roc = roc_auc_score(y_true, y_pro)\n",
    "    recall = se\n",
    "#     recall_skl = recall_score(y_true, y_pred)\n",
    "    precision = tp / (tp + fp)\n",
    "#     precision_skl = precision_score(y_true, y_pred)\n",
    "    f1 = 2 * (precision * recall) / (precision + recall) # F1 = 2 * (precision * recall) / (precision + recall)\n",
    "#     f1_skl = f1_score(y_true, y_pred)\n",
    "    kappa = cohen_kappa_score(y_true,y_pred)\n",
    "    mcc = (tp * tn - fp * fn) / np.sqrt((tp + fp) * (tp + fn) * (tn + fp) * (tn + fn) + 1e-8)\n",
    "#     mcc_skl = matthews_corrcoef(y_true,y_pred)\n",
    "\n",
    "    scores_dict = {}\n",
    "    scores_dict['acc'] = acc\n",
    "    scores_dict['auc_roc'] = auc_roc\n",
    "    scores_dict['recall'] = recall\n",
    "    scores_dict['precision'] = precision\n",
    "    scores_dict['f1'] = f1\n",
    "    scores_dict['kappa'] = kappa\n",
    "    scores_dict['mcc'] = mcc \n",
    "    scores_dict['auc_prc'] = auc_prc\n",
    "    import collections\n",
    "    scores_dict = collections.OrderedDict(scores_dict)\n",
    "    \n",
    "    return scores_dict"
   ]
  },
  {
   "cell_type": "code",
   "execution_count": null,
   "id": "5912d592",
   "metadata": {},
   "outputs": [],
   "source": [
    "def GetPreditcTable(preDate,tureData,name):\n",
    "    repetitions = 10\n",
    "    predict_data =[] \n",
    "    pre_scores = []\n",
    "    smiles = tureData['smiles'].to_list()\n",
    "    y_true = tureData['label'].to_list()\n",
    "    y_pro_avg = preDate['label']\n",
    "    y_pred_avg = [1 if p > 0.5 else 0 for p in y_pro_avg]  \n",
    "    avg_scores_dict = statistical(y_true, y_pred_avg, y_pro_avg)\n",
    "    avg_scores_dict = pd.DataFrame(avg_scores_dict,index=['avg'])\n",
    "    for i in range(repetitions):\n",
    "        y_pro = preDate['label_model_'+str(i)]\n",
    "        y_pred = [1 if p > 0.5 else 0 for p in y_pro]\n",
    "        predict_data.append([smiles, y_true, y_pred])\n",
    "        scores_dict = statistical(y_true, y_pred, y_pro)\n",
    "        pre_scores.append(scores_dict)\n",
    "   \n",
    "    predict_data.append(['Average results of 10 models', y_true, y_pred_avg])\n",
    "    cols = ['smiles','Test', 'Individual_Predict']\n",
    "    result = pd.DataFrame(predict_data, columns=cols)\n",
    "    result.to_csv('Predict/'+name+'_Cal_Metric_Data_bak.csv',index = False)\n",
    "    \n",
    "    data_df = pd.DataFrame(pre_scores)\n",
    "    data_df.loc['Mean'] = data_df.mean()\n",
    "    data_df.loc['Std'] = data_df.std()\n",
    "    data_df = pd.concat([data_df, avg_scores_dict], axis=0)\n",
    "    data_df.to_csv('Predict/'+name+'_Cal_Metric_Summarize.csv',index = False)\n",
    "    return data_df"
   ]
  },
  {
   "cell_type": "code",
   "execution_count": null,
   "id": "56a22257",
   "metadata": {},
   "outputs": [],
   "source": [
    "resultFileList = ['AR_6108','AR_6108_Rdkit2d','AR_6108_Alva','AR_6108_FP1024','AR_6108_Mordred','AR_6108_Padel']\n",
    "tureData = pd.read_csv('')"
   ]
  },
  {
   "cell_type": "code",
   "execution_count": null,
   "id": "90a6b216",
   "metadata": {},
   "outputs": [],
   "source": [
    "name = resultFileList[0]\n",
    "print(name)\n",
    "preDate = pd.read_csv('Predict/'+name+'_Predict_Result.csv')\n",
    "resultContainsNoDescriptors = GetPreditcTable(preDate,tureData,name)\n",
    "resultContainsNoDescriptors"
   ]
  },
  {
   "cell_type": "code",
   "execution_count": null,
   "id": "faa50697",
   "metadata": {},
   "outputs": [],
   "source": [
    "name = resultFileList[1]\n",
    "print(name)\n",
    "preDate = pd.read_csv('Predict/'+name+'_Predict_Result.csv')\n",
    "resultContainsNoDescriptors = GetPreditcTable(preDate,tureData,name)\n",
    "resultContainsNoDescriptors"
   ]
  },
  {
   "cell_type": "code",
   "execution_count": null,
   "id": "4590bd30",
   "metadata": {},
   "outputs": [],
   "source": [
    "name = resultFileList[2]\n",
    "print(name)\n",
    "preDate = pd.read_csv('Predict/'+name+'_Predict_Result.csv')\n",
    "resultContainsNoDescriptors = GetPreditcTable(preDate,tureData,name)\n",
    "resultContainsNoDescriptors"
   ]
  },
  {
   "cell_type": "code",
   "execution_count": null,
   "id": "1219b21f",
   "metadata": {},
   "outputs": [],
   "source": [
    "name = resultFileList[3]\n",
    "print(name)\n",
    "preDate = pd.read_csv('Predict/'+name+'_Predict_Result.csv')\n",
    "resultContainsNoDescriptors = GetPreditcTable(preDate,tureData,name)\n",
    "resultContainsNoDescriptors"
   ]
  },
  {
   "cell_type": "code",
   "execution_count": null,
   "id": "7e1f881f",
   "metadata": {},
   "outputs": [],
   "source": [
    "name = resultFileList[4]\n",
    "print(name)\n",
    "preDate = pd.read_csv('Predict/'+name+'_Predict_Result.csv')\n",
    "resultContainsNoDescriptors = GetPreditcTable(preDate,tureData,name)\n",
    "resultContainsNoDescriptors"
   ]
  },
  {
   "cell_type": "code",
   "execution_count": null,
   "id": "0c88e120",
   "metadata": {},
   "outputs": [],
   "source": [
    "name = resultFileList[5]\n",
    "print(name)\n",
    "preDate = pd.read_csv('Predict/'+name+'_Predict_Result.csv')\n",
    "resultContainsNoDescriptors = GetPreditcTable(preDate,tureData,name)\n",
    "resultContainsNoDescriptors"
   ]
  },
  {
   "cell_type": "code",
   "execution_count": null,
   "id": "a956370c",
   "metadata": {},
   "outputs": [],
   "source": [
    "name = 'AR_6108_MACC'\n",
    "print(name)\n",
    "preDate = pd.read_csv('Predict/'+name+'_Predict_Result.csv')\n",
    "resultContainsNoDescriptors = GetPreditcTable(preDate,tureData,name)\n",
    "resultContainsNoDescriptors"
   ]
  },
  {
   "cell_type": "code",
   "execution_count": null,
   "id": "d50a287d",
   "metadata": {},
   "outputs": [],
   "source": [
    "name = 'AR_6108_PubChem'\n",
    "print(name)\n",
    "preDate = pd.read_csv('Predict/'+name+'_Predict_Result.csv')\n",
    "resultContainsNoDescriptors = GetPreditcTable(preDate,tureData,name)\n",
    "resultContainsNoDescriptors"
   ]
  },
  {
   "cell_type": "code",
   "execution_count": null,
   "id": "03899d8f",
   "metadata": {},
   "outputs": [],
   "source": []
  }
 ],
 "metadata": {
  "kernelspec": {
   "display_name": "Python 3.8.5 64-bit",
   "language": "python",
   "name": "python3"
  },
  "language_info": {
   "codemirror_mode": {
    "name": "ipython",
    "version": 3
   },
   "file_extension": ".py",
   "mimetype": "text/x-python",
   "name": "python",
   "nbconvert_exporter": "python",
   "pygments_lexer": "ipython3",
   "version": "3.8.5"
  },
  "vscode": {
   "interpreter": {
    "hash": "651aa032da6733035ad22364a32bbe31d47409d2b7e0323579a2c1f1e8e54f33"
   }
  }
 },
 "nbformat": 4,
 "nbformat_minor": 5
}
