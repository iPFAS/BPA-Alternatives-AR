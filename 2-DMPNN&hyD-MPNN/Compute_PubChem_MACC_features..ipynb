{
 "cells": [
  {
   "cell_type": "code",
   "execution_count": null,
   "id": "4300f3ba",
   "metadata": {},
   "outputs": [],
   "source": [
    "import pandas as pd\n",
    "from rdkit import rdBase, Chem, DataStructs\n",
    "from rdkit.Avalon import pyAvalonTools\n",
    "from rdkit.Chem import AllChem, Draw\n",
    "from rdkit.Chem.Fingerprints import FingerprintMols\n",
    "from rdkit.Chem.AtomPairs import Pairs, Torsions\n",
    "from rdkit.Chem.Draw import SimilarityMaps\n",
    "import rdkit"
   ]
  },
  {
   "cell_type": "code",
   "execution_count": null,
   "id": "ae112a99",
   "metadata": {},
   "outputs": [],
   "source": [
    "mol = Chem.MolFromSmiles('CCCCCC=CCCC(=O)NC1C(O)C(O)C(CO)OC1OC1=C2OC3=CC=C(C=C3Cl)C(OC3OC(CO)C(O)C(O)C3NC(C)=O)C3NC(=O)C(NC(=O)C4NC(=O)C5NC(=O)C(CC6=CC=C(OC1=CC4=C2)C(Cl)=C6)NC(=O)C(N)C1=CC=C(O)C(OC2=CC5=CC(O)=C2)=C1)C1=CC=C(O)C(=C1)C1=C(C=C(O)C=C1OC1OC(CO)C(O)C(O)C1O)C(NC3=O)C(O)=O')"
   ]
  },
  {
   "cell_type": "code",
   "execution_count": null,
   "id": "8f322ade",
   "metadata": {},
   "outputs": [],
   "source": [
    "fp = MACCSkeys.GenMACCSKeys(mol)\n",
    "a = pd.DataFrame({'MSCC':[int(b) for b in fp.ToBitString()]})"
   ]
  },
  {
   "cell_type": "code",
   "execution_count": null,
   "id": "90c09e10",
   "metadata": {},
   "outputs": [],
   "source": [
    "a.to_csv('test.csv',index=False)"
   ]
  },
  {
   "cell_type": "code",
   "execution_count": null,
   "id": "43ff8bef",
   "metadata": {},
   "outputs": [],
   "source": [
    "import pubchempy as pcp\n",
    "a = pcp.get_compounds('CCCCCC=CCCC(=O)NC1C(O)C(O)C(CO)OC1OC1=C2OC3=CC=C(C=C3Cl)C(OC3OC(CO)C(O)C(O)C3NC(C)=O)C3NC(=O)C(NC(=O)C4NC(=O)C5NC(=O)C(CC6=CC=C(OC1=CC4=C2)C(Cl)=C6)NC(=O)C(N)C1=CC=C(O)C(OC2=CC5=CC(O)=C2)=C1)C1=CC=C(O)C(=C1)C1=C(C=C(O)C=C1OC1OC(CO)C(O)C(O)C1O)C(NC3=O)C(O)=O', 'smiles')\n",
    "a"
   ]
  },
  {
   "cell_type": "code",
   "execution_count": null,
   "id": "15fd9fb4",
   "metadata": {},
   "outputs": [],
   "source": [
    "cou = pcp.Compound.from_cid(131887309)\n",
    "pubchem = cou.cactvs_fingerprint"
   ]
  },
  {
   "cell_type": "code",
   "execution_count": null,
   "id": "96f1da16",
   "metadata": {},
   "outputs": [],
   "source": [
    "a = pd.DataFrame({'pubchem':[int(b) for b in pubchem]})\n",
    "a"
   ]
  },
  {
   "cell_type": "code",
   "execution_count": null,
   "id": "024f5e65",
   "metadata": {},
   "outputs": [],
   "source": [
    "a.to_csv('test.csv',index=False)"
   ]
  },
  {
   "cell_type": "code",
   "execution_count": null,
   "id": "ec2b9e4f",
   "metadata": {},
   "outputs": [],
   "source": []
  }
 ],
 "metadata": {
  "kernelspec": {
   "display_name": "Python [conda env:chemprop]",
   "language": "python",
   "name": "conda-env-chemprop-py"
  },
  "language_info": {
   "codemirror_mode": {
    "name": "ipython",
    "version": 3
   },
   "file_extension": ".py",
   "mimetype": "text/x-python",
   "name": "python",
   "nbconvert_exporter": "python",
   "pygments_lexer": "ipython3",
   "version": "3.7.13"
  }
 },
 "nbformat": 4,
 "nbformat_minor": 5
}
